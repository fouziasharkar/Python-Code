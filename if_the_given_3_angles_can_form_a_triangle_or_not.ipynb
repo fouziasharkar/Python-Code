{
  "nbformat": 4,
  "nbformat_minor": 0,
  "metadata": {
    "colab": {
      "provenance": [],
      "authorship_tag": "ABX9TyNSwCbQs3VPsRmuncNyJuIK",
      "include_colab_link": true
    },
    "kernelspec": {
      "name": "python3",
      "display_name": "Python 3"
    },
    "language_info": {
      "name": "python"
    }
  },
  "cells": [
    {
      "cell_type": "markdown",
      "metadata": {
        "id": "view-in-github",
        "colab_type": "text"
      },
      "source": [
        "<a href=\"https://colab.research.google.com/github/fouziasharkar/Python-Code/blob/main/if_the_given_3_angles_can_form_a_triangle_or_not.ipynb\" target=\"_parent\"><img src=\"https://colab.research.google.com/assets/colab-badge.svg\" alt=\"Open In Colab\"/></a>"
      ]
    },
    {
      "cell_type": "code",
      "execution_count": 1,
      "metadata": {
        "colab": {
          "base_uri": "https://localhost:8080/"
        },
        "id": "u0chx5qOp3J1",
        "outputId": "16f3ba79-0f84-4dda-8d42-cf38673f77dd"
      },
      "outputs": [
        {
          "output_type": "stream",
          "name": "stdout",
          "text": [
            "enter a number: 10\n",
            "enter a number: 50\n",
            "enter a number: 40\n",
            "It is not a triangle\n"
          ]
        }
      ],
      "source": [
        "# To make a triangle there are three conditions:\n",
        "# 1. All angles are greater than zero\n",
        "# 2. sum of three angles should be 180\n",
        "# 3. Sum of any two angles should be greater than the third angle\n",
        "\n",
        "a = float(input('enter a number: '))\n",
        "b = float(input('enter a number: '))\n",
        "c = float(input('enter a number: '))\n",
        "\n",
        "sum = a+b+c\n",
        "\n",
        "if  a>0 and b>0 and c>0:\n",
        "  if sum == 180 and a+b>c and b+c>a and a+c>b:\n",
        "    print('It is a triangle')\n",
        "  else:\n",
        "    print('It is not a triangle')\n",
        "else:\n",
        "  print('Invalid input')40\n",
        ""
      ]
    }
  ]
}
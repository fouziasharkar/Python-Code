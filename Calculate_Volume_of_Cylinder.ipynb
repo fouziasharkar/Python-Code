{
  "nbformat": 4,
  "nbformat_minor": 0,
  "metadata": {
    "colab": {
      "provenance": [],
      "authorship_tag": "ABX9TyOEAUCruD3dVjc8WdF82Hd2",
      "include_colab_link": true
    },
    "kernelspec": {
      "name": "python3",
      "display_name": "Python 3"
    },
    "language_info": {
      "name": "python"
    }
  },
  "cells": [
    {
      "cell_type": "markdown",
      "metadata": {
        "id": "view-in-github",
        "colab_type": "text"
      },
      "source": [
        "<a href=\"https://colab.research.google.com/github/fouziasharkar/Python-Code/blob/main/Calculate_Volume_of_Cylinder.ipynb\" target=\"_parent\"><img src=\"https://colab.research.google.com/assets/colab-badge.svg\" alt=\"Open In Colab\"/></a>"
      ]
    },
    {
      "cell_type": "code",
      "execution_count": 2,
      "metadata": {
        "id": "da9UBowgrtrE",
        "colab": {
          "base_uri": "https://localhost:8080/"
        },
        "outputId": "b629049b-e6b6-4b1b-9d78-174833f3e072"
      },
      "outputs": [
        {
          "output_type": "stream",
          "name": "stdout",
          "text": [
            "enter radius: 2\n",
            "enter height: 3\n",
            "37.6992\n"
          ]
        }
      ],
      "source": [
        "#Calculate Volume of Cylinder\n",
        "#formula: v=pi*r^2*h\n",
        "\n",
        "r = float(input('enter radius: '))\n",
        "h = float(input('enter height: '))\n",
        "\n",
        "v = 3.1416*(r**2)*h\n",
        "print(v)"
      ]
    },
    {
      "cell_type": "code",
      "source": [
        "# a given number is divisible by both 3 & 6\n",
        "\n",
        "num = int(input('Enter a number: '))\n",
        "\n",
        "if num%3==0 and num%6==0:\n",
        "  print(num, 'is divisible by both 3 & 6')\n",
        "else:\n",
        "  print('gulti')"
      ],
      "metadata": {
        "colab": {
          "base_uri": "https://localhost:8080/"
        },
        "id": "yjj9mkobK5C2",
        "outputId": "06dfd8b7-34c3-4995-b590-d08c73130b38"
      },
      "execution_count": 4,
      "outputs": [
        {
          "output_type": "stream",
          "name": "stdout",
          "text": [
            "Enter a number: 18\n",
            "18 is divisible by both 3 & 6\n"
          ]
        }
      ]
    }
  ]
}
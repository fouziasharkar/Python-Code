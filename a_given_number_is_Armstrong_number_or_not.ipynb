{
  "nbformat": 4,
  "nbformat_minor": 0,
  "metadata": {
    "colab": {
      "provenance": [],
      "authorship_tag": "ABX9TyO8RPQtd2n3ttNlTkb//LDe",
      "include_colab_link": true
    },
    "kernelspec": {
      "name": "python3",
      "display_name": "Python 3"
    },
    "language_info": {
      "name": "python"
    }
  },
  "cells": [
    {
      "cell_type": "markdown",
      "metadata": {
        "id": "view-in-github",
        "colab_type": "text"
      },
      "source": [
        "<a href=\"https://colab.research.google.com/github/fouziasharkar/Python-Code/blob/main/a_given_number_is_Armstrong_number_or_not.ipynb\" target=\"_parent\"><img src=\"https://colab.research.google.com/assets/colab-badge.svg\" alt=\"Open In Colab\"/></a>"
      ]
    },
    {
      "cell_type": "code",
      "execution_count": 4,
      "metadata": {
        "colab": {
          "base_uri": "https://localhost:8080/"
        },
        "id": "Clo56nSgOzaQ",
        "outputId": "0b9623d9-c713-4104-e713-1d44d69adaea"
      },
      "outputs": [
        {
          "output_type": "stream",
          "name": "stdout",
          "text": [
            "Enter a number: 153\n",
            "total sum:  153\n",
            "153 is an Armstrong number\n"
          ]
        }
      ],
      "source": [
        "# a given number is Armstrong number or not\n",
        "\n",
        "num = input('Enter a number: ')\n",
        "sum = 0\n",
        "for i in num:\n",
        "  l = len(num)\n",
        "  sum = sum+ int(i)**l\n",
        "\n",
        "print('total sum: ',sum)\n",
        "if sum == int(num):\n",
        "  print(num,'is an Armstrong number')\n",
        "else:\n",
        "  print('Kuch nehi ata tujhe')"
      ]
    }
  ]
}
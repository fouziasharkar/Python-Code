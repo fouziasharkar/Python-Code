{
  "nbformat": 4,
  "nbformat_minor": 0,
  "metadata": {
    "colab": {
      "provenance": [],
      "authorship_tag": "ABX9TyPS3pix5/Qevp4wcG/sMieL",
      "include_colab_link": true
    },
    "kernelspec": {
      "name": "python3",
      "display_name": "Python 3"
    },
    "language_info": {
      "name": "python"
    }
  },
  "cells": [
    {
      "cell_type": "markdown",
      "metadata": {
        "id": "view-in-github",
        "colab_type": "text"
      },
      "source": [
        "<a href=\"https://colab.research.google.com/github/fouziasharkar/Python-Code/blob/main/multiply_two_numbers_without_using_the_'_'_operator_.ipynb\" target=\"_parent\"><img src=\"https://colab.research.google.com/assets/colab-badge.svg\" alt=\"Open In Colab\"/></a>"
      ]
    },
    {
      "cell_type": "code",
      "execution_count": 4,
      "metadata": {
        "colab": {
          "base_uri": "https://localhost:8080/"
        },
        "id": "YheVeqM5aq00",
        "outputId": "3594187d-d2c7-4388-e577-982a79ed2909"
      },
      "outputs": [
        {
          "output_type": "stream",
          "name": "stdout",
          "text": [
            "Enter a num: 4\n",
            "Enter a num: 5\n",
            "20\n"
          ]
        }
      ],
      "source": [
        "a = int(input('Enter a num: '))\n",
        "b = int(input('Enter a num: '))\n",
        "# 3*5 = 15 : 3+3+3+3+3\n",
        "sum =0\n",
        "for i in range(b):\n",
        "  sum = sum + a\n",
        "\n",
        "print(sum)"
      ]
    }
  ]
}
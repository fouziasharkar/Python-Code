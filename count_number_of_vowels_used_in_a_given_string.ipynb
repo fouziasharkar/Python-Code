{
  "nbformat": 4,
  "nbformat_minor": 0,
  "metadata": {
    "colab": {
      "provenance": [],
      "authorship_tag": "ABX9TyPMh3j/2qGFHzoTD95uAs2P",
      "include_colab_link": true
    },
    "kernelspec": {
      "name": "python3",
      "display_name": "Python 3"
    },
    "language_info": {
      "name": "python"
    }
  },
  "cells": [
    {
      "cell_type": "markdown",
      "metadata": {
        "id": "view-in-github",
        "colab_type": "text"
      },
      "source": [
        "<a href=\"https://colab.research.google.com/github/fouziasharkar/Python-Code/blob/main/count_number_of_vowels_used_in_a_given_string.ipynb\" target=\"_parent\"><img src=\"https://colab.research.google.com/assets/colab-badge.svg\" alt=\"Open In Colab\"/></a>"
      ]
    },
    {
      "cell_type": "code",
      "execution_count": 4,
      "metadata": {
        "colab": {
          "base_uri": "https://localhost:8080/"
        },
        "id": "am6Vy5Hozvif",
        "outputId": "5028133a-0a9c-4920-acf5-3d5e4174e445"
      },
      "outputs": [
        {
          "output_type": "stream",
          "name": "stdout",
          "text": [
            "number of vowels used in a given string: 8\n"
          ]
        }
      ],
      "source": [
        "a = 'ami j tomar sudhu j tomar'\n",
        "b = 'aeiouAEIOU'\n",
        "c = 0\n",
        "for i in a:\n",
        "  for j in b:\n",
        "    if i == j :\n",
        "      c+=1\n",
        "\n",
        "print('number of vowels used in a given string:',c)"
      ]
    }
  ]
}
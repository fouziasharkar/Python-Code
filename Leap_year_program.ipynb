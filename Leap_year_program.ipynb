{
  "nbformat": 4,
  "nbformat_minor": 0,
  "metadata": {
    "colab": {
      "provenance": [],
      "authorship_tag": "ABX9TyMX1wQ24GAsHPm7AqeJPvdj",
      "include_colab_link": true
    },
    "kernelspec": {
      "name": "python3",
      "display_name": "Python 3"
    },
    "language_info": {
      "name": "python"
    }
  },
  "cells": [
    {
      "cell_type": "markdown",
      "metadata": {
        "id": "view-in-github",
        "colab_type": "text"
      },
      "source": [
        "<a href=\"https://colab.research.google.com/github/fouziasharkar/Python-Code/blob/main/Leap_year_program.ipynb\" target=\"_parent\"><img src=\"https://colab.research.google.com/assets/colab-badge.svg\" alt=\"Open In Colab\"/></a>"
      ]
    },
    {
      "cell_type": "code",
      "execution_count": 3,
      "metadata": {
        "colab": {
          "base_uri": "https://localhost:8080/"
        },
        "id": "br195IMAkehr",
        "outputId": "35c5ad16-5041-4ca1-cc28-251cef8c3a81"
      },
      "outputs": [
        {
          "output_type": "stream",
          "name": "stdout",
          "text": [
            "Enter a year1900\n",
            "Not a leap year\n"
          ]
        }
      ],
      "source": [
        "#Leap year program\n",
        "# A year is a leap year if:\n",
        "    # Divisible by 4: The year must be divisible by 4 to be considered a leap year.\n",
        "    #Divisible by 100: If the year is divisible by 100, it is not a leap year unless:\n",
        "    #Divisible by 400: If the year is divisible by 400, it is a leap year..\n",
        "\n",
        "\n",
        "year = int(input('Enter a year'))\n",
        "\n",
        "if year%4 ==0 and year%400==0 and year%100==0:\n",
        "  print('It is a leap year')\n",
        "else :\n",
        "  print('Not a leap year')\n"
      ]
    }
  ]
}
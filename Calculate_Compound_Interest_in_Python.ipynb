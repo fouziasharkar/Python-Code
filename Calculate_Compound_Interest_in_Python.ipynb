{
  "nbformat": 4,
  "nbformat_minor": 0,
  "metadata": {
    "colab": {
      "provenance": [],
      "authorship_tag": "ABX9TyPwRIqFfCOBJnJeEstUV/cE",
      "include_colab_link": true
    },
    "kernelspec": {
      "name": "python3",
      "display_name": "Python 3"
    },
    "language_info": {
      "name": "python"
    }
  },
  "cells": [
    {
      "cell_type": "markdown",
      "metadata": {
        "id": "view-in-github",
        "colab_type": "text"
      },
      "source": [
        "<a href=\"https://colab.research.google.com/github/fouziasharkar/Python-Code/blob/main/Calculate_Compound_Interest_in_Python.ipynb\" target=\"_parent\"><img src=\"https://colab.research.google.com/assets/colab-badge.svg\" alt=\"Open In Colab\"/></a>"
      ]
    },
    {
      "cell_type": "markdown",
      "source": [
        "In the context of compound interest, n represents the number of times interest is compounded per time period. It is an essential factor in the compound interest formula because it determines how often interest is added to the principal amount.\n",
        "\n",
        "For example:\n",
        "\n",
        "If interest is compounded annually, n=1 (once per year).\n",
        "\n",
        "If interest is compounded semi-annually, n=2 (twice per year).\n",
        "\n",
        "If interest is compounded quarterly, n=4 (four times per year).\n",
        "\n",
        "If interest is compounded monthly, n=12 (twelve times per year).\n",
        "\n",
        "If interest is compounded daily, n=365 (once per day)."
      ],
      "metadata": {
        "id": "QK0VhRyzj1TZ"
      }
    },
    {
      "cell_type": "code",
      "execution_count": 3,
      "metadata": {
        "colab": {
          "base_uri": "https://localhost:8080/"
        },
        "id": "XAgBSl-Ob2Ma",
        "outputId": "0bfd9556-4c92-49a3-9cba-732e6c5993ce"
      },
      "outputs": [
        {
          "output_type": "stream",
          "name": "stdout",
          "text": [
            "Principal: 1000\n",
            "Interest-rate: 5\n",
            "Time in years: 10\n",
            "Number of times interest applied per time period: 1\n",
            "After 10 years, investment would grow to approximately 1628.894626777442\n"
          ]
        }
      ],
      "source": [
        "p = int(input('Principal: '))\n",
        "r = int(input('Interest-rate: '))\n",
        "t = int(input('Time: '))\n",
        "n = int(input('Number of times interest applied per time period: '))\n",
        "r =r/100\n",
        "#Compound Interest Formula\n",
        "total_money = p*(1+(r/n))**(n*t)\n",
        "\n",
        "print('After 10 years, investment would grow to approximately:',total_money)"
      ]
    },
    {
      "cell_type": "code",
      "source": [],
      "metadata": {
        "id": "EkQ1lfyxkO6f"
      },
      "execution_count": null,
      "outputs": []
    }
  ]
}
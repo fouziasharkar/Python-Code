{
  "nbformat": 4,
  "nbformat_minor": 0,
  "metadata": {
    "colab": {
      "provenance": []
    },
    "kernelspec": {
      "name": "python3",
      "display_name": "Python 3"
    },
    "language_info": {
      "name": "python"
    }
  },
  "cells": [
    {
      "cell_type": "markdown",
      "source": [
        "### `Problem-1:` Breaking the records.\n",
        "\n",
        "Maria plays college basketball and wants to go pro. Each season she maintains a record of her play. She tabulates the number of times she breaks her season record for most points and least points in a game. Points scored in the first game establish her record for the season, and she begins counting from there.\n",
        "\n",
        "**Example**\n",
        "\n",
        "*scores = [12, 24, 10, 24]*\n",
        "\n",
        "Scores are in the same order as the games played. She tabulates her results as follows:\n",
        "\n",
        "| Game | Score | Minimum | Maximum | Count Min | Count Max |\n",
        "| :--: | :--: | :--: | :--: | :--: | :--: |\n",
        "| 0 | 12 | 12 | 12 | 0 | 0 |\n",
        "| 1 | 24 | 12 | 24 | 0 | 1 |\n",
        "| 2 | 10 | 10 | 24 | 1 | 1 |\n",
        "| 3 | 24 | 10 | 24 | 1 | 1 |\n",
        "\n",
        "Given the scores for a season, determine the number of times Maria breaks her records for most and least points scored during the season.\n",
        "\n",
        "**Function Description**\n",
        "\n",
        "Complete the breakingRecords function in the editor below.\n",
        "\n",
        "breakingRecords has the following parameter(s):\n",
        "- n: no of games\n",
        "- int scores[n]: points scored per game\n",
        "\n",
        "**Returns**\n",
        "\n",
        "- int[2]: An array with the numbers of times she broke her records. Index 0 is for breaking most points records, and index 1 is for breaking least points records.\n",
        "\n",
        "**Input Format**\n",
        "\n",
        "n, the number of games.\n",
        "Integers array osf scores describing the respective values of $score_0, score_1, score_2, ..., score_{n-1}$.\n",
        "\n",
        "**Constraints**\n",
        "\n",
        "- $1 <= n <= 1000$\n",
        "- $0 <= scores[i] <= 10^8$\n",
        "\n",
        "**Sample Input 0**\n",
        "\n",
        "```bash\n",
        "10 5 20 20 4 5 2 25 1\n",
        "```\n",
        "\n",
        "**Sample Output 0**\n",
        "\n",
        "```bash\n",
        "2 4\n",
        "```\n",
        "\n",
        "**Explanation 0**\n",
        "\n",
        "The diagram below depicts the number of times Maria broke her best and worst records throughout the season:\n",
        "\n",
        "| Games | 0 | 1 | 2 | 3 | 4 | 5 | 6 | 7 | 8 |\n",
        "| :--: | :--: | :--: | :--: | :--: | :--: | :--: | :--: | :--: | :--: |\n",
        "| **Score** | 10 | 5 | 20 | 20 | 4 | 5 | 2 | 25 | 1 |\n",
        "| **Highest Score** | 10 | 10 | **20** | 20 | 20 | 20 | 20 | **25** | 25 |\n",
        "| **Lowest Score** | 10 | **5** | 5 | 5 | **4** | 4 | **2** | 2 | **1** |\n",
        "\n",
        "She broke her best record twice (after games 2 and 7) and her worst record four times (after games 1, 4, 6, and 8), so we print 2 4 as our answer. Note that she did not break her record for best score during game 3, as her score during that game was not strictly greater than her best record at the time."
      ],
      "metadata": {
        "id": "M8RAg95gpcAJ"
      }
    },
    {
      "cell_type": "code",
      "source": [
        "def breakingRecords(n,score):\n",
        "\n",
        "  max_count = 0 #1+1\n",
        "  min_count = 0 #1+1+1+1\n",
        "  temp = score[0]\n",
        "  a = temp\n",
        "  b = temp\n",
        "\n",
        "  for i in score:\n",
        "    if i > a:\n",
        "      max_count+=1\n",
        "      a = i\n",
        "    if i<b:\n",
        "      min_count+=1\n",
        "      b=i\n",
        "  print(max_count,min_count)\n",
        "\n",
        "\n",
        "\n",
        "scores = [10, 5, 20, 20, 4, 5, 2, 25, 1]\n",
        "n=len(scores)\n",
        "result = breakingRecords(n, scores)\n",
        "#print(result)"
      ],
      "metadata": {
        "id": "j2g5hExhOglu",
        "outputId": "0e0400de-9647-4fcd-b21a-0a6d3dbe99a5",
        "colab": {
          "base_uri": "https://localhost:8080/"
        }
      },
      "execution_count": null,
      "outputs": [
        {
          "output_type": "stream",
          "name": "stdout",
          "text": [
            "2 4\n"
          ]
        }
      ]
    },
    {
      "cell_type": "code",
      "source": [],
      "metadata": {
        "id": "JJQ0v-ZnOh8d"
      },
      "execution_count": null,
      "outputs": []
    },
    {
      "cell_type": "code",
      "source": [],
      "metadata": {
        "id": "y3uhF8aDOh_H"
      },
      "execution_count": null,
      "outputs": []
    },
    {
      "cell_type": "code",
      "source": [],
      "metadata": {
        "id": "hDG0ovWhOgoX"
      },
      "execution_count": null,
      "outputs": []
    }
  ]
}
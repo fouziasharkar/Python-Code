{
  "nbformat": 4,
  "nbformat_minor": 0,
  "metadata": {
    "colab": {
      "provenance": [],
      "authorship_tag": "ABX9TyP3mQPw9Al+EAsxRcPSsjoh",
      "include_colab_link": true
    },
    "kernelspec": {
      "name": "python3",
      "display_name": "Python 3"
    },
    "language_info": {
      "name": "python"
    }
  },
  "cells": [
    {
      "cell_type": "markdown",
      "metadata": {
        "id": "view-in-github",
        "colab_type": "text"
      },
      "source": [
        "<a href=\"https://colab.research.google.com/github/fouziasharkar/Python-Code/blob/main/whether_a_given_string_is_palindrom_or_not.ipynb\" target=\"_parent\"><img src=\"https://colab.research.google.com/assets/colab-badge.svg\" alt=\"Open In Colab\"/></a>"
      ]
    },
    {
      "cell_type": "code",
      "execution_count": 1,
      "metadata": {
        "colab": {
          "base_uri": "https://localhost:8080/"
        },
        "id": "cd8o_N8P1bpd",
        "outputId": "872f3dbf-95b3-4bde-b203-059d36223eab"
      },
      "outputs": [
        {
          "output_type": "stream",
          "name": "stdout",
          "text": [
            "enter a string: abba\n",
            "abba is a palindrome\n",
            "\n",
            "---------------------------------------------------\n",
            "\n",
            "Another logic using flag\n",
            "enter a string: abba\n",
            "Palindrome\n"
          ]
        }
      ],
      "source": [
        "string=input('enter a string: ')\n",
        "\n",
        "#Logic\n",
        "#ekhane duita string compare hocche. Because string[::-1] is creating another string\n",
        "if string == string[::-1]:\n",
        "  print(string, 'is a palindrome')\n",
        "else:\n",
        "  print(string, 'is not a palindrome')\n",
        "\n",
        "\n",
        "\n",
        "\n",
        "print()\n",
        "print('---------------------------------------------------')\n",
        "print()\n",
        "print('Another logic using flag')\n",
        "\n",
        "string=input('enter a string: ')\n",
        "\n",
        "flag = True\n",
        "for i in range(len(string)//2):\n",
        "  if string[i]!=string[len(string)-i-1]:\n",
        "    flag = False\n",
        "    print('Not a palindrome')\n",
        "    break\n",
        "\n",
        "if flag:\n",
        "  print('Palindrome')\n"
      ]
    }
  ]
}
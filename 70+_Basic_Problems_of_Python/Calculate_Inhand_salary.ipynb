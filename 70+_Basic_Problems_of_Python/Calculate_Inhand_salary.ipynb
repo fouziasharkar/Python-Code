{
  "nbformat": 4,
  "nbformat_minor": 0,
  "metadata": {
    "colab": {
      "provenance": [],
      "authorship_tag": "ABX9TyP8jskGp+MhAE98rjTSK+OD",
      "include_colab_link": true
    },
    "kernelspec": {
      "name": "python3",
      "display_name": "Python 3"
    },
    "language_info": {
      "name": "python"
    }
  },
  "cells": [
    {
      "cell_type": "markdown",
      "metadata": {
        "id": "view-in-github",
        "colab_type": "text"
      },
      "source": [
        "<a href=\"https://colab.research.google.com/github/fouziasharkar/Python-Code/blob/main/Calculate_Inhand_salary.ipynb\" target=\"_parent\"><img src=\"https://colab.research.google.com/assets/colab-badge.svg\" alt=\"Open In Colab\"/></a>"
      ]
    },
    {
      "cell_type": "markdown",
      "source": [
        "Write a program that will give you in hand monthly salary after deduction on CTC - HRA(10%), DA(5%), PF(3%) and taxes deduction as below:\n",
        "Salary(Lakhs) : Tax(%)\n",
        "\n",
        "Below 5 : 0%\n",
        "\n",
        "5-10 : 10%\n",
        "\n",
        "10-20 : 20%\n",
        "\n",
        "aboove 20 : 30%\n"
      ],
      "metadata": {
        "id": "GPwPpgGkS7Nm"
      }
    },
    {
      "cell_type": "code",
      "execution_count": 7,
      "metadata": {
        "colab": {
          "base_uri": "https://localhost:8080/"
        },
        "id": "7nxJFrQ_QmPq",
        "outputId": "ac23adb3-3423-4e0e-b917-baad2e0dde07"
      },
      "outputs": [
        {
          "output_type": "stream",
          "name": "stdout",
          "text": [
            "enter your salary: 60000000\n",
            "After tax deduction: 42000000.0\n",
            "Salary after other deductions 34440000.0\n",
            "Inhand salary monthly: 2870000.0\n"
          ]
        }
      ],
      "source": [
        "#Calculate Inhand salary\n",
        "\n",
        "salary = int(input('enter your salary: '))\n",
        "\n",
        "deduction = 18 #ctc+DA+PF\n",
        "\n",
        "if salary<500000:\n",
        "  salary = salary\n",
        "elif 500000<=salary<1000000:\n",
        "  tax = salary-salary*(10/100)\n",
        "  salary = tax\n",
        "elif 1000000<=salary<2000000:\n",
        "  tax = salary-salary*(20/100)\n",
        "  salary = tax\n",
        "elif salary>2000000:\n",
        "  tax = salary-salary*(30/100)\n",
        "  salary = tax\n",
        "\n",
        "print('After tax deduction:', salary)\n",
        "\n",
        "deduction = 18 #hra+da+pf\n",
        "\n",
        "salary = salary - salary*(18/100)\n",
        "print('Salary after other deductions',salary)\n",
        "\n",
        "monthly_salary = salary/12\n",
        "print('Inhand salary monthly:',monthly_salary)"
      ]
    }
  ]
}
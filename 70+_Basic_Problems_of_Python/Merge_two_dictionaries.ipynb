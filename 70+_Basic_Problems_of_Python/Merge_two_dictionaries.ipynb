{
  "nbformat": 4,
  "nbformat_minor": 0,
  "metadata": {
    "colab": {
      "provenance": [],
      "authorship_tag": "ABX9TyOZfImKvgz3wd/3XGQ+Poej",
      "include_colab_link": true
    },
    "kernelspec": {
      "name": "python3",
      "display_name": "Python 3"
    },
    "language_info": {
      "name": "python"
    }
  },
  "cells": [
    {
      "cell_type": "markdown",
      "metadata": {
        "id": "view-in-github",
        "colab_type": "text"
      },
      "source": [
        "<a href=\"https://colab.research.google.com/github/fouziasharkar/Python-Code/blob/main/Merge_two_dictionaries.ipynb\" target=\"_parent\"><img src=\"https://colab.research.google.com/assets/colab-badge.svg\" alt=\"Open In Colab\"/></a>"
      ]
    },
    {
      "cell_type": "code",
      "execution_count": 3,
      "metadata": {
        "colab": {
          "base_uri": "https://localhost:8080/"
        },
        "id": "QwfqaG0rJ_la",
        "outputId": "08e76e26-1cc6-43a8-996d-fe2cbb5b997b"
      },
      "outputs": [
        {
          "output_type": "stream",
          "name": "stdout",
          "text": [
            "{'a': 2, 'b': 3, 'c': 4, 'd': 5}\n"
          ]
        }
      ],
      "source": [
        "d1={'a':2,'b':3}\n",
        "d2={'c':4,'d':5}\n",
        "d={}\n",
        "\n",
        "for i in d1:\n",
        "  d[i]=d1[i]\n",
        "for i in d2:\n",
        "  d[i]=d2[i]\n",
        "print(d)"
      ]
    }
  ]
}
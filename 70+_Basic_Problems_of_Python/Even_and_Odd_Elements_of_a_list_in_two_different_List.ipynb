{
  "nbformat": 4,
  "nbformat_minor": 0,
  "metadata": {
    "colab": {
      "provenance": [],
      "authorship_tag": "ABX9TyPHwDqLmZOMGL7/rDWMOtrZ",
      "include_colab_link": true
    },
    "kernelspec": {
      "name": "python3",
      "display_name": "Python 3"
    },
    "language_info": {
      "name": "python"
    }
  },
  "cells": [
    {
      "cell_type": "markdown",
      "metadata": {
        "id": "view-in-github",
        "colab_type": "text"
      },
      "source": [
        "<a href=\"https://colab.research.google.com/github/fouziasharkar/Python-Code/blob/main/Even_and_Odd_Elements_of_a_list_in_two_different_List.ipynb\" target=\"_parent\"><img src=\"https://colab.research.google.com/assets/colab-badge.svg\" alt=\"Open In Colab\"/></a>"
      ]
    },
    {
      "cell_type": "code",
      "execution_count": 2,
      "metadata": {
        "colab": {
          "base_uri": "https://localhost:8080/"
        },
        "id": "Co87ZKvS7hjG",
        "outputId": "bfd78351-e1e5-489a-9989-c2ff32d1ee93"
      },
      "outputs": [
        {
          "output_type": "stream",
          "name": "stdout",
          "text": [
            "even:  [2, 4, 6, 8]\n",
            "odd:  [1, 3, 5, 7, 9]\n"
          ]
        }
      ],
      "source": [
        "l=[1,2,3,4,5,6,7,8,9]\n",
        "even=[]\n",
        "odd=[]\n",
        "for i in l:\n",
        "  if i%2==0:\n",
        "    even.append(i)\n",
        "  else:\n",
        "    odd.append(i)\n",
        "\n",
        "print('even: ',even)\n",
        "print('odd: ',odd)"
      ]
    }
  ]
}
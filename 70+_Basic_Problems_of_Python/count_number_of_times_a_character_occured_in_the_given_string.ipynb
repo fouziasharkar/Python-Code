{
  "nbformat": 4,
  "nbformat_minor": 0,
  "metadata": {
    "colab": {
      "provenance": [],
      "authorship_tag": "ABX9TyOr6RNDHy74+sYZC9fiwh7Y",
      "include_colab_link": true
    },
    "kernelspec": {
      "name": "python3",
      "display_name": "Python 3"
    },
    "language_info": {
      "name": "python"
    }
  },
  "cells": [
    {
      "cell_type": "markdown",
      "metadata": {
        "id": "view-in-github",
        "colab_type": "text"
      },
      "source": [
        "<a href=\"https://colab.research.google.com/github/fouziasharkar/Python-Code/blob/main/count_number_of_times_a_character_occured_in_the_given_string.ipynb\" target=\"_parent\"><img src=\"https://colab.research.google.com/assets/colab-badge.svg\" alt=\"Open In Colab\"/></a>"
      ]
    },
    {
      "cell_type": "code",
      "execution_count": 4,
      "metadata": {
        "colab": {
          "base_uri": "https://localhost:8080/"
        },
        "id": "Xl5RT57QyJ8R",
        "outputId": "b19e6b2b-7426-4dc9-9f7f-aa9d759ae19e"
      },
      "outputs": [
        {
          "output_type": "stream",
          "name": "stdout",
          "text": [
            "Enter a string: fouzia is a beautiful girl \n",
            "enter a char: g\n",
            "1\n"
          ]
        }
      ],
      "source": [
        "a = input('Enter a string: ')\n",
        "b = input('enter a char: ')\n",
        "count = 0\n",
        "\n",
        "for i in a:\n",
        "  if i == b:\n",
        "    count+=1\n",
        "\n",
        "print(count)"
      ]
    }
  ]
}
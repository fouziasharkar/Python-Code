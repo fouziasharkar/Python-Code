{
  "nbformat": 4,
  "nbformat_minor": 0,
  "metadata": {
    "colab": {
      "provenance": [],
      "authorship_tag": "ABX9TyMxg4im5zKpJ9aHSXyEhjcc",
      "include_colab_link": true
    },
    "kernelspec": {
      "name": "python3",
      "display_name": "Python 3"
    },
    "language_info": {
      "name": "python"
    }
  },
  "cells": [
    {
      "cell_type": "markdown",
      "metadata": {
        "id": "view-in-github",
        "colab_type": "text"
      },
      "source": [
        "<a href=\"https://colab.research.google.com/github/fouziasharkar/Python-Code/blob/main/check_a_number_is_Prime_or_not.ipynb\" target=\"_parent\"><img src=\"https://colab.research.google.com/assets/colab-badge.svg\" alt=\"Open In Colab\"/></a>"
      ]
    },
    {
      "cell_type": "code",
      "execution_count": 2,
      "metadata": {
        "colab": {
          "base_uri": "https://localhost:8080/"
        },
        "id": "DlidrwBXf7ox",
        "outputId": "f574fc7b-c59b-444d-9d47-3479017add7d"
      },
      "outputs": [
        {
          "output_type": "stream",
          "name": "stdout",
          "text": [
            "Enter a number: 6\n",
            "Not a prime number\n"
          ]
        }
      ],
      "source": [
        "num = int(input('Enter a number: '))\n",
        "count = 0\n",
        "if num>1:\n",
        "  for i in range(2,num+1):\n",
        "    if num%i==0:\n",
        "      count+=1\n",
        "\n",
        "if count>2:\n",
        "  print('Not a prime number')\n",
        "else:\n",
        "  print('Prime number')\n"
      ]
    }
  ]
}
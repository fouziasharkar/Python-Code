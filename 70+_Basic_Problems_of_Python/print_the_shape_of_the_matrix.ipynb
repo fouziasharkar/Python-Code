{
  "nbformat": 4,
  "nbformat_minor": 0,
  "metadata": {
    "colab": {
      "provenance": [],
      "authorship_tag": "ABX9TyPygffTEQlfKRhSWkaK4Xf9",
      "include_colab_link": true
    },
    "kernelspec": {
      "name": "python3",
      "display_name": "Python 3"
    },
    "language_info": {
      "name": "python"
    }
  },
  "cells": [
    {
      "cell_type": "markdown",
      "metadata": {
        "id": "view-in-github",
        "colab_type": "text"
      },
      "source": [
        "<a href=\"https://colab.research.google.com/github/fouziasharkar/Python-Code/blob/main/print_the_shape_of_the_matrix.ipynb\" target=\"_parent\"><img src=\"https://colab.research.google.com/assets/colab-badge.svg\" alt=\"Open In Colab\"/></a>"
      ]
    },
    {
      "cell_type": "code",
      "execution_count": 3,
      "metadata": {
        "colab": {
          "base_uri": "https://localhost:8080/"
        },
        "id": "MQzNJra5rLkv",
        "outputId": "29302771-54e0-4645-8fbf-31295e318fb5"
      },
      "outputs": [
        {
          "output_type": "stream",
          "name": "stdout",
          "text": [
            "The shape of this matrix is 3 * 3\n"
          ]
        }
      ],
      "source": [
        "matrix =[\n",
        "    [1,2,3],\n",
        "    [4,5,6],\n",
        "    [7,8,9]\n",
        "]\n",
        "row = 0\n",
        "col = 0\n",
        "for i in matrix:\n",
        "  row = row +1\n",
        "  col = len(i)\n",
        "\n",
        "print('The shape of this matrix is',row,'*',col)"
      ]
    }
  ]
}
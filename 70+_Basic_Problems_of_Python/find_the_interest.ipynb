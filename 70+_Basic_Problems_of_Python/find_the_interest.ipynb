{
  "nbformat": 4,
  "nbformat_minor": 0,
  "metadata": {
    "colab": {
      "provenance": [],
      "authorship_tag": "ABX9TyOJlsI/WxhuuOV+hV6/JRlL",
      "include_colab_link": true
    },
    "kernelspec": {
      "name": "python3",
      "display_name": "Python 3"
    },
    "language_info": {
      "name": "python"
    }
  },
  "cells": [
    {
      "cell_type": "markdown",
      "metadata": {
        "id": "view-in-github",
        "colab_type": "text"
      },
      "source": [
        "<a href=\"https://colab.research.google.com/github/fouziasharkar/Python-Code/blob/main/find_the_interest.ipynb\" target=\"_parent\"><img src=\"https://colab.research.google.com/assets/colab-badge.svg\" alt=\"Open In Colab\"/></a>"
      ]
    },
    {
      "cell_type": "code",
      "execution_count": 1,
      "metadata": {
        "colab": {
          "base_uri": "https://localhost:8080/"
        },
        "id": "IMLg-OS1rMBq",
        "outputId": "deb73878-de39-4f29-efd7-c6e7671e737d"
      },
      "outputs": [
        {
          "output_type": "stream",
          "name": "stdout",
          "text": [
            "Enter a number: 1000\n",
            "Enter a number: 5\n",
            "Enter a number: 3\n",
            "150.0\n"
          ]
        }
      ],
      "source": [
        "# Write a program to find the simple interest when the value of principle,rate of interest and time period is provided by the user.\n",
        "\n",
        "principal= float(input('Enter a number: '))\n",
        "rate = float(input('Enter a number: '))\n",
        "time = float(input('Enter a number: '))\n",
        "\n",
        "#formula\n",
        "interest = (principal*rate*time)/100\n",
        "\n",
        "print(interest)"
      ]
    }
  ]
}
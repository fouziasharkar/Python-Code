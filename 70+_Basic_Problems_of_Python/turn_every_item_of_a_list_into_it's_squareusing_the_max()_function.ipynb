{
  "nbformat": 4,
  "nbformat_minor": 0,
  "metadata": {
    "colab": {
      "provenance": [],
      "authorship_tag": "ABX9TyPtPs8Ga6sWG2NauTXEqzbM",
      "include_colab_link": true
    },
    "kernelspec": {
      "name": "python3",
      "display_name": "Python 3"
    },
    "language_info": {
      "name": "python"
    }
  },
  "cells": [
    {
      "cell_type": "markdown",
      "metadata": {
        "id": "view-in-github",
        "colab_type": "text"
      },
      "source": [
        "<a href=\"https://colab.research.google.com/github/fouziasharkar/Python-Code/blob/main/turn_every_item_of_a_list_into_it's_squareusing_the_max()_function.ipynb\" target=\"_parent\"><img src=\"https://colab.research.google.com/assets/colab-badge.svg\" alt=\"Open In Colab\"/></a>"
      ]
    },
    {
      "cell_type": "code",
      "execution_count": 1,
      "metadata": {
        "colab": {
          "base_uri": "https://localhost:8080/"
        },
        "id": "O9fhjLmB4B8S",
        "outputId": "1d8e0caf-7c41-4c28-e93a-402d32866a88"
      },
      "outputs": [
        {
          "output_type": "stream",
          "name": "stdout",
          "text": [
            "[1, 4, 9, 16]\n"
          ]
        }
      ],
      "source": [
        "l1 = [1,2,3,4]\n",
        "l2 = []\n",
        "for i in l1:\n",
        "  l2.append(i**2)\n",
        "\n",
        "print(l2)"
      ]
    }
  ]
}
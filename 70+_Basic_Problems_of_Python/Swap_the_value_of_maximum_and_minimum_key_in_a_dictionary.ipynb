{
  "nbformat": 4,
  "nbformat_minor": 0,
  "metadata": {
    "colab": {
      "provenance": [],
      "authorship_tag": "ABX9TyP6lEg/qdL2uf7pjxZU1CnP",
      "include_colab_link": true
    },
    "kernelspec": {
      "name": "python3",
      "display_name": "Python 3"
    },
    "language_info": {
      "name": "python"
    }
  },
  "cells": [
    {
      "cell_type": "markdown",
      "metadata": {
        "id": "view-in-github",
        "colab_type": "text"
      },
      "source": [
        "<a href=\"https://colab.research.google.com/github/fouziasharkar/Python-Code/blob/main/Swap_the_value_of_maximum_and_minimum_key_in_a_dictionary.ipynb\" target=\"_parent\"><img src=\"https://colab.research.google.com/assets/colab-badge.svg\" alt=\"Open In Colab\"/></a>"
      ]
    },
    {
      "cell_type": "code",
      "execution_count": 1,
      "metadata": {
        "colab": {
          "base_uri": "https://localhost:8080/"
        },
        "id": "XYzYvXuivZqg",
        "outputId": "5910bcc0-6c15-4b53-a8fe-11be9a7f5096"
      },
      "outputs": [
        {
          "output_type": "stream",
          "name": "stdout",
          "text": [
            "{'a': 400, 'b': 200, 'c': 300, 'd': 100}\n"
          ]
        }
      ],
      "source": [
        "d ={'a':100,'b':200,'c':300,'d':400}\n",
        "\n",
        "max_value = max(d.values())\n",
        "min_value = min(d.values())\n",
        "\n",
        "for i in d:\n",
        "  if d[i]==max_value:\n",
        "    d[i]=min_value\n",
        "  elif d[i]==min_value:\n",
        "    d[i]=max_value\n",
        "\n",
        "\n",
        "\n",
        "print(d)"
      ]
    }
  ]
}
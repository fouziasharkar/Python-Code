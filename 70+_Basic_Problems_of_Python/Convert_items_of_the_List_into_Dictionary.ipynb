{
  "nbformat": 4,
  "nbformat_minor": 0,
  "metadata": {
    "colab": {
      "provenance": [],
      "authorship_tag": "ABX9TyMieHfyRQJAG0jKH/IqfzAf",
      "include_colab_link": true
    },
    "kernelspec": {
      "name": "python3",
      "display_name": "Python 3"
    },
    "language_info": {
      "name": "python"
    }
  },
  "cells": [
    {
      "cell_type": "markdown",
      "metadata": {
        "id": "view-in-github",
        "colab_type": "text"
      },
      "source": [
        "<a href=\"https://colab.research.google.com/github/fouziasharkar/Python-Code/blob/main/Convert_items_of_the_List_into_Dictionary.ipynb\" target=\"_parent\"><img src=\"https://colab.research.google.com/assets/colab-badge.svg\" alt=\"Open In Colab\"/></a>"
      ]
    },
    {
      "cell_type": "code",
      "execution_count": 3,
      "metadata": {
        "colab": {
          "base_uri": "https://localhost:8080/"
        },
        "id": "rw6tzg3Vq2cE",
        "outputId": "b70f690f-4f44-45b9-9a99-3f03213d55a0"
      },
      "outputs": [
        {
          "output_type": "stream",
          "name": "stdout",
          "text": [
            "{'Value1': 1, 'Value2': 8, 'Value3': 27, 'Value4': 64, 'Value5': 125, 'Value6': 216, 'Value7': 343, 'Value8': 512, 'Value9': 729, 'Value10': 1000}\n"
          ]
        }
      ],
      "source": [
        "l = [1,2,3,4,5,6,7,8,9,10]\n",
        "\n",
        "dic ={}\n",
        "id =1\n",
        "for i in l:\n",
        "  dic['Value{}'.format(id)] = i**3\n",
        "  id+=1\n",
        "\n",
        "print(dic)"
      ]
    }
  ]
}
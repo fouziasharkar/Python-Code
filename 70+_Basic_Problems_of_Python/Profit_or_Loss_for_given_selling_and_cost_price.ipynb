{
  "nbformat": 4,
  "nbformat_minor": 0,
  "metadata": {
    "colab": {
      "provenance": [],
      "authorship_tag": "ABX9TyNu0RwyQAQUswlUQRNF/yPk",
      "include_colab_link": true
    },
    "kernelspec": {
      "name": "python3",
      "display_name": "Python 3"
    },
    "language_info": {
      "name": "python"
    }
  },
  "cells": [
    {
      "cell_type": "markdown",
      "metadata": {
        "id": "view-in-github",
        "colab_type": "text"
      },
      "source": [
        "<a href=\"https://colab.research.google.com/github/fouziasharkar/Python-Code/blob/main/Profit_or_Loss_for_given_selling_and_cost_price.ipynb\" target=\"_parent\"><img src=\"https://colab.research.google.com/assets/colab-badge.svg\" alt=\"Open In Colab\"/></a>"
      ]
    },
    {
      "cell_type": "code",
      "execution_count": 1,
      "metadata": {
        "colab": {
          "base_uri": "https://localhost:8080/"
        },
        "id": "SrOvzyE_qb1p",
        "outputId": "3118d210-a2b6-4b5f-9c98-d0e1ee8dc8a4"
      },
      "outputs": [
        {
          "output_type": "stream",
          "name": "stdout",
          "text": [
            "enter a number: 50\n",
            "enter a number: 100\n",
            "It is a profit\n",
            "Enter the cost price: 45\n",
            "Enter the selling price: 40\n",
            "Loss of 5.0\n"
          ]
        }
      ],
      "source": [
        "cost = float(input('enter a number: '))\n",
        "sell = float(input('enter a number: '))\n",
        "\n",
        "if cost>sell:\n",
        "  print ('It is a loss')\n",
        "elif cost == sell:\n",
        "  print('Tie')\n",
        "else:\n",
        "  print('It is a profit')\n",
        "\n",
        "\n",
        "#Another solution\n",
        "cost_price = float(input('Enter the cost price: '))\n",
        "selling_price = float(input('Enter the selling price: '))\n",
        "\n",
        "# Calculate profit or loss\n",
        "profit_or_loss = selling_price - cost_price\n",
        "\n",
        "if profit_or_loss > 0:\n",
        "    print('Profit of', profit_or_loss)\n",
        "elif profit_or_loss < 0:\n",
        "    print('Loss of', -profit_or_loss)\n",
        "else:\n",
        "    print('No profit, no loss.')\n",
        ""
      ]
    }
  ]
}
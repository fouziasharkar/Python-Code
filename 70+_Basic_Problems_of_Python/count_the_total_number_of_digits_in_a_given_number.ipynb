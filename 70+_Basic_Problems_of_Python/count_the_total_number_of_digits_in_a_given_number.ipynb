{
  "nbformat": 4,
  "nbformat_minor": 0,
  "metadata": {
    "colab": {
      "provenance": [],
      "authorship_tag": "ABX9TyOegeHLOY9KZNPdrNW+ASKC",
      "include_colab_link": true
    },
    "kernelspec": {
      "name": "python3",
      "display_name": "Python 3"
    },
    "language_info": {
      "name": "python"
    }
  },
  "cells": [
    {
      "cell_type": "markdown",
      "metadata": {
        "id": "view-in-github",
        "colab_type": "text"
      },
      "source": [
        "<a href=\"https://colab.research.google.com/github/fouziasharkar/Python-Code/blob/main/count_the_total_number_of_digits_in_a_given_number.ipynb\" target=\"_parent\"><img src=\"https://colab.research.google.com/assets/colab-badge.svg\" alt=\"Open In Colab\"/></a>"
      ]
    },
    {
      "cell_type": "code",
      "execution_count": 2,
      "metadata": {
        "colab": {
          "base_uri": "https://localhost:8080/"
        },
        "id": "ICLTvd_nmTFp",
        "outputId": "c9b009b8-b122-4861-b10a-2aa7e514c703"
      },
      "outputs": [
        {
          "output_type": "stream",
          "name": "stdout",
          "text": [
            "Enter your number: 456784\n",
            "6\n"
          ]
        }
      ],
      "source": [
        "num = int(input('Enter your number: '))\n",
        "num = str(num)\n",
        "count = 0\n",
        "for i in num:\n",
        "  count+=1\n",
        "\n",
        "print(count)"
      ]
    }
  ]
}
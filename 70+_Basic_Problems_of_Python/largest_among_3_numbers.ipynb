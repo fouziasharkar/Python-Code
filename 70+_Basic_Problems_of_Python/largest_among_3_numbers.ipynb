{
  "nbformat": 4,
  "nbformat_minor": 0,
  "metadata": {
    "colab": {
      "provenance": []
    },
    "kernelspec": {
      "name": "python3",
      "display_name": "Python 3"
    },
    "language_info": {
      "name": "python"
    }
  },
  "cells": [
    {
      "cell_type": "code",
      "execution_count": 7,
      "metadata": {
        "colab": {
          "base_uri": "https://localhost:8080/"
        },
        "id": "Zd8OIjteRcVp",
        "outputId": "1a158baa-aaee-4002-ee8f-91b1104e32d2"
      },
      "outputs": [
        {
          "output_type": "stream",
          "name": "stdout",
          "text": [
            "Enter a number: 3\n",
            "Enter a number: 5\n",
            "Enter a number: 6\n",
            "6 is the largest among 3\n"
          ]
        }
      ],
      "source": [
        "56\n",
        "#Find the largest among 3 numbers entered by the user.\n",
        "\n",
        "num1 = int(input('Enter a number: '))\n",
        "num2 = int(input('Enter a number: '))\n",
        "num3 = int(input('Enter a number: '))\n",
        "\n",
        "if num1>num2 and num2>num3:\n",
        "  print(num1, 'is the largest among 3')\n",
        "elif num2>num1 and num1>num3:\n",
        "  print(num2, 'is the largest among 3')\n",
        "else:\n",
        "  print(num3, 'is the largest among 3')\n",
        "\n"
      ]
    },
    {
      "cell_type": "code",
      "source": [
        "#another approach\n",
        "max = num1\n",
        "\n",
        "if max<num2:\n",
        "  max = num2\n",
        "if max<num3:\n",
        "  max = num3\n",
        "\n",
        "print(max)"
      ],
      "metadata": {
        "colab": {
          "base_uri": "https://localhost:8080/"
        },
        "id": "R2u7f620UeuE",
        "outputId": "c1256f9d-32d4-4fe7-ff3c-2d19f68ef90c"
      },
      "execution_count": 6,
      "outputs": [
        {
          "output_type": "stream",
          "name": "stdout",
          "text": [
            "6\n"
          ]
        }
      ]
    },
    {
      "cell_type": "code",
      "source": [],
      "metadata": {
        "id": "zHqCpCC8ZDh2"
      },
      "execution_count": null,
      "outputs": []
    }
  ]
}
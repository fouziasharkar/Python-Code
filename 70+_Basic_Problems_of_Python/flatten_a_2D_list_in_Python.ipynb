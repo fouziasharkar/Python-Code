{
  "nbformat": 4,
  "nbformat_minor": 0,
  "metadata": {
    "colab": {
      "provenance": [],
      "authorship_tag": "ABX9TyOlUAmlifhDFxqB8Z6BoRZp",
      "include_colab_link": true
    },
    "kernelspec": {
      "name": "python3",
      "display_name": "Python 3"
    },
    "language_info": {
      "name": "python"
    }
  },
  "cells": [
    {
      "cell_type": "markdown",
      "metadata": {
        "id": "view-in-github",
        "colab_type": "text"
      },
      "source": [
        "<a href=\"https://colab.research.google.com/github/fouziasharkar/Python-Code/blob/main/flatten_a_2D_list_in_Python.ipynb\" target=\"_parent\"><img src=\"https://colab.research.google.com/assets/colab-badge.svg\" alt=\"Open In Colab\"/></a>"
      ]
    },
    {
      "cell_type": "code",
      "execution_count": 4,
      "metadata": {
        "colab": {
          "base_uri": "https://localhost:8080/"
        },
        "id": "Mvfdr9Xr-xtr",
        "outputId": "e4993da2-7dde-4d6e-99ad-0cba3c677781"
      },
      "outputs": [
        {
          "output_type": "stream",
          "name": "stdout",
          "text": [
            "[1, 2, 3, 4, 5, 6, 7]\n"
          ]
        }
      ],
      "source": [
        "l=[1,2,3,4,[5,6,7]]\n",
        "l2 = []\n",
        "for i in l:\n",
        "  if type(i)==list:\n",
        "    for j in i:\n",
        "      l2.append(j)\n",
        "  else:\n",
        "    l2.append(i)\n",
        "\n",
        "print(l2)"
      ]
    }
  ]
}
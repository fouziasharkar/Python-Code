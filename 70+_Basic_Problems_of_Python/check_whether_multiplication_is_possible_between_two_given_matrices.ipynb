{
  "nbformat": 4,
  "nbformat_minor": 0,
  "metadata": {
    "colab": {
      "provenance": [],
      "authorship_tag": "ABX9TyNJPwwO79QzsXO4Cn2MzrD5",
      "include_colab_link": true
    },
    "kernelspec": {
      "name": "python3",
      "display_name": "Python 3"
    },
    "language_info": {
      "name": "python"
    }
  },
  "cells": [
    {
      "cell_type": "markdown",
      "metadata": {
        "id": "view-in-github",
        "colab_type": "text"
      },
      "source": [
        "<a href=\"https://colab.research.google.com/github/fouziasharkar/Python-Code/blob/main/check_whether_multiplication_is_possible_between_two_given_matrices.ipynb\" target=\"_parent\"><img src=\"https://colab.research.google.com/assets/colab-badge.svg\" alt=\"Open In Colab\"/></a>"
      ]
    },
    {
      "cell_type": "code",
      "execution_count": 3,
      "metadata": {
        "colab": {
          "base_uri": "https://localhost:8080/"
        },
        "id": "bB2R08GxtJHy",
        "outputId": "dd6b7975-c5a6-4624-cca7-cfa8bed7317d"
      },
      "outputs": [
        {
          "output_type": "stream",
          "name": "stdout",
          "text": [
            "row_1: 3\n",
            "col_1: 3\n",
            "row_2: 3\n",
            "col_2: 2\n",
            "Multiplication is possible\n"
          ]
        }
      ],
      "source": [
        "matrix_1 = [\n",
        "    [1,2,3],\n",
        "    [4,5,6],\n",
        "    [7,8,9]\n",
        "]\n",
        "row_1 = 0\n",
        "for i in matrix_1:\n",
        "  row_1+=1\n",
        "  col_1 = len(i)\n",
        "print('row_1:',row_1)\n",
        "print('col_1:',col_1)\n",
        "\n",
        "matrix_2 = [\n",
        "    [2,3],\n",
        "    [4,5],\n",
        "    [7,8]\n",
        "]\n",
        "row_2 = 0\n",
        "for i in matrix_2:\n",
        "  row_2+=1\n",
        "  col_2 = len(i)\n",
        "print('row_2:',row_2)\n",
        "print('col_2:',col_2)\n",
        "\n",
        "if col_1==row_2:\n",
        "  print('Multiplication is possible')\n",
        "else:\n",
        "  print('Multiplication is not possible')"
      ]
    }
  ]
}
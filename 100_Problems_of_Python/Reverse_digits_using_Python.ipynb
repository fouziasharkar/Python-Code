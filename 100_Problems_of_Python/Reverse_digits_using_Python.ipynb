{
  "nbformat": 4,
  "nbformat_minor": 0,
  "metadata": {
    "colab": {
      "provenance": [],
      "authorship_tag": "ABX9TyMDWzj3j9vDbQcaffmWr+tk",
      "include_colab_link": true
    },
    "kernelspec": {
      "name": "python3",
      "display_name": "Python 3"
    },
    "language_info": {
      "name": "python"
    }
  },
  "cells": [
    {
      "cell_type": "markdown",
      "metadata": {
        "id": "view-in-github",
        "colab_type": "text"
      },
      "source": [
        "<a href=\"https://colab.research.google.com/github/fouziasharkar/Python-Code/blob/main/Reverse_digits_using_Python.ipynb\" target=\"_parent\"><img src=\"https://colab.research.google.com/assets/colab-badge.svg\" alt=\"Open In Colab\"/></a>"
      ]
    },
    {
      "cell_type": "code",
      "execution_count": 5,
      "metadata": {
        "colab": {
          "base_uri": "https://localhost:8080/"
        },
        "id": "aTb7U9nzhBdg",
        "outputId": "369ebd4a-c926-4ef3-a78d-68d1be0ddaeb"
      },
      "outputs": [
        {
          "output_type": "execute_result",
          "data": {
            "text/plain": [
              "['6', '5', '4', '3']"
            ]
          },
          "metadata": {},
          "execution_count": 5
        }
      ],
      "source": [
        "#Reverse digits using Python\n",
        "\n",
        "num = '3456'\n",
        "\n",
        "sorted(num,reverse=True)"
      ]
    },
    {
      "cell_type": "code",
      "source": [
        "num = '3456'\n",
        "\n",
        "print(num[::-1])"
      ],
      "metadata": {
        "colab": {
          "base_uri": "https://localhost:8080/"
        },
        "id": "Vt_lO5Jqie6R",
        "outputId": "e93b0720-89f4-4bc0-ab7c-fb640bd5f009"
      },
      "execution_count": 6,
      "outputs": [
        {
          "output_type": "stream",
          "name": "stdout",
          "text": [
            "6543\n"
          ]
        }
      ]
    },
    {
      "cell_type": "code",
      "source": [
        "num = '3456'\n",
        "add = ''\n",
        "for i in num:\n",
        "  a = int(num)%10 #6\n",
        "  #print(a)\n",
        "  num = int(num)//10 #345\n",
        "  #print(num)\n",
        "  add = add + str(a)\n",
        "\n",
        "print(add)"
      ],
      "metadata": {
        "colab": {
          "base_uri": "https://localhost:8080/"
        },
        "id": "q0VYkHR9ioPW",
        "outputId": "2228cbdf-384f-46f3-c864-95a70b627662"
      },
      "execution_count": 9,
      "outputs": [
        {
          "output_type": "stream",
          "name": "stdout",
          "text": [
            "6543\n"
          ]
        }
      ]
    }
  ]
}
{
  "nbformat": 4,
  "nbformat_minor": 0,
  "metadata": {
    "colab": {
      "provenance": [],
      "authorship_tag": "ABX9TyPzlVWS3Aj2hL+cCsVaYSWx",
      "include_colab_link": true
    },
    "kernelspec": {
      "name": "python3",
      "display_name": "Python 3"
    },
    "language_info": {
      "name": "python"
    }
  },
  "cells": [
    {
      "cell_type": "markdown",
      "metadata": {
        "id": "view-in-github",
        "colab_type": "text"
      },
      "source": [
        "<a href=\"https://colab.research.google.com/github/fouziasharkar/Python-Code/blob/main/add_the_digits_of_the_number_entered_by_the_user.ipynb\" target=\"_parent\"><img src=\"https://colab.research.google.com/assets/colab-badge.svg\" alt=\"Open In Colab\"/></a>"
      ]
    },
    {
      "cell_type": "code",
      "execution_count": 15,
      "metadata": {
        "colab": {
          "base_uri": "https://localhost:8080/"
        },
        "id": "M4Ien86OcItf",
        "outputId": "0a16a1e6-c42d-4462-ebc2-469cc73603d2"
      },
      "outputs": [
        {
          "output_type": "stream",
          "name": "stdout",
          "text": [
            "enter a number: 345\n",
            "12\n"
          ]
        }
      ],
      "source": [
        "#add the digits of the number entered by the user\n",
        "num = input('enter a number: ')\n",
        "\n",
        "sum = 0\n",
        "for i in range(len(num)):\n",
        "  a = int(num)%10 #5\n",
        "  num = int(num)//10 #34\n",
        "  sum =sum + a #0+5=5\n",
        "print(sum)\n",
        "\n"
      ]
    }
  ]
}
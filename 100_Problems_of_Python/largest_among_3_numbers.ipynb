{
  "nbformat": 4,
  "nbformat_minor": 0,
  "metadata": {
    "colab": {
      "provenance": [],
      "authorship_tag": "ABX9TyMNi/a8+C5gEayfw5B7gvrK",
      "include_colab_link": true
    },
    "kernelspec": {
      "name": "python3",
      "display_name": "Python 3"
    },
    "language_info": {
      "name": "python"
    }
  },
  "cells": [
    {
      "cell_type": "markdown",
      "metadata": {
        "id": "view-in-github",
        "colab_type": "text"
      },
      "source": [
        "<a href=\"https://colab.research.google.com/github/fouziasharkar/Python-Code/blob/main/largest_among_3_numbers.ipynb\" target=\"_parent\"><img src=\"https://colab.research.google.com/assets/colab-badge.svg\" alt=\"Open In Colab\"/></a>"
      ]
    },
    {
      "cell_type": "code",
      "execution_count": 1,
      "metadata": {
        "colab": {
          "base_uri": "https://localhost:8080/"
        },
        "id": "Zd8OIjteRcVp",
        "outputId": "187f2f8e-32bc-4aff-84c3-b4a40ac12544"
      },
      "outputs": [
        {
          "output_type": "stream",
          "name": "stdout",
          "text": [
            "Enter a number: 5\n",
            "Enter a number: 8\n",
            "Enter a number: 3\n",
            "8 is the largest among 3\n"
          ]
        }
      ],
      "source": [
        "#Find the largest among 3 numbers entered by the user.\n",
        "\n",
        "num1 = int(input('Enter a number: '))\n",
        "num2 = int(input('Enter a number: '))\n",
        "num3 = int(input('Enter a number: '))\n",
        "\n",
        "if num1>num2 and num2>num3:\n",
        "  print(num1, 'is the largest among 3')\n",
        "elif num2>num1 and num1>num3:\n",
        "  print(num2, 'is the largest among 3')\n",
        "else:\n",
        "  print(num3, 'is the largest among 3')\n",
        "\n"
      ]
    },
    {
      "cell_type": "code",
      "source": [
        "#another approach\n",
        "\n",
        "num1 = int(input('Enter a number: '))\n",
        "num2 = int(input('Enter a number: '))\n",
        "num3 = int(input('Enter a number: '))\n",
        "\n",
        "#let's,\n",
        "max = num1\n",
        "\n",
        "if max<num2:\n",
        "  max = num2\n",
        "if max<num3:\n",
        "  max = num3\n",
        "\n",
        "print(max)"
      ],
      "metadata": {
        "colab": {
          "base_uri": "https://localhost:8080/"
        },
        "id": "R2u7f620UeuE",
        "outputId": "ee03b174-391c-43e8-f16a-d3403892f659"
      },
      "execution_count": 2,
      "outputs": [
        {
          "output_type": "stream",
          "name": "stdout",
          "text": [
            "Enter a number: 5\n",
            "Enter a number: 8\n",
            "Enter a number: 3\n",
            "8\n"
          ]
        }
      ]
    }
  ]
}
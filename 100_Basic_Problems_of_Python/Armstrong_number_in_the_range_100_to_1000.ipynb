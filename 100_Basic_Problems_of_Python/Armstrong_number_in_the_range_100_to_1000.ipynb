{
  "nbformat": 4,
  "nbformat_minor": 0,
  "metadata": {
    "colab": {
      "provenance": [],
      "authorship_tag": "ABX9TyOP9aSBp4Wy8OWGdeyco6Ss",
      "include_colab_link": true
    },
    "kernelspec": {
      "name": "python3",
      "display_name": "Python 3"
    },
    "language_info": {
      "name": "python"
    }
  },
  "cells": [
    {
      "cell_type": "markdown",
      "metadata": {
        "id": "view-in-github",
        "colab_type": "text"
      },
      "source": [
        "<a href=\"https://colab.research.google.com/github/fouziasharkar/Python-Code/blob/main/Armstrong_number_in_the_range_100_to_1000.ipynb\" target=\"_parent\"><img src=\"https://colab.research.google.com/assets/colab-badge.svg\" alt=\"Open In Colab\"/></a>"
      ]
    },
    {
      "cell_type": "code",
      "execution_count": 9,
      "metadata": {
        "colab": {
          "base_uri": "https://localhost:8080/"
        },
        "id": "oAziUwZWhozB",
        "outputId": "06a166cd-f7e4-483a-8669-25d3faa64ede"
      },
      "outputs": [
        {
          "output_type": "stream",
          "name": "stdout",
          "text": [
            "153 is an Armstrong number\n",
            "370 is an Armstrong number\n",
            "371 is an Armstrong number\n",
            "407 is an Armstrong number\n"
          ]
        }
      ],
      "source": [
        "\n",
        "for i in range(100,1001):\n",
        "    sum = 0\n",
        "    s = str(i)\n",
        "    l = len(s)\n",
        "    for j in s: #153\n",
        "      sum = sum+ int(j)**l\n",
        "      #print(sum)\n",
        "    #conditon check\n",
        "    if sum == i:\n",
        "      print(i,'is an Armstrong number')"
      ]
    }
  ]
}
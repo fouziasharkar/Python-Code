{
  "nbformat": 4,
  "nbformat_minor": 0,
  "metadata": {
    "colab": {
      "provenance": [],
      "authorship_tag": "ABX9TyN+7YlhEy0CXuQbuowdfrAz",
      "include_colab_link": true
    },
    "kernelspec": {
      "name": "python3",
      "display_name": "Python 3"
    },
    "language_info": {
      "name": "python"
    }
  },
  "cells": [
    {
      "cell_type": "markdown",
      "metadata": {
        "id": "view-in-github",
        "colab_type": "text"
      },
      "source": [
        "<a href=\"https://colab.research.google.com/github/fouziasharkar/Python-Code/blob/main/print_the_sum_of_(n_%2B_nn_%2B_nnn).ipynb\" target=\"_parent\"><img src=\"https://colab.research.google.com/assets/colab-badge.svg\" alt=\"Open In Colab\"/></a>"
      ]
    },
    {
      "cell_type": "code",
      "execution_count": 2,
      "metadata": {
        "colab": {
          "base_uri": "https://localhost:8080/"
        },
        "id": "f5mNWYe9lao9",
        "outputId": "e9d74225-72ee-4e2d-8e15-1e6a559b382f"
      },
      "outputs": [
        {
          "output_type": "stream",
          "name": "stdout",
          "text": [
            "Enter you number: 2\n",
            "2\n",
            "22\n",
            "222\n",
            "246\n"
          ]
        }
      ],
      "source": [
        "n = input('Enter you number: ')\n",
        "\n",
        "print(n)\n",
        "a = n+n\n",
        "print(a)\n",
        "b = n+n+n\n",
        "print(b)\n",
        "sum = int(a)+int(b)+int(n)\n",
        "print(sum)"
      ]
    }
  ]
}
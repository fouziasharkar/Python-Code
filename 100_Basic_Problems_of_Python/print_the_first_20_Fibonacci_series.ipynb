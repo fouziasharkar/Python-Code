{
  "nbformat": 4,
  "nbformat_minor": 0,
  "metadata": {
    "colab": {
      "provenance": [],
      "authorship_tag": "ABX9TyM0SrlraM13gVQyxZfkO4t5",
      "include_colab_link": true
    },
    "kernelspec": {
      "name": "python3",
      "display_name": "Python 3"
    },
    "language_info": {
      "name": "python"
    }
  },
  "cells": [
    {
      "cell_type": "markdown",
      "metadata": {
        "id": "view-in-github",
        "colab_type": "text"
      },
      "source": [
        "<a href=\"https://colab.research.google.com/github/fouziasharkar/Python-Code/blob/main/print_the_first_20_Fibonacci_series.ipynb\" target=\"_parent\"><img src=\"https://colab.research.google.com/assets/colab-badge.svg\" alt=\"Open In Colab\"/></a>"
      ]
    },
    {
      "cell_type": "code",
      "execution_count": 6,
      "metadata": {
        "colab": {
          "base_uri": "https://localhost:8080/"
        },
        "id": "yfCSFtsKa0uB",
        "outputId": "cb674279-4c10-4132-d44a-07d74f97c4b3"
      },
      "outputs": [
        {
          "output_type": "stream",
          "name": "stdout",
          "text": [
            "0,1,1,2,3,5,8,13,21,34,55,89,144,233,377,610,987,1597,2584,4181\n"
          ]
        }
      ],
      "source": [
        "f1 =0\n",
        "f2 = 1\n",
        "print(f1, end=',')\n",
        "print(f2, end=',')\n",
        "for i in range (18): # range 8 means 0-7 thats why it printed 8 terms\n",
        "  next = f1+f2 # next term\n",
        "  #this if else condition is given to avoid , at the end of the last number\n",
        "  if i<17:\n",
        "    print (next, end=',')\n",
        "  else:\n",
        "    print(next)\n",
        "  f1 = f2 #f1 update\n",
        "  f2 = next #f2 update\n"
      ]
    }
  ]
}
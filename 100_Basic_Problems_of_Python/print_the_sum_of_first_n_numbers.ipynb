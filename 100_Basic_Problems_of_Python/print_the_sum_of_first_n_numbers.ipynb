{
  "nbformat": 4,
  "nbformat_minor": 0,
  "metadata": {
    "colab": {
      "provenance": [],
      "authorship_tag": "ABX9TyNHZaGv9JNHZ8H83u2n3Nq3",
      "include_colab_link": true
    },
    "kernelspec": {
      "name": "python3",
      "display_name": "Python 3"
    },
    "language_info": {
      "name": "python"
    }
  },
  "cells": [
    {
      "cell_type": "markdown",
      "metadata": {
        "id": "view-in-github",
        "colab_type": "text"
      },
      "source": [
        "<a href=\"https://colab.research.google.com/github/fouziasharkar/Python-Code/blob/main/print_the_sum_of_first_n_numbers.ipynb\" target=\"_parent\"><img src=\"https://colab.research.google.com/assets/colab-badge.svg\" alt=\"Open In Colab\"/></a>"
      ]
    },
    {
      "cell_type": "code",
      "execution_count": 1,
      "metadata": {
        "colab": {
          "base_uri": "https://localhost:8080/"
        },
        "id": "XjicsE4OZCcM",
        "outputId": "2e2aec78-3bee-43f3-b7c3-e3499608107f"
      },
      "outputs": [
        {
          "output_type": "stream",
          "name": "stdout",
          "text": [
            "Enter a number4\n",
            "10.0\n"
          ]
        }
      ],
      "source": [
        "num = int(input('Enter a number'))\n",
        "#formula\n",
        "sum_of_numbers = num * (num + 1) /2\n",
        "print(sum_of_numbers)"
      ]
    }
  ]
}
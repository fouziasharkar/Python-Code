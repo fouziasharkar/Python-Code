{
  "nbformat": 4,
  "nbformat_minor": 0,
  "metadata": {
    "colab": {
      "provenance": [],
      "authorship_tag": "ABX9TyO2WPEhFo2yQ6J9+lrwmmUC",
      "include_colab_link": true
    },
    "kernelspec": {
      "name": "python3",
      "display_name": "Python 3"
    },
    "language_info": {
      "name": "python"
    }
  },
  "cells": [
    {
      "cell_type": "markdown",
      "metadata": {
        "id": "view-in-github",
        "colab_type": "text"
      },
      "source": [
        "<a href=\"https://colab.research.google.com/github/fouziasharkar/Python-Code/blob/main/find_union_and_intersection_of_two_lists.ipynb\" target=\"_parent\"><img src=\"https://colab.research.google.com/assets/colab-badge.svg\" alt=\"Open In Colab\"/></a>"
      ]
    },
    {
      "cell_type": "code",
      "execution_count": 3,
      "metadata": {
        "colab": {
          "base_uri": "https://localhost:8080/"
        },
        "id": "EEHqodek_vFF",
        "outputId": "9ce09b75-7c86-4d7d-9e61-232a0c5a497f"
      },
      "outputs": [
        {
          "output_type": "stream",
          "name": "stdout",
          "text": [
            "Union:  [1, 2, 3, 4, 5, 6, 7]\n",
            "Intersection [3, 4, 5]\n"
          ]
        }
      ],
      "source": [
        "l1 = [1,2,3,4,5]\n",
        "l2=[3,4,5,6,7]\n",
        "union = []\n",
        "intersection = []\n",
        "\n",
        "#Union\n",
        "for i in l1:\n",
        "  if i not in union:\n",
        "    union.append(i)\n",
        "for i in l2:\n",
        "  if i not in union:\n",
        "    union.append(i)\n",
        "\n",
        "print('Union: ',union)\n",
        "\n",
        "#Intersection\n",
        "for i in l1:\n",
        "  if i in l2:\n",
        "    intersection.append(i)\n",
        "\n",
        "print('Intersection',intersection)\n"
      ]
    }
  ]
}
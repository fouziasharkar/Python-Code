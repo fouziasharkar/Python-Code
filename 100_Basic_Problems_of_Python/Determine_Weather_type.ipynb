{
  "nbformat": 4,
  "nbformat_minor": 0,
  "metadata": {
    "colab": {
      "provenance": [],
      "authorship_tag": "ABX9TyPZbHCI1iv1WbfUvDYd9WV+",
      "include_colab_link": true
    },
    "kernelspec": {
      "name": "python3",
      "display_name": "Python 3"
    },
    "language_info": {
      "name": "python"
    }
  },
  "cells": [
    {
      "cell_type": "markdown",
      "metadata": {
        "id": "view-in-github",
        "colab_type": "text"
      },
      "source": [
        "<a href=\"https://colab.research.google.com/github/fouziasharkar/Python-Code/blob/main/Determine_Weather_type.ipynb\" target=\"_parent\"><img src=\"https://colab.research.google.com/assets/colab-badge.svg\" alt=\"Open In Colab\"/></a>"
      ]
    },
    {
      "cell_type": "code",
      "execution_count": 2,
      "metadata": {
        "colab": {
          "base_uri": "https://localhost:8080/"
        },
        "id": "Y738qKl9LySP",
        "outputId": "db1a9cf8-c144-4fa0-d961-5f3b102d4b59"
      },
      "outputs": [
        {
          "output_type": "stream",
          "name": "stdout",
          "text": [
            "Enter temperature: 45\n",
            "Enter Humid: 95\n",
            "The weather is Hot and humid\n"
          ]
        }
      ],
      "source": [
        "#Determine Weather type\n",
        "\n",
        "temp = float(input('Enter temperature: '))\n",
        "humid = float(input('Enter Humid: '))\n",
        "\n",
        "if temp>=30 and humid>=90:\n",
        "  print('The weather is Hot and humid')\n",
        "if temp>=30 and humid<90:\n",
        "  print('The weather is Hot')\n",
        "if temp<30 and humid>=90:\n",
        "  print('The weather is cold and humid')\n",
        "if temp<30 and humid<90:\n",
        "  print('The weather is cold')\n"
      ]
    }
  ]
}
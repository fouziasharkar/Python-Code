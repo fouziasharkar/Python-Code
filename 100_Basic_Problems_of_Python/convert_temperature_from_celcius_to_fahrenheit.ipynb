{
  "nbformat": 4,
  "nbformat_minor": 0,
  "metadata": {
    "colab": {
      "provenance": [],
      "authorship_tag": "ABX9TyNzUqb5zEZL7kLhq9MxuE1D",
      "include_colab_link": true
    },
    "kernelspec": {
      "name": "python3",
      "display_name": "Python 3"
    },
    "language_info": {
      "name": "python"
    }
  },
  "cells": [
    {
      "cell_type": "markdown",
      "metadata": {
        "id": "view-in-github",
        "colab_type": "text"
      },
      "source": [
        "<a href=\"https://colab.research.google.com/github/fouziasharkar/Python-Code/blob/main/convert_temperature_from_celcius_to_fahrenheit.ipynb\" target=\"_parent\"><img src=\"https://colab.research.google.com/assets/colab-badge.svg\" alt=\"Open In Colab\"/></a>"
      ]
    },
    {
      "cell_type": "code",
      "execution_count": 1,
      "metadata": {
        "colab": {
          "base_uri": "https://localhost:8080/"
        },
        "id": "cCOXwp-aZ_s_",
        "outputId": "2d69b538-7a27-4771-d985-add12d85c324"
      },
      "outputs": [
        {
          "output_type": "stream",
          "name": "stdout",
          "text": [
            "enter a num: 100\n",
            "212.0\n"
          ]
        }
      ],
      "source": [
        "#Python program to convert temperature from celcius to fahrenheit.\n",
        "c = float(input('enter a num: '))\n",
        "\n",
        "#formuna celsius to farenheit\n",
        "\n",
        "f = (9/5)*c + 32\n",
        "print(f)"
      ]
    }
  ]
}
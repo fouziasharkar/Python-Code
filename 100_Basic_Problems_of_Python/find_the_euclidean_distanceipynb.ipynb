{
  "nbformat": 4,
  "nbformat_minor": 0,
  "metadata": {
    "colab": {
      "provenance": [],
      "authorship_tag": "ABX9TyN3g3EGlYgxZS7H8vu6CxqN",
      "include_colab_link": true
    },
    "kernelspec": {
      "name": "python3",
      "display_name": "Python 3"
    },
    "language_info": {
      "name": "python"
    }
  },
  "cells": [
    {
      "cell_type": "markdown",
      "metadata": {
        "id": "view-in-github",
        "colab_type": "text"
      },
      "source": [
        "<a href=\"https://colab.research.google.com/github/fouziasharkar/Python-Code/blob/main/find_the_euclidean_distanceipynb.ipynb\" target=\"_parent\"><img src=\"https://colab.research.google.com/assets/colab-badge.svg\" alt=\"Open In Colab\"/></a>"
      ]
    },
    {
      "cell_type": "code",
      "execution_count": 1,
      "metadata": {
        "colab": {
          "base_uri": "https://localhost:8080/"
        },
        "id": "7PwBhtLPpART",
        "outputId": "6485d657-5296-477f-d764-8c6a394df146"
      },
      "outputs": [
        {
          "output_type": "stream",
          "name": "stdout",
          "text": [
            "Enter a number: 4\n",
            "Enter a number: 5\n",
            "Enter a number: 6\n",
            "Enter a number: 7\n",
            "1.4142135623730951\n"
          ]
        }
      ],
      "source": [
        "#find the euclidean distance between two cordinates\n",
        "x1= float(input('Enter a number: '))\n",
        "x2 = float(input('Enter a number: '))\n",
        "y1 = float(input('Enter a number: '))\n",
        "y2 = float(input('Enter a number: '))\n",
        "\n",
        "#equation\n",
        "diff1 = (x2-x1)**2\n",
        "diff2= (y2-y1)**2\n",
        "\n",
        "result =(diff1+diff2)**0.5\n",
        "\n",
        "print(result)\n"
      ]
    }
  ]
}
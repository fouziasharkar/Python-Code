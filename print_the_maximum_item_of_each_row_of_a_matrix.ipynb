{
  "nbformat": 4,
  "nbformat_minor": 0,
  "metadata": {
    "colab": {
      "provenance": [],
      "authorship_tag": "ABX9TyOJlf7eddTD8SHI5Iv6s/EL",
      "include_colab_link": true
    },
    "kernelspec": {
      "name": "python3",
      "display_name": "Python 3"
    },
    "language_info": {
      "name": "python"
    }
  },
  "cells": [
    {
      "cell_type": "markdown",
      "metadata": {
        "id": "view-in-github",
        "colab_type": "text"
      },
      "source": [
        "<a href=\"https://colab.research.google.com/github/fouziasharkar/Python-Code/blob/main/print_the_maximum_item_of_each_row_of_a_matrix.ipynb\" target=\"_parent\"><img src=\"https://colab.research.google.com/assets/colab-badge.svg\" alt=\"Open In Colab\"/></a>"
      ]
    },
    {
      "cell_type": "code",
      "execution_count": 6,
      "metadata": {
        "colab": {
          "base_uri": "https://localhost:8080/"
        },
        "id": "_JPs2sdGnO3m",
        "outputId": "262bc22e-35ad-47f1-e3a9-9fd42efb8184"
      },
      "outputs": [
        {
          "output_type": "stream",
          "name": "stdout",
          "text": [
            "3\n",
            "6\n",
            "9\n"
          ]
        }
      ],
      "source": [
        "matrix =[\n",
        "    [1,2,3],\n",
        "    [4,5,6],\n",
        "    [7,8,9]\n",
        "]\n",
        "\n",
        "for i in matrix:\n",
        "  #print(i)\n",
        "  max = i[0]\n",
        "  for j in i:\n",
        "    if j>max:\n",
        "      max = j\n",
        "  print(max)"
      ]
    }
  ]
}
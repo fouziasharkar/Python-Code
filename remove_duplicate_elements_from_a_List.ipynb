{
  "nbformat": 4,
  "nbformat_minor": 0,
  "metadata": {
    "colab": {
      "provenance": [],
      "authorship_tag": "ABX9TyMNvrLNwJX+d6tGCh1d18OU",
      "include_colab_link": true
    },
    "kernelspec": {
      "name": "python3",
      "display_name": "Python 3"
    },
    "language_info": {
      "name": "python"
    }
  },
  "cells": [
    {
      "cell_type": "markdown",
      "metadata": {
        "id": "view-in-github",
        "colab_type": "text"
      },
      "source": [
        "<a href=\"https://colab.research.google.com/github/fouziasharkar/Python-Code/blob/main/remove_duplicate_elements_from_a_List.ipynb\" target=\"_parent\"><img src=\"https://colab.research.google.com/assets/colab-badge.svg\" alt=\"Open In Colab\"/></a>"
      ]
    },
    {
      "cell_type": "code",
      "execution_count": 1,
      "metadata": {
        "colab": {
          "base_uri": "https://localhost:8080/"
        },
        "id": "o6HBGUDB109u",
        "outputId": "b3f7784b-c65a-49a1-c56c-e28572d89ed3"
      },
      "outputs": [
        {
          "output_type": "stream",
          "name": "stdout",
          "text": [
            "[1, 2, 3, 4, 5, 6, 7]\n"
          ]
        }
      ],
      "source": [
        "l1 = [1,2,3,4,5,5,6,6,7,7,7]\n",
        "l2 = []\n",
        "\n",
        "for i in l1:\n",
        "  if i not in l2:\n",
        "    l2.append(i)\n",
        "print(l2)"
      ]
    }
  ]
}
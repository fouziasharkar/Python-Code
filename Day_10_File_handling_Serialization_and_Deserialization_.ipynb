{
  "nbformat": 4,
  "nbformat_minor": 0,
  "metadata": {
    "colab": {
      "provenance": [],
      "authorship_tag": "ABX9TyP3UrXDcPQ9VllntPltj/5b",
      "include_colab_link": true
    },
    "kernelspec": {
      "name": "python3",
      "display_name": "Python 3"
    },
    "language_info": {
      "name": "python"
    }
  },
  "cells": [
    {
      "cell_type": "markdown",
      "metadata": {
        "id": "view-in-github",
        "colab_type": "text"
      },
      "source": [
        "<a href=\"https://colab.research.google.com/github/fouziasharkar/Python-Code/blob/main/Day_10_File_handling_Serialization_and_Deserialization_.ipynb\" target=\"_parent\"><img src=\"https://colab.research.google.com/assets/colab-badge.svg\" alt=\"Open In Colab\"/></a>"
      ]
    },
    {
      "cell_type": "markdown",
      "source": [
        "### `Q-1:` Write a function `get_final_line(filename)`, which takes filename as input and return final line of the file.\n",
        "\n",
        "Note: You can choose any file of your choice."
      ],
      "metadata": {
        "id": "MbeMdx5d5qRj"
      }
    },
    {
      "cell_type": "code",
      "execution_count": 1,
      "metadata": {
        "id": "XLjnczUNHbGn"
      },
      "outputs": [],
      "source": [
        "l = ['Hello!\\n','How are you?\\n','I am fine.\\n','What about you?']\n",
        "with open('sample.txt','w') as f:\n",
        "  f.writelines(l)"
      ]
    },
    {
      "cell_type": "code",
      "source": [
        "def get_final_line(filename):\n",
        "  final_line = ''\n",
        "\n",
        "  for current_line in open('sample.txt','r'):\n",
        "    final_line = current_line\n",
        "\n",
        "  return final_line\n",
        "\n",
        "\n",
        "print(get_final_line('sample.txt'))"
      ],
      "metadata": {
        "colab": {
          "base_uri": "https://localhost:8080/"
        },
        "id": "0MsIhZtoY7Ji",
        "outputId": "aaf6b2d8-f631-469a-e4a0-f27c48d5d1f1"
      },
      "execution_count": 2,
      "outputs": [
        {
          "output_type": "stream",
          "name": "stdout",
          "text": [
            "What about you?\n"
          ]
        }
      ]
    },
    {
      "cell_type": "markdown",
      "source": [
        "###`Q-2:` Read through a text file, line by line. Use a dict to keep track of how many times each vowel (a, e, i, o, and u) appears in the file. Print the resulting tabulation -- dictionary."
      ],
      "metadata": {
        "id": "B87Z6-yQ5wVO"
      }
    },
    {
      "cell_type": "code",
      "source": [
        "with open('sample.txt','r') as f:\n",
        "  text = f.read()\n",
        "  print(text)"
      ],
      "metadata": {
        "colab": {
          "base_uri": "https://localhost:8080/"
        },
        "id": "TNvSK0M2k7Bx",
        "outputId": "4e9ea6de-83b7-42a5-e686-217fff1efaa3"
      },
      "execution_count": 3,
      "outputs": [
        {
          "output_type": "stream",
          "name": "stdout",
          "text": [
            "Hello!\n",
            "How are you?\n",
            "I am fine.\n",
            "What about you?\n"
          ]
        }
      ]
    },
    {
      "cell_type": "code",
      "source": [
        "def get_final_line(filename):\n",
        "  d = {}\n",
        "  vowel = 'aeiouAEIOU'\n",
        "\n",
        "  #for vowel count\n",
        "  for v in vowel:\n",
        "    d[v]=0\n",
        "  for current_line in open('sample.txt','r'):\n",
        "    for i in current_line:\n",
        "      for vow in vowel:\n",
        "        if vow in i:\n",
        "          d[vow]+=1\n",
        "\n",
        "  return d\n",
        "\n",
        "print(get_final_line('sample.txt'))"
      ],
      "metadata": {
        "colab": {
          "base_uri": "https://localhost:8080/"
        },
        "id": "N_Fyz6clY7Lw",
        "outputId": "d7121484-1e30-4580-a1ae-6d638ca057fa"
      },
      "execution_count": 4,
      "outputs": [
        {
          "output_type": "stream",
          "name": "stdout",
          "text": [
            "{'a': 4, 'e': 3, 'i': 1, 'o': 5, 'u': 3, 'A': 0, 'E': 0, 'I': 1, 'O': 0, 'U': 0}\n"
          ]
        }
      ]
    },
    {
      "cell_type": "markdown",
      "source": [
        "###`Q-3:` Create a text file (using an editor, not necessarily Python) containing two tab separated columns, with each column containing a number. Then use Python to read through the file you’ve created. For each line, multiply each first number by the second and include it in the file in third column. In last add a line Total, by summing the value of third column\n",
        "\n"
      ],
      "metadata": {
        "id": "lRqQ2Y295-Gg"
      }
    },
    {
      "cell_type": "markdown",
      "source": [
        "Input File example: That you need to create\n",
        "```\n",
        "1   2\n",
        "3   4\n",
        "5   6\n",
        "7   8\n",
        "9   10\n",
        "\n",
        "```\n",
        "\n",
        "Output File Example:\n",
        "```\n",
        "1   2   2\n",
        "3   4   12\n",
        "5   6   30\n",
        "7   8   56\n",
        "9   10  90\n",
        "Total   190\n",
        "```\n"
      ],
      "metadata": {
        "id": "GtFfahZc6Bvg"
      }
    },
    {
      "cell_type": "code",
      "source": [
        "with open('Q-3.txt','w+') as f:\n",
        "  for i in range(1,10,2):\n",
        "    line = \"{} {}\\n\".format(i,i+1)\n",
        "    f.writelines(line)\n",
        "  f.seek(0)\n",
        "  l=[]\n",
        "  total =0\n",
        "  for i in f:\n",
        "    line = list(map(int,i.split()))  #[1,2]\n",
        "    l.append(line)\n",
        "  #print(l)\n",
        "  l1=[]\n",
        "  total = 0\n",
        "  for i in l:\n",
        "    mul = i[0]*i[1]\n",
        "    total+=mul\n",
        "    l1.append(\"{} {} {}\".format(i[0],i[1],mul))\n",
        "  #print('l1: ',l1)\n",
        "\n",
        "\n",
        "\n",
        "\n",
        "with open('Q-3.txt','w') as f:\n",
        "  for i in l1:\n",
        "    f.writelines(i+'\\n')\n",
        "  f.writelines(\"Total {}\".format(str(total)))\n",
        "\n",
        ""
      ],
      "metadata": {
        "id": "zLRbleCU2uA5"
      },
      "execution_count": 52,
      "outputs": []
    },
    {
      "cell_type": "markdown",
      "source": [
        "###`Q-4:` Create line wise reverse of a file\n",
        "Write a function which takes two arguments: the names of the input file (to be read from) and the output file (which will be created)."
      ],
      "metadata": {
        "id": "DunQepHC6J9r"
      }
    },
    {
      "cell_type": "markdown",
      "source": [
        "For example, if a file looks like\n",
        " ```\n",
        "abc def\n",
        "ghi jkl\n",
        "```\n",
        "then the output file will be\n",
        "```\n",
        "fed cba\n",
        "lkj ihg\n",
        "```\n",
        "**Notice**: The newline remains at the end of the string, while the rest of the characters are all reversed."
      ],
      "metadata": {
        "id": "QxWEtFle6Nmu"
      }
    },
    {
      "cell_type": "code",
      "source": [
        "l = ['abc def\\n','ghi jkl']\n",
        "with open('sample1.txt','w') as f:\n",
        "  f.writelines(l)\n",
        "  f.truncate() # To remove the last empty line\n",
        "\n",
        "input_file = 'sample1.txt'\n",
        "output_file = 'sample1_output.txt'"
      ],
      "metadata": {
        "id": "aIJTJNAq6LD7"
      },
      "execution_count": 89,
      "outputs": []
    },
    {
      "cell_type": "code",
      "source": [
        "def reverse_lines(infilename,outfilename):\n",
        "\n",
        "  with open(infilename,'r') as f, open(outfilename,'w') as g:\n",
        "    text = f.readlines()\n",
        "    print(text)\n",
        "\n",
        "    for i in text:\n",
        "      #print(i,end='')\n",
        "      temp = i.strip('\\n')[::-1]\n",
        "      g.write(\"{}\\n\".format(temp))\n",
        "\n",
        "obj = reverse_lines(input_file,output_file)"
      ],
      "metadata": {
        "colab": {
          "base_uri": "https://localhost:8080/"
        },
        "id": "vaWeJLIHpgjk",
        "outputId": "8701d918-353b-4237-928c-ca703b15f3f5"
      },
      "execution_count": 92,
      "outputs": [
        {
          "output_type": "stream",
          "name": "stdout",
          "text": [
            "['abc def\\n', 'ghi jkl']\n"
          ]
        }
      ]
    },
    {
      "cell_type": "markdown",
      "source": [
        "###`Q-5:` Create a Serialized dict of frequency of words in the file. And from given list of words, using serialized dict show word count.\n",
        "\n",
        "* List of word will be given\n",
        "\n"
      ],
      "metadata": {
        "id": "wqvx3sMY6bou"
      }
    },
    {
      "cell_type": "markdown",
      "source": [
        "Given String\n",
        "\n",
        "```\n",
        "strings = \"\"\"Alice was beginning to get very tired of sitting by her sister\n",
        "            on the bank, and of having nothing to do:  once or twice she had\n",
        "            peeped into the book her sister was reading, but it had no\n",
        "            pictures or conversations in it, `and what is the use of a book,'\n",
        "            thought Alice `without pictures or conversation?'\n",
        "\n",
        "            So she was considering in her own mind (as well as she could,\n",
        "            for the hot day made her feel very sleepy and stupid), whether\n",
        "            the pleasure of making a daisy-chain would be worth the trouble\n",
        "            of getting up and picking the daisies, when suddenly a White\n",
        "            Rabbit with pink eyes ran close by her.\n",
        "\n",
        "            There was nothing so VERY remarkable in that; nor did Alice\n",
        "            think it so VERY much out of the way to hear the Rabbit say to\n",
        "            itself, `Oh dear!  Oh dear!  I shall be late!'  (when she thought\n",
        "            it over afterwards, it occurred to her that she ought to have\n",
        "            wondered at this, but at the time it all seemed quite natural);\n",
        "            but when the Rabbit actually TOOK A WATCH OUT OF ITS WAISTCOAT-\n",
        "            POCKET, and looked at it, and then hurried on, Alice started to\n",
        "            her feet, for it flashed across her mind that she had never\n",
        "            before seen a rabbit with either a waistcoat-pocket, or a watch to\n",
        "            take out of it, and burning with curiosity, she ran across the\n",
        "            field after it, and fortunately was just in time to see it pop\n",
        "            down a large rabbit-hole under the hedge.\"\"\"\n",
        "\n",
        "word_list = ['alice', 'wonder', 'natural']\n",
        "```"
      ],
      "metadata": {
        "id": "uc5MSUWg6cZG"
      }
    },
    {
      "cell_type": "code",
      "source": [
        "strings = \"\"\"Alice was beginning to get very tired of sitting by her sister\n",
        "            on the bank, and of having nothing to do:  once or twice she had\n",
        "            peeped into the book her sister was reading, but it had no\n",
        "            pictures or conversations in it, `and what is the use of a book,'\n",
        "            thought Alice `without pictures or conversation?'\n",
        "\n",
        "            So she was considering in her own mind (as well as she could,\n",
        "            for the hot day made her feel very sleepy and stupid), whether\n",
        "            the pleasure of making a daisy-chain would be worth the trouble\n",
        "            of getting up and picking the daisies, when suddenly a White\n",
        "            Rabbit with pink eyes ran close by her.\n",
        "\n",
        "            There was nothing so VERY remarkable in that; nor did Alice\n",
        "            think it so VERY much out of the way to hear the Rabbit say to\n",
        "            itself, `Oh dear!  Oh dear!  I shall be late!'  (when she thought\n",
        "            it over afterwards, it occurred to her that she ought to have\n",
        "            wondered at this, but at the time it all seemed quite natural);\n",
        "            but when the Rabbit actually TOOK A WATCH OUT OF ITS WAISTCOAT-\n",
        "            POCKET, and looked at it, and then hurried on, Alice started to\n",
        "            her feet, for it flashed across her mind that she had never\n",
        "            before seen a rabbit with either a waistcoat-pocket, or a watch to\n",
        "            take out of it, and burning with curiosity, she ran across the\n",
        "            field after it, and fortunately was just in time to see it pop\n",
        "            down a large rabbit-hole under the hedge.\"\"\"\n"
      ],
      "metadata": {
        "id": "3loMQLnK0-ci"
      },
      "execution_count": 123,
      "outputs": []
    },
    {
      "cell_type": "code",
      "source": [
        "string = strings.lower().strip('.,?!;:\"()[]{}').split()\n",
        "print(string)"
      ],
      "metadata": {
        "colab": {
          "base_uri": "https://localhost:8080/"
        },
        "id": "GM8ZU4EJ4tW_",
        "outputId": "b0d3fd24-c8cb-4ff9-b268-8f9fbfaf960e"
      },
      "execution_count": 124,
      "outputs": [
        {
          "output_type": "stream",
          "name": "stdout",
          "text": [
            "['alice', 'was', 'beginning', 'to', 'get', 'very', 'tired', 'of', 'sitting', 'by', 'her', 'sister', 'on', 'the', 'bank,', 'and', 'of', 'having', 'nothing', 'to', 'do:', 'once', 'or', 'twice', 'she', 'had', 'peeped', 'into', 'the', 'book', 'her', 'sister', 'was', 'reading,', 'but', 'it', 'had', 'no', 'pictures', 'or', 'conversations', 'in', 'it,', '`and', 'what', 'is', 'the', 'use', 'of', 'a', \"book,'\", 'thought', 'alice', '`without', 'pictures', 'or', \"conversation?'\", 'so', 'she', 'was', 'considering', 'in', 'her', 'own', 'mind', '(as', 'well', 'as', 'she', 'could,', 'for', 'the', 'hot', 'day', 'made', 'her', 'feel', 'very', 'sleepy', 'and', 'stupid),', 'whether', 'the', 'pleasure', 'of', 'making', 'a', 'daisy-chain', 'would', 'be', 'worth', 'the', 'trouble', 'of', 'getting', 'up', 'and', 'picking', 'the', 'daisies,', 'when', 'suddenly', 'a', 'white', 'rabbit', 'with', 'pink', 'eyes', 'ran', 'close', 'by', 'her.', 'there', 'was', 'nothing', 'so', 'very', 'remarkable', 'in', 'that;', 'nor', 'did', 'alice', 'think', 'it', 'so', 'very', 'much', 'out', 'of', 'the', 'way', 'to', 'hear', 'the', 'rabbit', 'say', 'to', 'itself,', '`oh', 'dear!', 'oh', 'dear!', 'i', 'shall', 'be', \"late!'\", '(when', 'she', 'thought', 'it', 'over', 'afterwards,', 'it', 'occurred', 'to', 'her', 'that', 'she', 'ought', 'to', 'have', 'wondered', 'at', 'this,', 'but', 'at', 'the', 'time', 'it', 'all', 'seemed', 'quite', 'natural);', 'but', 'when', 'the', 'rabbit', 'actually', 'took', 'a', 'watch', 'out', 'of', 'its', 'waistcoat-', 'pocket,', 'and', 'looked', 'at', 'it,', 'and', 'then', 'hurried', 'on,', 'alice', 'started', 'to', 'her', 'feet,', 'for', 'it', 'flashed', 'across', 'her', 'mind', 'that', 'she', 'had', 'never', 'before', 'seen', 'a', 'rabbit', 'with', 'either', 'a', 'waistcoat-pocket,', 'or', 'a', 'watch', 'to', 'take', 'out', 'of', 'it,', 'and', 'burning', 'with', 'curiosity,', 'she', 'ran', 'across', 'the', 'field', 'after', 'it,', 'and', 'fortunately', 'was', 'just', 'in', 'time', 'to', 'see', 'it', 'pop', 'down', 'a', 'large', 'rabbit-hole', 'under', 'the', 'hedge']\n"
          ]
        }
      ]
    },
    {
      "cell_type": "code",
      "source": [
        "# write code here\n",
        "d = {}\n",
        "word_list = ['alice', 'wonder', 'natural']\n",
        "#Counting every word frequency\n",
        "for i in string:\n",
        "  #print(i)\n",
        "  d[i]=0\n",
        "  d[i] = string.count(i)\n",
        "print(d)\n",
        "\n",
        "#list-words' frequency\n",
        "d1={}\n",
        "for i in word_list:\n",
        "  #print(i)\n",
        "  d1[i]=0\n",
        "  if i in d:\n",
        "    d1[i]=d[i]\n",
        "\n",
        "#print(d1)\n",
        "\n",
        "#Using pickle will upload the output in a file\n",
        "\n",
        "import pickle as pkl\n",
        "\n",
        "with open('Q-5_output.pkl','wb') as f:\n",
        "  d = pkl.dump(d1,f)\n",
        "\n",
        "with open('Q-5_output.pkl','rb') as f:\n",
        "  c = pkl.load(f)\n",
        "  print(c)\n"
      ],
      "metadata": {
        "id": "-SmtFFUq6a70",
        "colab": {
          "base_uri": "https://localhost:8080/"
        },
        "outputId": "34355702-50b2-4c00-efa1-d1e88af7b3e1"
      },
      "execution_count": 162,
      "outputs": [
        {
          "output_type": "stream",
          "name": "stdout",
          "text": [
            "{'alice': 4, 'was': 5, 'beginning': 1, 'to': 9, 'get': 1, 'very': 4, 'tired': 1, 'of': 8, 'sitting': 1, 'by': 2, 'her': 7, 'sister': 2, 'on': 1, 'the': 13, 'bank,': 1, 'and': 7, 'having': 1, 'nothing': 2, 'do:': 1, 'once': 1, 'or': 4, 'twice': 1, 'she': 7, 'had': 3, 'peeped': 1, 'into': 1, 'book': 1, 'reading,': 1, 'but': 3, 'it': 7, 'no': 1, 'pictures': 2, 'conversations': 1, 'in': 4, 'it,': 4, '`and': 1, 'what': 1, 'is': 1, 'use': 1, 'a': 8, \"book,'\": 1, 'thought': 2, '`without': 1, \"conversation?'\": 1, 'so': 3, 'considering': 1, 'own': 1, 'mind': 2, '(as': 1, 'well': 1, 'as': 1, 'could,': 1, 'for': 2, 'hot': 1, 'day': 1, 'made': 1, 'feel': 1, 'sleepy': 1, 'stupid),': 1, 'whether': 1, 'pleasure': 1, 'making': 1, 'daisy-chain': 1, 'would': 1, 'be': 2, 'worth': 1, 'trouble': 1, 'getting': 1, 'up': 1, 'picking': 1, 'daisies,': 1, 'when': 2, 'suddenly': 1, 'white': 1, 'rabbit': 4, 'with': 3, 'pink': 1, 'eyes': 1, 'ran': 2, 'close': 1, 'her.': 1, 'there': 1, 'remarkable': 1, 'that;': 1, 'nor': 1, 'did': 1, 'think': 1, 'much': 1, 'out': 3, 'way': 1, 'hear': 1, 'say': 1, 'itself,': 1, '`oh': 1, 'dear!': 2, 'oh': 1, 'i': 1, 'shall': 1, \"late!'\": 1, '(when': 1, 'over': 1, 'afterwards,': 1, 'occurred': 1, 'that': 2, 'ought': 1, 'have': 1, 'wondered': 1, 'at': 3, 'this,': 1, 'time': 2, 'all': 1, 'seemed': 1, 'quite': 1, 'natural);': 1, 'actually': 1, 'took': 1, 'watch': 2, 'its': 1, 'waistcoat-': 1, 'pocket,': 1, 'looked': 1, 'then': 1, 'hurried': 1, 'on,': 1, 'started': 1, 'feet,': 1, 'flashed': 1, 'across': 2, 'never': 1, 'before': 1, 'seen': 1, 'either': 1, 'waistcoat-pocket,': 1, 'take': 1, 'burning': 1, 'curiosity,': 1, 'field': 1, 'after': 1, 'fortunately': 1, 'just': 1, 'see': 1, 'pop': 1, 'down': 1, 'large': 1, 'rabbit-hole': 1, 'under': 1, 'hedge': 1}\n",
            "{'alice': 4, 'wonder': 0, 'natural': 0}\n"
          ]
        }
      ]
    }
  ]
}
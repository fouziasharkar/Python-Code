{
  "nbformat": 4,
  "nbformat_minor": 0,
  "metadata": {
    "colab": {
      "provenance": [],
      "authorship_tag": "ABX9TyPbeYPsRTUoEjPASwf6RMyh",
      "include_colab_link": true
    },
    "kernelspec": {
      "name": "python3",
      "display_name": "Python 3"
    },
    "language_info": {
      "name": "python"
    }
  },
  "cells": [
    {
      "cell_type": "markdown",
      "metadata": {
        "id": "view-in-github",
        "colab_type": "text"
      },
      "source": [
        "<a href=\"https://colab.research.google.com/github/fouziasharkar/Python-Code/blob/main/Replace_item_or_value_in_a_list.ipynb\" target=\"_parent\"><img src=\"https://colab.research.google.com/assets/colab-badge.svg\" alt=\"Open In Colab\"/></a>"
      ]
    },
    {
      "cell_type": "code",
      "execution_count": 5,
      "metadata": {
        "colab": {
          "base_uri": "https://localhost:8080/"
        },
        "id": "JUrL7jlD8VBB",
        "outputId": "9d261bed-d2a7-4764-e74c-4d9b6ee89d5b"
      },
      "outputs": [
        {
          "output_type": "stream",
          "name": "stdout",
          "text": [
            "3\n",
            "100\n",
            "[1, 2, 100, 4, 5, 6]\n"
          ]
        }
      ],
      "source": [
        "l =[1,2,3,4,5,6]\n",
        "find = int(input())\n",
        "rep = int(input())\n",
        "\n",
        "for i in range(0,len(l)):\n",
        "  if find == l[i]:\n",
        "    l[i] = rep\n",
        "\n",
        "print(l)"
      ]
    }
  ]
}
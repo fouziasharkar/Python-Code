{
  "nbformat": 4,
  "nbformat_minor": 0,
  "metadata": {
    "colab": {
      "provenance": [],
      "authorship_tag": "ABX9TyMH1ZYWB/L7OoSgpf9zwp4C",
      "include_colab_link": true
    },
    "kernelspec": {
      "name": "python3",
      "display_name": "Python 3"
    },
    "language_info": {
      "name": "python"
    }
  },
  "cells": [
    {
      "cell_type": "markdown",
      "metadata": {
        "id": "view-in-github",
        "colab_type": "text"
      },
      "source": [
        "<a href=\"https://colab.research.google.com/github/fouziasharkar/Python-Code/blob/main/sum_and_average_of_the_numbers_entered_by_the_user.ipynb\" target=\"_parent\"><img src=\"https://colab.research.google.com/assets/colab-badge.svg\" alt=\"Open In Colab\"/></a>"
      ]
    },
    {
      "cell_type": "markdown",
      "source": [
        "Write a program that keeps on accepting a number from the user until the user enters Zero. Display the sum and average of all the numbers."
      ],
      "metadata": {
        "id": "u72BkUMPwD8F"
      }
    },
    {
      "cell_type": "code",
      "execution_count": 4,
      "metadata": {
        "colab": {
          "base_uri": "https://localhost:8080/"
        },
        "id": "lRGivRnSvzSv",
        "outputId": "fc97fe16-da87-4d82-9937-5cc781d8b40c"
      },
      "outputs": [
        {
          "output_type": "stream",
          "name": "stdout",
          "text": [
            "enter a number20\n",
            "enter a number30\n",
            "enter a number40\n",
            "enter a number0\n",
            "90\n",
            "30.0\n"
          ]
        }
      ],
      "source": [
        "sum = 0\n",
        "count = 0\n",
        "avg = 0\n",
        "i = 0\n",
        "while True:\n",
        "  n = int(input('enter a number'))\n",
        "  if n==0:\n",
        "    break\n",
        "  sum += n\n",
        "  count+=1\n",
        "  avg = sum/count\n",
        "  i+=1\n",
        "\n",
        "print(sum)\n",
        "print(avg)"
      ]
    }
  ]
}
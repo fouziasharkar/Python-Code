{
  "nbformat": 4,
  "nbformat_minor": 0,
  "metadata": {
    "colab": {
      "provenance": [],
      "authorship_tag": "ABX9TyNOma+evRNCHhMqdlPWatyZ",
      "include_colab_link": true
    },
    "kernelspec": {
      "name": "python3",
      "display_name": "Python 3"
    },
    "language_info": {
      "name": "python"
    }
  },
  "cells": [
    {
      "cell_type": "markdown",
      "metadata": {
        "id": "view-in-github",
        "colab_type": "text"
      },
      "source": [
        "<a href=\"https://colab.research.google.com/github/fouziasharkar/Python-Code/blob/main/find_the_factorial_of_a_given_number_without_using_loop.ipynb\" target=\"_parent\"><img src=\"https://colab.research.google.com/assets/colab-badge.svg\" alt=\"Open In Colab\"/></a>"
      ]
    },
    {
      "cell_type": "code",
      "execution_count": 3,
      "metadata": {
        "colab": {
          "base_uri": "https://localhost:8080/"
        },
        "id": "Fb1hjYZwY7iC",
        "outputId": "16c36ce8-ce9c-4c5c-9bc7-5d263bdcc872"
      },
      "outputs": [
        {
          "output_type": "execute_result",
          "data": {
            "text/plain": [
              "5040"
            ]
          },
          "metadata": {},
          "execution_count": 3
        }
      ],
      "source": [
        "def fact(num):\n",
        "  if num ==0 or num ==1:\n",
        "    return 1\n",
        "\n",
        "  else:\n",
        "    sum = 0\n",
        "    a = fact(num-1)\n",
        "    temp = num*a\n",
        "    sum = sum + temp\n",
        "    return sum\n",
        "\n",
        "fact(7)\n"
      ]
    }
  ]
}
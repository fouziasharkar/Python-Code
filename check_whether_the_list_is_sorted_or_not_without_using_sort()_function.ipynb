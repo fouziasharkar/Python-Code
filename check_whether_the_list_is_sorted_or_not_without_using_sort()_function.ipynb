{
  "nbformat": 4,
  "nbformat_minor": 0,
  "metadata": {
    "colab": {
      "provenance": [],
      "authorship_tag": "ABX9TyM8b68uYohX2MaBOy/6lwA+",
      "include_colab_link": true
    },
    "kernelspec": {
      "name": "python3",
      "display_name": "Python 3"
    },
    "language_info": {
      "name": "python"
    }
  },
  "cells": [
    {
      "cell_type": "markdown",
      "metadata": {
        "id": "view-in-github",
        "colab_type": "text"
      },
      "source": [
        "<a href=\"https://colab.research.google.com/github/fouziasharkar/Python-Code/blob/main/check_whether_the_list_is_sorted_or_not_without_using_sort()_function.ipynb\" target=\"_parent\"><img src=\"https://colab.research.google.com/assets/colab-badge.svg\" alt=\"Open In Colab\"/></a>"
      ]
    },
    {
      "cell_type": "code",
      "execution_count": 4,
      "metadata": {
        "colab": {
          "base_uri": "https://localhost:8080/"
        },
        "id": "JUAEgsrZ59tR",
        "outputId": "bed8b621-8600-4844-8678-78763dcd6c3b"
      },
      "outputs": [
        {
          "output_type": "stream",
          "name": "stdout",
          "text": [
            "Not sorted\n"
          ]
        }
      ],
      "source": [
        "l = [1,3,4,2]\n",
        "flag = 0\n",
        "#print(len(l))\n",
        "for i in range(0,len(l)-1):\n",
        "  if l[i]>=l[i+1]:\n",
        "    flag = 1\n",
        "    break\n",
        "\n",
        "if flag==0:\n",
        "  print('Sorted')\n",
        "else:\n",
        "  print('Not sorted')\n"
      ]
    }
  ]
}
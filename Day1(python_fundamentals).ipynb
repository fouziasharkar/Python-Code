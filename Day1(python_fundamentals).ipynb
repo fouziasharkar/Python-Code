{
  "nbformat": 4,
  "nbformat_minor": 0,
  "metadata": {
    "colab": {
      "provenance": [],
      "authorship_tag": "ABX9TyNTn0EQCqxwgiUpI7Pwt/1R",
      "include_colab_link": true
    },
    "kernelspec": {
      "name": "python3",
      "display_name": "Python 3"
    },
    "language_info": {
      "name": "python"
    }
  },
  "cells": [
    {
      "cell_type": "markdown",
      "metadata": {
        "id": "view-in-github",
        "colab_type": "text"
      },
      "source": [
        "<a href=\"https://colab.research.google.com/github/fouziasharkar/Python-Code/blob/main/Day1(python_fundamentals).ipynb\" target=\"_parent\"><img src=\"https://colab.research.google.com/assets/colab-badge.svg\" alt=\"Open In Colab\"/></a>"
      ]
    },
    {
      "cell_type": "code",
      "source": [
        "print(\"Hello World\")"
      ],
      "metadata": {
        "colab": {
          "base_uri": "https://localhost:8080/"
        },
        "id": "3k0foHObuYTH",
        "outputId": "e7bd8366-7c99-48eb-f831-9f8157b7e43b"
      },
      "execution_count": null,
      "outputs": [
        {
          "output_type": "stream",
          "name": "stdout",
          "text": [
            "Hello World\n"
          ]
        }
      ]
    },
    {
      "cell_type": "code",
      "source": [],
      "metadata": {
        "id": "qAs8Zejnuwxk"
      },
      "execution_count": null,
      "outputs": []
    },
    {
      "cell_type": "code",
      "source": [
        "print('hello', 1, 2, True, sep='/')"
      ],
      "metadata": {
        "colab": {
          "base_uri": "https://localhost:8080/"
        },
        "id": "-XokpS4rwdrI",
        "outputId": "7ba6fe07-636d-4c9b-c117-cc668b749d13"
      },
      "execution_count": null,
      "outputs": [
        {
          "output_type": "stream",
          "name": "stdout",
          "text": [
            "hello/1/2/True\n"
          ]
        }
      ]
    },
    {
      "cell_type": "code",
      "source": [
        "print('hello', end='-') #end and \\n is similar which means line change\n",
        "print('world')"
      ],
      "metadata": {
        "colab": {
          "base_uri": "https://localhost:8080/"
        },
        "id": "42GZNfXzyAj1",
        "outputId": "7fd4e4fa-aef3-48bc-d6c8-200ecabb111d"
      },
      "execution_count": null,
      "outputs": [
        {
          "output_type": "stream",
          "name": "stdout",
          "text": [
            "hello-world\n"
          ]
        }
      ]
    },
    {
      "cell_type": "code",
      "source": [
        "#type function tells the type of the data\n",
        "type(3)"
      ],
      "metadata": {
        "id": "xWHcSVrSyAwi",
        "colab": {
          "base_uri": "https://localhost:8080/"
        },
        "outputId": "ec2f408b-655e-477b-e476-801d3276ac75"
      },
      "execution_count": null,
      "outputs": [
        {
          "output_type": "execute_result",
          "data": {
            "text/plain": [
              "int"
            ]
          },
          "metadata": {},
          "execution_count": 1
        }
      ]
    },
    {
      "cell_type": "code",
      "source": [
        "#dynamic typing - which means python e variable create korar shomoy bolte hoy na eta kon type r variable\n",
        "a = 5\n",
        "print(a)\n",
        "#static typing - bole dite hoy data type\n",
        "#int b = 6\n",
        "\n",
        "# Dynamic binding\n",
        "a = 5\n",
        "print(a)\n",
        "\n",
        "a = 'Fouzia'\n",
        "print(a)\n",
        "\n"
      ],
      "metadata": {
        "colab": {
          "base_uri": "https://localhost:8080/"
        },
        "id": "fdpYQ1yU6Qhi",
        "outputId": "0dde2b1a-04d3-4e5b-a689-8a8262b63434"
      },
      "execution_count": null,
      "outputs": [
        {
          "output_type": "stream",
          "name": "stdout",
          "text": [
            "5\n",
            "5\n",
            "Fouzia\n"
          ]
        }
      ]
    },
    {
      "cell_type": "code",
      "source": [
        "float(10)"
      ],
      "metadata": {
        "colab": {
          "base_uri": "https://localhost:8080/"
        },
        "id": "gS0SODQlGFyF",
        "outputId": "a9b8ecda-4523-4b2b-c482-de947adfb727"
      },
      "execution_count": null,
      "outputs": [
        {
          "output_type": "execute_result",
          "data": {
            "text/plain": [
              "10.0"
            ]
          },
          "metadata": {},
          "execution_count": 12
        }
      ]
    },
    {
      "cell_type": "markdown",
      "source": [
        "#Literals"
      ],
      "metadata": {
        "id": "GTZ9cfmaHpMJ"
      }
    },
    {
      "cell_type": "code",
      "source": [
        "a = 0b1010 #binary literals\n",
        "b = 100 #Decimal literals\n",
        "c = 0o310 #Octal literals\n",
        "d = 0x12c #Hexadecimal literal\n",
        "\n",
        "#Float literal\n",
        "float_1 = 10.5\n",
        "float_2 = 1.5e2\n",
        "float_3 = 1.5e-2\n",
        "\n",
        "#Complex literal\n",
        "x=3.14j\n",
        "\n",
        "print(a,b,c,d)\n",
        "print(x, x.imag, x.real)"
      ],
      "metadata": {
        "colab": {
          "base_uri": "https://localhost:8080/"
        },
        "id": "PLCjWS7QHt7a",
        "outputId": "098a6a09-8e53-4d87-d806-d6ad68b928dd"
      },
      "execution_count": null,
      "outputs": [
        {
          "output_type": "stream",
          "name": "stdout",
          "text": [
            "10 100 200 300\n",
            "3.14j 3.14 0.0\n"
          ]
        }
      ]
    },
    {
      "cell_type": "markdown",
      "source": [
        "# Session 1 Tasks"
      ],
      "metadata": {
        "id": "xiN1scOuM4uD"
      }
    },
    {
      "cell_type": "markdown",
      "source": [
        "### Q1 :- Print the given strings as per stated format.\n",
        "\n",
        "**Given strings**:\n",
        "```\n",
        "\"Data\" \"Science\" \"Mentorship\" \"Program\"\n",
        "\"By\" \"CampusX\"\n",
        "```\n",
        "**Output**:\n",
        "```\n",
        "Data-Science-Mentorship-Program-started-By-CampusX\n",
        "```\n",
        "\n",
        "Concept- [Seperator and End]"
      ],
      "metadata": {
        "id": "2doIXf8bqe9_"
      }
    },
    {
      "cell_type": "code",
      "source": [
        "print('Data', end='-')\n",
        "print('Science', end='-')\n",
        "print('Mentorship', end='-')\n",
        "print('Program', end='-')\n",
        "print('By', end='-')\n",
        "print('CampusX')\n",
        "\n",
        "print('Data', 'Science', 'Mentorship', 'Program', 'By', 'CampusX', sep='-')"
      ],
      "metadata": {
        "colab": {
          "base_uri": "https://localhost:8080/"
        },
        "id": "DXeTJG4jNQLw",
        "outputId": "f135e803-0885-42e0-fcfd-9764364f2043"
      },
      "execution_count": null,
      "outputs": [
        {
          "output_type": "stream",
          "name": "stdout",
          "text": [
            "Data-Science-Mentorship-Program-By-CampusX\n",
            "Data-Science-Mentorship-Program-By-CampusX\n"
          ]
        }
      ]
    },
    {
      "cell_type": "markdown",
      "source": [
        "### Q2:- Write a program that will convert celsius value to fahrenheit."
      ],
      "metadata": {
        "id": "1KUpN7ZTrC3_"
      }
    },
    {
      "cell_type": "code",
      "source": [
        "c = float(input('enter a num: '))\n",
        "\n",
        "#formuna celsius to farenheit\n",
        "\n",
        "f = (9/5)*c + 32\n",
        "print(f)"
      ],
      "metadata": {
        "colab": {
          "base_uri": "https://localhost:8080/"
        },
        "id": "zhnlChN7ZWSj",
        "outputId": "0bcd492d-774f-4eae-c939-2e5d45cf625a"
      },
      "execution_count": null,
      "outputs": [
        {
          "output_type": "stream",
          "name": "stdout",
          "text": [
            "enter a num: 10.5\n",
            "50.900000000000006\n"
          ]
        }
      ]
    },
    {
      "cell_type": "markdown",
      "source": [
        "### Q3:- Take 2 numbers as input from the user.Write a program to swap the numbers without using any special python syntax."
      ],
      "metadata": {
        "id": "RLrOBBJurLB2"
      }
    },
    {
      "cell_type": "code",
      "source": [
        "#Take two inputs from users\n",
        "a = int(input('Enter a number: '))\n",
        "b = int(input('Enter a number: '))\n",
        "# swap numbers\n",
        "c = a\n",
        "a = b\n",
        "b = c\n",
        "\n",
        "print('a:',a,'b:',b)\n",
        "\n"
      ],
      "metadata": {
        "colab": {
          "base_uri": "https://localhost:8080/"
        },
        "id": "PbX1M3ksPVTJ",
        "outputId": "08c3a193-f42a-40ca-8b1a-07b536d3b5dc"
      },
      "execution_count": null,
      "outputs": [
        {
          "output_type": "stream",
          "name": "stdout",
          "text": [
            "Enter a number: 10\n",
            "Enter a number: 20\n",
            "a: 20 b: 10\n"
          ]
        }
      ]
    },
    {
      "cell_type": "markdown",
      "source": [
        "### Q4:- Write a program to find the euclidean distance between two coordinates.Take both the coordinates from the user as input."
      ],
      "metadata": {
        "id": "waLCP1bjr7ML"
      }
    },
    {
      "cell_type": "code",
      "source": [
        "x1= float(input('Enter a number: '))\n",
        "x2 = float(input('Enter a number: '))\n",
        "y1 = float(input('Enter a number: '))\n",
        "y2 = float(input('Enter a number: '))\n",
        "\n",
        "#equation\n",
        "diff1 = (x2-x1)**2\n",
        "diff2= (y2-y1)**2\n",
        "\n",
        "result =(diff1+diff2)**0.5\n",
        "\n",
        "print(result)\n",
        "\n",
        "\n"
      ],
      "metadata": {
        "colab": {
          "base_uri": "https://localhost:8080/"
        },
        "id": "YhrjA8uJSA2M",
        "outputId": "707540bf-0d38-4a0a-b2cd-1d74c1b8e6f4"
      },
      "execution_count": null,
      "outputs": [
        {
          "output_type": "stream",
          "name": "stdout",
          "text": [
            "Enter a number: 30\n",
            "Enter a number: 20\n",
            "Enter a number: 20\n",
            "Enter a number: 10\n",
            "14.142135623730951\n"
          ]
        }
      ]
    },
    {
      "cell_type": "markdown",
      "source": [
        "### Q5:- Write a program to find the simple interest when the value of principle,rate of interest and time period is provided by the user.\n"
      ],
      "metadata": {
        "id": "VLrhg-FRsHjR"
      }
    },
    {
      "cell_type": "code",
      "source": [
        "principal= float(input('Enter a number: '))\n",
        "rate = float(input('Enter a number: '))\n",
        "time = float(input('Enter a number: '))\n",
        "\n",
        "#formula\n",
        "interest = (principal*rate*time)/100\n",
        "\n",
        "print(interest)"
      ],
      "metadata": {
        "colab": {
          "base_uri": "https://localhost:8080/"
        },
        "id": "2cgdGYsiaFG9",
        "outputId": "ad3fead7-f9b2-44ca-aa0c-cf7a1dd17015"
      },
      "execution_count": null,
      "outputs": [
        {
          "output_type": "stream",
          "name": "stdout",
          "text": [
            "Enter a number: 1000\n",
            "Enter a number: 5\n",
            "Enter a number: 3\n",
            "150.0\n"
          ]
        }
      ]
    },
    {
      "cell_type": "markdown",
      "source": [
        "### Q6:- Write a program that will tell the number of dogs and chicken are there when the user will provide the value of total heads and legs.\n",
        "\n",
        "For example:\n",
        "Input:\n",
        "heads -> 4\n",
        "legs -> 12\n",
        "<br>\n",
        "Output:\n",
        "dogs -> 2\n",
        "chicken -> 2\n",
        "\n",
        "\n",
        "\n"
      ],
      "metadata": {
        "id": "LMy0BTUktYKa"
      }
    },
    {
      "cell_type": "code",
      "source": [
        "total_heads = int(input('enter heads number:' ))\n",
        "total_legs = int(input('enter legs number:' ))\n",
        "\n",
        "#total heads\n",
        "#total heads = 1*dog + 1* chicken\n",
        "# so, dog = total heads - chicken\n",
        "# total legs = 4* dogs + 2* chicken\n",
        "# total legs = 4*(total heads - chicken)+2*chicken\n",
        "#            = 4total head - 4chicken +2chicken\n",
        "#            = -2 chicken + 4 total heads\n",
        "# chicken = (total legs - 4 total heads)/-2\n",
        "\n",
        "chicken = (total_legs - 4*total_heads)/-2\n",
        "\n",
        "dog = total_heads - chicken\n",
        "\n",
        "print('dogs', dog, 'chicken', chicken)\n",
        "\n",
        "\n"
      ],
      "metadata": {
        "colab": {
          "base_uri": "https://localhost:8080/"
        },
        "id": "X8y1Hbx3xYN2",
        "outputId": "d468f684-a69f-4c42-e108-5d63269f7b05"
      },
      "execution_count": null,
      "outputs": [
        {
          "output_type": "stream",
          "name": "stdout",
          "text": [
            "enter heads number:4\n",
            "enter legs number:12\n",
            "dogs 2.0 chicken 2.0\n"
          ]
        }
      ]
    },
    {
      "cell_type": "markdown",
      "source": [
        "### Q7:- Write a program to find the sum of squares of first n natural numbers where n will be provided by the user."
      ],
      "metadata": {
        "id": "gJ7C5kZYt4BP"
      }
    },
    {
      "cell_type": "code",
      "source": [
        "num = int(input('enter a number: '))\n",
        "\n",
        "# formula\n",
        "sum = ((num*(num+1))*(2*num+1))/6\n",
        "\n",
        "print('sum: ', sum)"
      ],
      "metadata": {
        "colab": {
          "base_uri": "https://localhost:8080/"
        },
        "id": "n_1o21GQJGPY",
        "outputId": "d70cde8e-e56c-4972-f212-a8228aa7c80a"
      },
      "execution_count": null,
      "outputs": [
        {
          "output_type": "stream",
          "name": "stdout",
          "text": [
            "enter a number: 10\n",
            "sum:  385.0\n"
          ]
        }
      ]
    },
    {
      "cell_type": "markdown",
      "source": [
        "### Q8:- Given the first 2 terms of an Arithmetic Series.Find the Nth term of the series. Assume all inputs are provided by the user."
      ],
      "metadata": {
        "id": "FHrMM7g-yG1h"
      }
    },
    {
      "cell_type": "code",
      "source": [
        "x1= float(input('Enter a number: '))\n",
        "x2 = float(input('Enter a number: '))\n",
        "n = int(input('enter a number: '))\n",
        "\n",
        "#arethmetic series means (+/-) between numbers : 3,7,11,15... (3+4=7, 7+4=11....) so, d=4\n",
        "d = x2-x1\n",
        "\n",
        "#formula of nth term of arethmetic series\n",
        "xn = x1+(n-1)*d\n",
        "print(xn)"
      ],
      "metadata": {
        "colab": {
          "base_uri": "https://localhost:8080/"
        },
        "id": "U8aNkmpBNSt6",
        "outputId": "a8de8ace-09d4-4962-96af-3f66cbd6dc40"
      },
      "execution_count": null,
      "outputs": [
        {
          "output_type": "stream",
          "name": "stdout",
          "text": [
            "Enter a number: 5.5\n",
            "Enter a number: 10.5\n",
            "enter a number: 4\n",
            "20.5\n"
          ]
        }
      ]
    },
    {
      "cell_type": "markdown",
      "source": [
        "### Q9:- Given 2 fractions, find the sum of those 2 fractions.Take the numerator and denominator values of the fractions from the user."
      ],
      "metadata": {
        "id": "QgyRX_es1oum"
      }
    },
    {
      "cell_type": "code",
      "source": [
        "#first fraction number\n",
        "num1 = int(input('enter a number: '))\n",
        "den1 = int(input('enter a number: '))\n",
        "\n",
        "#second fraction number\n",
        "num2 = int(input('enter a number: '))\n",
        "den2 = int(input('enter a number: '))\n",
        "\n",
        "# common denominator\n",
        "cd = den1*den2\n",
        "\n",
        "# common numerators\n",
        "new_num1 = (cd/den1)*num1\n",
        "new_num2 = (cd/den2)*num2\n",
        "sum = new_num1 + new_num2\n",
        "\n",
        "print(sum, '/', cd)\n"
      ],
      "metadata": {
        "colab": {
          "base_uri": "https://localhost:8080/"
        },
        "id": "ALo5fG2La6zi",
        "outputId": "fcdb1494-6519-4905-ff67-004ca37ce4a3"
      },
      "execution_count": null,
      "outputs": [
        {
          "output_type": "stream",
          "name": "stdout",
          "text": [
            "enter a number: 1\n",
            "enter a number: 2\n",
            "enter a number: 1\n",
            "enter a number: 3\n",
            "5.0 / 6\n"
          ]
        }
      ]
    },
    {
      "cell_type": "markdown",
      "source": [
        "### Q10:- Given the height, width and breadth of a milk tank, you have to find out how many glasses of milk can be obtained? Assume all the inputs are provided by the user.\n",
        "\n",
        "\n",
        "\n",
        "Input:<br>\n",
        "Dimensions of the milk tank<br>\n",
        "H = 20cm, L = 20cm, B = 20cm\n",
        "<br><br>\n",
        "Dimensions of the glass<br>\n",
        "h = 3cm, r = 1cm"
      ],
      "metadata": {
        "id": "eaql38ln13u7"
      }
    },
    {
      "cell_type": "code",
      "source": [
        "#milk tank input\n",
        "H1 = float(input('enter a num: '))\n",
        "L = float(input('enter a num: '))\n",
        "B = float(input('enter a num: '))\n",
        "\n",
        "#glass input\n",
        "h2 = float(input('enter a num: '))\n",
        "r = float(input('enter a num: '))\n",
        "\n",
        "# Milk tank volume\n",
        "mv = H1*L*B\n",
        "#print(mv)\n",
        "# Glass volume\n",
        "gv = 3.1416* r*r *h2\n",
        "#print(gv)\n",
        "\n",
        "#result\n",
        "print(int(mv/gv))\n"
      ],
      "metadata": {
        "colab": {
          "base_uri": "https://localhost:8080/"
        },
        "id": "KL6EWNYoW4F3",
        "outputId": "408bfc30-7ec6-4e91-a409-54565855c398"
      },
      "execution_count": null,
      "outputs": [
        {
          "output_type": "stream",
          "name": "stdout",
          "text": [
            "enter a num: 30\n",
            "enter a num: 20\n",
            "enter a num: 15\n",
            "enter a num: 10\n",
            "enter a num: 3\n",
            "31\n"
          ]
        }
      ]
    }
  ]
}
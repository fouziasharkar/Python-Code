{
  "nbformat": 4,
  "nbformat_minor": 0,
  "metadata": {
    "colab": {
      "provenance": [],
      "authorship_tag": "ABX9TyPdQcWcKLNpC70BSyxOEFYt",
      "include_colab_link": true
    },
    "kernelspec": {
      "name": "python3",
      "display_name": "Python 3"
    },
    "language_info": {
      "name": "python"
    }
  },
  "cells": [
    {
      "cell_type": "markdown",
      "metadata": {
        "id": "view-in-github",
        "colab_type": "text"
      },
      "source": [
        "<a href=\"https://colab.research.google.com/github/fouziasharkar/Python-Code/blob/main/Swap_2_variables.ipynb\" target=\"_parent\"><img src=\"https://colab.research.google.com/assets/colab-badge.svg\" alt=\"Open In Colab\"/></a>"
      ]
    },
    {
      "cell_type": "code",
      "execution_count": 2,
      "metadata": {
        "colab": {
          "base_uri": "https://localhost:8080/"
        },
        "id": "kLiU6V-gbbdU",
        "outputId": "61f1465d-df39-486a-d484-1d1bd9cf0302"
      },
      "outputs": [
        {
          "output_type": "stream",
          "name": "stdout",
          "text": [
            "Enter a number, a: 5\n",
            "Enter a number, b: 6\n",
            "a: 6 b: 5\n"
          ]
        }
      ],
      "source": [
        "#Swap 2 variables in Python using third variable\n",
        "#Take two inputs from users\n",
        "a = int(input('Enter a number, a: '))\n",
        "b = int(input('Enter a number, b: '))\n",
        "# swap numbers\n",
        "c = a\n",
        "a = b\n",
        "b = c\n",
        "\n",
        "print('a:',a,'b:',b)\n"
      ]
    }
  ]
}
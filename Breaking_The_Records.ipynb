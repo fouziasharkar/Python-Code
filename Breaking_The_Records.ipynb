{
  "nbformat": 4,
  "nbformat_minor": 0,
  "metadata": {
    "colab": {
      "provenance": [],
      "authorship_tag": "ABX9TyMEjzm5VYFIHkUDzxv3vmDp",
      "include_colab_link": true
    },
    "kernelspec": {
      "name": "python3",
      "display_name": "Python 3"
    },
    "language_info": {
      "name": "python"
    }
  },
  "cells": [
    {
      "cell_type": "markdown",
      "metadata": {
        "id": "view-in-github",
        "colab_type": "text"
      },
      "source": [
        "<a href=\"https://colab.research.google.com/github/fouziasharkar/Python-Code/blob/main/Breaking_The_Records.ipynb\" target=\"_parent\"><img src=\"https://colab.research.google.com/assets/colab-badge.svg\" alt=\"Open In Colab\"/></a>"
      ]
    },
    {
      "cell_type": "code",
      "source": [
        "def breakingRecords(n,score):\n",
        "\n",
        "  max_count = 0 #1+1\n",
        "  min_count = 0 #1+1+1+1\n",
        "  temp = score[0]\n",
        "  a = temp\n",
        "  b = temp\n",
        "\n",
        "  for i in score:\n",
        "    if i > a:\n",
        "      max_count+=1\n",
        "      a = i\n",
        "    if i<b:\n",
        "      min_count+=1\n",
        "      b=i\n",
        "  print(max_count,min_count)\n",
        "\n",
        "\n",
        "\n",
        "scores = [10, 5, 20, 20, 4, 5, 2, 25, 1]\n",
        "n=len(scores)\n",
        "result = breakingRecords(n, scores)\n",
        "#print(result)"
      ],
      "metadata": {
        "id": "j2g5hExhOglu",
        "outputId": "5c7d233d-4f9e-4c27-e1a7-927e74678fc8",
        "colab": {
          "base_uri": "https://localhost:8080/"
        }
      },
      "execution_count": 1,
      "outputs": [
        {
          "output_type": "stream",
          "name": "stdout",
          "text": [
            "2 4\n"
          ]
        }
      ]
    },
    {
      "cell_type": "code",
      "source": [],
      "metadata": {
        "id": "JJQ0v-ZnOh8d"
      },
      "execution_count": 1,
      "outputs": []
    },
    {
      "cell_type": "code",
      "source": [],
      "metadata": {
        "id": "y3uhF8aDOh_H"
      },
      "execution_count": 1,
      "outputs": []
    },
    {
      "cell_type": "code",
      "source": [],
      "metadata": {
        "id": "hDG0ovWhOgoX"
      },
      "execution_count": 1,
      "outputs": []
    }
  ]
}
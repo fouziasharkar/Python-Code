{
  "nbformat": 4,
  "nbformat_minor": 0,
  "metadata": {
    "colab": {
      "provenance": [],
      "authorship_tag": "ABX9TyO5INlQdyFaPD59JyVQXlIJ",
      "include_colab_link": true
    },
    "kernelspec": {
      "name": "python3",
      "display_name": "Python 3"
    },
    "language_info": {
      "name": "python"
    }
  },
  "cells": [
    {
      "cell_type": "markdown",
      "metadata": {
        "id": "view-in-github",
        "colab_type": "text"
      },
      "source": [
        "<a href=\"https://colab.research.google.com/github/fouziasharkar/Python-Code/blob/main/Reverse_a_given_number.ipynb\" target=\"_parent\"><img src=\"https://colab.research.google.com/assets/colab-badge.svg\" alt=\"Open In Colab\"/></a>"
      ]
    },
    {
      "cell_type": "code",
      "execution_count": 1,
      "metadata": {
        "colab": {
          "base_uri": "https://localhost:8080/"
        },
        "id": "549qnsXFo9kU",
        "outputId": "aef075a4-6eb0-43dc-a37a-89a8aca0e79d"
      },
      "outputs": [
        {
          "output_type": "stream",
          "name": "stdout",
          "text": [
            "enter a number: 4567\n",
            "7654"
          ]
        }
      ],
      "source": [
        "n = input('enter a number: ')\n",
        "number = int(n)\n",
        "\n",
        "count = 0\n",
        "for i in n:\n",
        "  count+=1\n",
        "#print(count)\n",
        "\n",
        "for _ in range (count):\n",
        "  r = number%10 #remove the last digit\n",
        "\n",
        "  c = number//10 #extract the last digit\n",
        "\n",
        "  number = c\n",
        "\n",
        "  print(r, end='')"
      ]
    }
  ]
}
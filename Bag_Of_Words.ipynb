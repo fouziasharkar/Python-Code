{
  "nbformat": 4,
  "nbformat_minor": 0,
  "metadata": {
    "colab": {
      "provenance": [],
      "authorship_tag": "ABX9TyMFNbs+0SQcyVhAmcMxzm54",
      "include_colab_link": true
    },
    "kernelspec": {
      "name": "python3",
      "display_name": "Python 3"
    },
    "language_info": {
      "name": "python"
    }
  },
  "cells": [
    {
      "cell_type": "markdown",
      "metadata": {
        "id": "view-in-github",
        "colab_type": "text"
      },
      "source": [
        "<a href=\"https://colab.research.google.com/github/fouziasharkar/Python-Code/blob/main/Bag_Of_Words.ipynb\" target=\"_parent\"><img src=\"https://colab.research.google.com/assets/colab-badge.svg\" alt=\"Open In Colab\"/></a>"
      ]
    },
    {
      "cell_type": "code",
      "execution_count": 23,
      "metadata": {
        "colab": {
          "base_uri": "https://localhost:8080/"
        },
        "id": "5RTYbYBPdylt",
        "outputId": "31fd9229-16f2-4881-e878-ac14d43bab02"
      },
      "outputs": [
        {
          "output_type": "stream",
          "name": "stdout",
          "text": [
            "Unique vocab:  ['and', 'on', 'log.', 'The', 'cat', 'sat', 'the', 'dog.', 'mat.', 'dog']\n",
            "The cat sat on the mat.\n",
            "[0, 1, 0, 1, 1, 1, 1, 0, 1, 0]\n",
            "The dog sat on the log.\n",
            "[0, 1, 1, 1, 0, 1, 1, 0, 0, 1]\n",
            "The cat and the dog.\n",
            "[1, 0, 0, 1, 1, 0, 1, 1, 0, 1]\n"
          ]
        }
      ],
      "source": [
        "def bow(sentences):\n",
        "  vocab = []\n",
        "  for i in sentences:\n",
        "    #print(i)\n",
        "    vocab.extend(i.split())\n",
        "  vocab = list(set(vocab))\n",
        "  print('Unique vocab: ',vocab)\n",
        "\n",
        "  for sentence in sentences:\n",
        "    print(sentence)\n",
        "    vector=[]\n",
        "    for word in vocab:\n",
        "      #print(word)\n",
        "      vector.append(sentence.count(word))\n",
        "\n",
        "    print(vector)\n",
        "\n",
        "\n",
        "\n",
        "\n",
        "\n",
        "\n",
        "s = [\n",
        "  \"The cat sat on the mat.\",\n",
        "  \"The dog sat on the log.\",\n",
        "  \"The cat and the dog.\"\n",
        "]\n",
        "\n",
        "bow(s)"
      ]
    }
  ]
}
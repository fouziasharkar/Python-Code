{
  "nbformat": 4,
  "nbformat_minor": 0,
  "metadata": {
    "colab": {
      "provenance": [],
      "authorship_tag": "ABX9TyMEjUEwkpAkFAIGljb4H8y9",
      "include_colab_link": true
    },
    "kernelspec": {
      "name": "python3",
      "display_name": "Python 3"
    },
    "language_info": {
      "name": "python"
    }
  },
  "cells": [
    {
      "cell_type": "markdown",
      "metadata": {
        "id": "view-in-github",
        "colab_type": "text"
      },
      "source": [
        "<a href=\"https://colab.research.google.com/github/fouziasharkar/Python-Code/blob/main/sum_of_the_square_of_a_given_number.ipynb\" target=\"_parent\"><img src=\"https://colab.research.google.com/assets/colab-badge.svg\" alt=\"Open In Colab\"/></a>"
      ]
    },
    {
      "cell_type": "code",
      "execution_count": 2,
      "metadata": {
        "colab": {
          "base_uri": "https://localhost:8080/"
        },
        "id": "z3ZOc8G1NnU6",
        "outputId": "cfea4761-1a36-41ab-f483-6bb99bd1bddd"
      },
      "outputs": [
        {
          "output_type": "stream",
          "name": "stdout",
          "text": [
            "Enter a number: 234\n",
            "29\n"
          ]
        }
      ],
      "source": [
        "#sum of the square of a given number\n",
        "\n",
        "num = input('Enter a number: ')\n",
        "sum =0\n",
        "for i in num:\n",
        "  temp = int(num)%10\n",
        "  num = int(num)//10\n",
        "  sum = sum+temp**2\n",
        "\n",
        "print(sum)"
      ]
    }
  ]
}
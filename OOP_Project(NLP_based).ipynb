{
  "nbformat": 4,
  "nbformat_minor": 0,
  "metadata": {
    "colab": {
      "provenance": [],
      "authorship_tag": "ABX9TyNvakEIJ/tbWZi334RKx7t/",
      "include_colab_link": true
    },
    "kernelspec": {
      "name": "python3",
      "display_name": "Python 3"
    },
    "language_info": {
      "name": "python"
    }
  },
  "cells": [
    {
      "cell_type": "markdown",
      "metadata": {
        "id": "view-in-github",
        "colab_type": "text"
      },
      "source": [
        "<a href=\"https://colab.research.google.com/github/fouziasharkar/Python-Code/blob/main/OOP_Project(NLP_based).ipynb\" target=\"_parent\"><img src=\"https://colab.research.google.com/assets/colab-badge.svg\" alt=\"Open In Colab\"/></a>"
      ]
    },
    {
      "cell_type": "code",
      "execution_count": 1,
      "metadata": {
        "colab": {
          "base_uri": "https://localhost:8080/"
        },
        "id": "rqS0vx-Etlek",
        "outputId": "5525fbdb-55ae-4959-d937-6f55f1281bbe"
      },
      "outputs": [
        {
          "output_type": "stream",
          "name": "stdout",
          "text": [
            "Collecting nlpcloud\n",
            "  Downloading nlpcloud-1.1.46-py3-none-any.whl (3.9 kB)\n",
            "Requirement already satisfied: requests in /usr/local/lib/python3.10/dist-packages (from nlpcloud) (2.31.0)\n",
            "Requirement already satisfied: charset-normalizer<4,>=2 in /usr/local/lib/python3.10/dist-packages (from requests->nlpcloud) (3.3.2)\n",
            "Requirement already satisfied: idna<4,>=2.5 in /usr/local/lib/python3.10/dist-packages (from requests->nlpcloud) (3.7)\n",
            "Requirement already satisfied: urllib3<3,>=1.21.1 in /usr/local/lib/python3.10/dist-packages (from requests->nlpcloud) (2.0.7)\n",
            "Requirement already satisfied: certifi>=2017.4.17 in /usr/local/lib/python3.10/dist-packages (from requests->nlpcloud) (2024.6.2)\n",
            "Installing collected packages: nlpcloud\n",
            "Successfully installed nlpcloud-1.1.46\n"
          ]
        }
      ],
      "source": [
        "!pip install nlpcloud"
      ]
    },
    {
      "cell_type": "code",
      "source": [
        "import nlpcloud\n",
        "class NLPApp:\n",
        "\n",
        "  def __init__(self):\n",
        "    self.__database = {}\n",
        "    self.__first_menu()\n",
        "\n",
        "  def __first_menu(self):\n",
        "    first_input = input('''\n",
        "    Hi!How would you like to proceed?\n",
        "    1. Not a member? Register\n",
        "    2. Already a member? Login\n",
        "    3. Want to exit? Logout\n",
        "    ''')\n",
        "\n",
        "    if first_input == '1':\n",
        "      self.__register()\n",
        "    if first_input =='2':\n",
        "      self.__login()\n",
        "    if first_input =='3':\n",
        "      exit()\n",
        "\n",
        "  def __second_menu(self):\n",
        "    user_input = input('''\n",
        "    Hi!How would you like to proceed?\n",
        "    1. NER\n",
        "    2. Grammar and Spelling correction\n",
        "    3. Sentiment Analysis\n",
        "    4. Headline Generation\n",
        "    5.Image Generation\n",
        "    6.Logout\n",
        "    ''')\n",
        "\n",
        "    if user_input == '1':\n",
        "      self.__ner()\n",
        "    if user_input =='2':\n",
        "      self.__grammar_and_spelling_correction()\n",
        "    if user_input =='3':\n",
        "      self.__sentiment_analysis()\n",
        "    if user_input == '4':\n",
        "      self.__headline_generation()\n",
        "    if user_input == '5':\n",
        "      self.__image_generation()\n",
        "    if user_input == '6':\n",
        "      exit()\n",
        "\n",
        "  def __register(self):\n",
        "    name = input('Enter your name: ')\n",
        "    email = input('Enter your email: ')\n",
        "    password = input('Enter your password')\n",
        "\n",
        "    if email in self.__database:\n",
        "      print('Email already exists.')\n",
        "    else:\n",
        "      #here we used email as a key because email should be unique and dictionary keys are also need to be unique\n",
        "      self.__database[email]=[name,password] #value hishabe ekta list pathaisi\n",
        "      print(self.__database)\n",
        "      print('Registration Successful. Go to Login.')\n",
        "      self.__first_menu()\n",
        "\n",
        "  def __login(self):\n",
        "    email = input('Enter your email: ')\n",
        "    password = input('Enter your password')\n",
        "\n",
        "    if email in self.__database:\n",
        "      if self.__database[email][1]==password:\n",
        "        print('Welcome!Log in is Successful.')\n",
        "        self.__second_menu()\n",
        "      else:\n",
        "        print('Wrong Password.Try again')\n",
        "        temp = input('''\n",
        "        1. Click 1 if you want to Login again.\n",
        "        2. Click 2 if you want to change your password\n",
        "        3. Click 3 to exit\n",
        "        ''')\n",
        "        if temp == '1':\n",
        "          self.__login()\n",
        "        elif temp == '2':\n",
        "          self.__forgot_password()\n",
        "        else:\n",
        "          exit()\n",
        "\n",
        "    else:\n",
        "      print('This email is not registered.')\n",
        "      self.__first_menu()\n",
        "\n",
        "  def __forgot_password(self):\n",
        "    email = input('Enter your email: ')\n",
        "    create_password = input('Create Password: ')\n",
        "    confirm_password = input('Confirm Password: ')\n",
        "    if confirm_password == create_password:\n",
        "      new_password = confirm_password\n",
        "    else:\n",
        "      print('Password does not match')\n",
        "    #to change the password\n",
        "    if email in self.__database:\n",
        "      self.__database[email][1]=confirm_password\n",
        "      print('Your password has changed successfully!')\n",
        "      print(self.__database)\n",
        "      print('Go to Login')\n",
        "      self.__login()\n",
        "\n",
        "\n",
        "\n",
        "  def __ner(self):\n",
        "    #according to the nlp ner code it needs two parameters\n",
        "    para = input('Enter a paragraph')\n",
        "    search_item = input('Enter what do you want to search: ')\n",
        "\n",
        "    #this code is copied from nlpcloud wesite. NRE(Entity extraction)\n",
        "    client = nlpcloud.Client(\"finetuned-gpt-neox-20b\", \"4c5dbb86a0bbd9d9d030edcf67153508a22e515f\", gpu=True, lang=\"en\")\n",
        "    response = client.entities(para, searched_entity=search_item)\n",
        "\n",
        "    l = []\n",
        "    for i in response['entities']:\n",
        "      l.append(i['text'])\n",
        "    temp = len(l)\n",
        "    print('There are',temp,'programming languege name in this text')\n",
        "    print(l)\n",
        "    #print(response)\n",
        "\n",
        "\n",
        "\n",
        "  def __sentiment_analysis(self):\n",
        "    #it needs only one parameter\n",
        "    para = input('Enter a para: ')\n",
        "    print()\n",
        "\n",
        "    #this code is copied from nlpcloud wesite. Sentiment/Emotion Analysis\n",
        "    client = nlpcloud.Client(\"distilbert-base-uncased-emotion\", \"4c5dbb86a0bbd9d9d030edcf67153508a22e515f\", gpu=False)\n",
        "    response = client.sentiment(para)\n",
        "\n",
        "    #for figuring out the highest emotion based on score\n",
        "    l = []\n",
        "    for i in response['scored_labels']:\n",
        "      l.append(i['score'])\n",
        "\n",
        "    index = sorted(list(enumerate(l)),key = lambda x:x[1],reverse=True)[0][0]\n",
        "\n",
        "    emotion = response['scored_labels'][index]['label']\n",
        "\n",
        "    print('Review', emotion)\n",
        "\n",
        "\n",
        "\n",
        "  def __grammar_and_spelling_correction(self):\n",
        "    para = input('Enter a para: ')\n",
        "\n",
        "    #this code is copied from nlpcloud wesite. Sentiment/Emotion Analysis\n",
        "    client = nlpcloud.Client(\"finetuned-llama-3-70b\", \"4c5dbb86a0bbd9d9d030edcf67153508a22e515f\", gpu=True)\n",
        "    response = client.gs_correction(para)\n",
        "\n",
        "    print('Correction: ',response['correction'])\n",
        "\n",
        "\n",
        "\n",
        "  def __headline_generation(self):\n",
        "    para = input('Enter a para: ')\n",
        "\n",
        "    #this code is copied from nlpcloud wesite. Sentiment/Emotion Analysis\n",
        "    client = nlpcloud.Client(\"t5-base-en-generate-headline\", \"4c5dbb86a0bbd9d9d030edcf67153508a22e515f\", gpu=False)\n",
        "    response = client.summarization(para)\n",
        "\n",
        "    print('Headline: ',response['summary_text'])\n",
        "\n",
        "\n",
        "  def __image_generation(self):\n",
        "    para = input('Enter a para: ')\n",
        "\n",
        "    #this code is copied from nlpcloud wesite. Sentiment/Emotion Analysis\n",
        "    client = nlpcloud.Client(\"stable-diffusion\", \"4c5dbb86a0bbd9d9d030edcf67153508a22e515f\", gpu=True)\n",
        "    response = client.image_generation(\n",
        "    \"\"\"An oil painting of a fox in the snow.\"\"\")\n",
        "\n",
        "    print(response)\n",
        "\n",
        "\n",
        "obj = NLPApp()"
      ],
      "metadata": {
        "colab": {
          "base_uri": "https://localhost:8080/"
        },
        "id": "SositaXw1UCX",
        "outputId": "ce456106-2506-4b07-c70d-257ab691e663"
      },
      "execution_count": 82,
      "outputs": [
        {
          "output_type": "stream",
          "name": "stdout",
          "text": [
            "\n",
            "    Hi!How would you like to proceed?\n",
            "    1. Not a member? Register\n",
            "    2. Already a member? Login\n",
            "    3. Want to exit? Logout\n",
            "    1\n",
            "Enter your name: fouzia\n",
            "Enter your email: fouzia@gmail.com\n",
            "Enter your password123\n",
            "{'fouzia@gmail.com': ['fouzia', '123']}\n",
            "Registration Successful. Go to Login.\n",
            "\n",
            "    Hi!How would you like to proceed?\n",
            "    1. Not a member? Register\n",
            "    2. Already a member? Login\n",
            "    3. Want to exit? Logout\n",
            "    2\n",
            "Enter your email: fouzia@gmail.com\n",
            "Enter your password123\n",
            "Welcome!Log in is Successful.\n",
            "\n",
            "    Hi!How would you like to proceed?\n",
            "    1. NER\n",
            "    2. Grammar and Spelling correction\n",
            "    3. Sentiment Analysis\n",
            "    4. Logout\n",
            "    4\n",
            "Enter a para: One month after the United States began what has become a troubled rollout of a national COVID vaccination campaign, the effort is finally gathering real steam. Close to a million doses -- over 951,000, to be more exact -- made their way into the arms of Americans in the past 24 hours, the U.S. Centers for Disease Control and Prevention reported Wednesday. That s the largest number of shots given in one day since the rollout began and a big jump from the previous day, when just under 340,000 doses were given, CBS News reported. That number is likely to jump quickly after the federal government on Tuesday gave states the OK to vaccinate anyone over 65 and said it would release all the doses of vaccine it has available for distribution. Meanwhile, a number of states have now opened mass vaccination sites in an effort to get larger numbers of people inoculated, CBS News reported.\n",
            "Headline:  COVID Vaccination - More Than a Million Doses a Day in the United States\n"
          ]
        }
      ]
    },
    {
      "cell_type": "markdown",
      "source": [
        "#NER tests"
      ],
      "metadata": {
        "id": "-gQi93XS58nh"
      }
    },
    {
      "cell_type": "code",
      "source": [
        "d = {'entities': [{'start': 37, 'end': 43, 'type': 'programing languages', 'text': 'Python'}, {'start': 149, 'end': 159, 'type': 'programing languages', 'text': 'JavaScript'}, {'start': 69, 'end': 70, 'type': 'programing languages', 'text': 'C'}, {'start': 231, 'end': 234, 'type': 'programing languages', 'text': 'C++'}, {'start': 149, 'end': 153, 'type': 'programing languages', 'text': 'Java'}, {'start': 343, 'end': 347, 'type': 'programing languages', 'text': 'Ruby'}, {'start': 379, 'end': 382, 'type': 'programing languages', 'text': 'PHP'}, {'start': 417, 'end': 422, 'type': 'programing languages', 'text': 'Swift'}, {'start': 458, 'end': 460, 'type': 'programing languages', 'text': 'Go'}, {'start': 11, 'end': 12, 'type': 'programing languages', 'text': 'R'}, {'start': 555, 'end': 558, 'type': 'programing languages', 'text': 'SQL'}, {'start': 588, 'end': 592, 'type': 'programing languages', 'text': 'Rust'}, {'start': 623, 'end': 629, 'type': 'programing languages', 'text': 'Kotlin'}]}"
      ],
      "metadata": {
        "id": "9T6k0E-f3qZT"
      },
      "execution_count": 39,
      "outputs": []
    },
    {
      "cell_type": "code",
      "source": [
        "d"
      ],
      "metadata": {
        "colab": {
          "base_uri": "https://localhost:8080/"
        },
        "id": "Kjn8RX113qu9",
        "outputId": "91fbecbf-3d5c-4a22-9249-92a26578fdc2"
      },
      "execution_count": 40,
      "outputs": [
        {
          "output_type": "execute_result",
          "data": {
            "text/plain": [
              "{'entities': [{'start': 37,\n",
              "   'end': 43,\n",
              "   'type': 'programing languages',\n",
              "   'text': 'Python'},\n",
              "  {'start': 149,\n",
              "   'end': 159,\n",
              "   'type': 'programing languages',\n",
              "   'text': 'JavaScript'},\n",
              "  {'start': 69, 'end': 70, 'type': 'programing languages', 'text': 'C'},\n",
              "  {'start': 231, 'end': 234, 'type': 'programing languages', 'text': 'C++'},\n",
              "  {'start': 149, 'end': 153, 'type': 'programing languages', 'text': 'Java'},\n",
              "  {'start': 343, 'end': 347, 'type': 'programing languages', 'text': 'Ruby'},\n",
              "  {'start': 379, 'end': 382, 'type': 'programing languages', 'text': 'PHP'},\n",
              "  {'start': 417, 'end': 422, 'type': 'programing languages', 'text': 'Swift'},\n",
              "  {'start': 458, 'end': 460, 'type': 'programing languages', 'text': 'Go'},\n",
              "  {'start': 11, 'end': 12, 'type': 'programing languages', 'text': 'R'},\n",
              "  {'start': 555, 'end': 558, 'type': 'programing languages', 'text': 'SQL'},\n",
              "  {'start': 588, 'end': 592, 'type': 'programing languages', 'text': 'Rust'},\n",
              "  {'start': 623,\n",
              "   'end': 629,\n",
              "   'type': 'programing languages',\n",
              "   'text': 'Kotlin'}]}"
            ]
          },
          "metadata": {},
          "execution_count": 40
        }
      ]
    },
    {
      "cell_type": "code",
      "source": [
        "d['entities']"
      ],
      "metadata": {
        "colab": {
          "base_uri": "https://localhost:8080/"
        },
        "id": "eUcfGIiA3q1V",
        "outputId": "94a4657a-0c9d-4f53-daf3-f6226461b251"
      },
      "execution_count": 43,
      "outputs": [
        {
          "output_type": "execute_result",
          "data": {
            "text/plain": [
              "[{'start': 37, 'end': 43, 'type': 'programing languages', 'text': 'Python'},\n",
              " {'start': 149,\n",
              "  'end': 159,\n",
              "  'type': 'programing languages',\n",
              "  'text': 'JavaScript'},\n",
              " {'start': 69, 'end': 70, 'type': 'programing languages', 'text': 'C'},\n",
              " {'start': 231, 'end': 234, 'type': 'programing languages', 'text': 'C++'},\n",
              " {'start': 149, 'end': 153, 'type': 'programing languages', 'text': 'Java'},\n",
              " {'start': 343, 'end': 347, 'type': 'programing languages', 'text': 'Ruby'},\n",
              " {'start': 379, 'end': 382, 'type': 'programing languages', 'text': 'PHP'},\n",
              " {'start': 417, 'end': 422, 'type': 'programing languages', 'text': 'Swift'},\n",
              " {'start': 458, 'end': 460, 'type': 'programing languages', 'text': 'Go'},\n",
              " {'start': 11, 'end': 12, 'type': 'programing languages', 'text': 'R'},\n",
              " {'start': 555, 'end': 558, 'type': 'programing languages', 'text': 'SQL'},\n",
              " {'start': 588, 'end': 592, 'type': 'programing languages', 'text': 'Rust'},\n",
              " {'start': 623, 'end': 629, 'type': 'programing languages', 'text': 'Kotlin'}]"
            ]
          },
          "metadata": {},
          "execution_count": 43
        }
      ]
    },
    {
      "cell_type": "code",
      "source": [
        "l = []\n",
        "for i in d['entities']:\n",
        "  l.append(i['text'])\n",
        "\n",
        "print(l)"
      ],
      "metadata": {
        "colab": {
          "base_uri": "https://localhost:8080/"
        },
        "id": "8dhpt5bU4EYF",
        "outputId": "5f4da6a0-1230-4642-acc1-9fe762be8a60"
      },
      "execution_count": 47,
      "outputs": [
        {
          "output_type": "stream",
          "name": "stdout",
          "text": [
            "['Python', 'JavaScript', 'C', 'C++', 'Java', 'Ruby', 'PHP', 'Swift', 'Go', 'R', 'SQL', 'Rust', 'Kotlin']\n"
          ]
        }
      ]
    },
    {
      "cell_type": "code",
      "source": [],
      "metadata": {
        "id": "wz5Q9beG4Env"
      },
      "execution_count": null,
      "outputs": []
    },
    {
      "cell_type": "markdown",
      "source": [
        "#Sentiment analysis sorting test"
      ],
      "metadata": {
        "id": "DaTV7v2L3jyT"
      }
    },
    {
      "cell_type": "code",
      "source": [
        "d={'scored_labels': [{'label': 'joy', 'score': 0.5240580439567566}, {'label': 'sadness', 'score': 0.45451822876930237}, {'label': 'anger', 'score': 0.009790852665901184}, {'label': 'love', 'score': 0.008359949104487896}, {'label': 'surprise', 'score': 0.001644591335207224}, {'label': 'fear', 'score': 0.001628349651582539}]}"
      ],
      "metadata": {
        "id": "bUDjvuu7uOhj"
      },
      "execution_count": 38,
      "outputs": []
    },
    {
      "cell_type": "code",
      "source": [
        "d"
      ],
      "metadata": {
        "colab": {
          "base_uri": "https://localhost:8080/"
        },
        "id": "dV9AbQUJuVQ6",
        "outputId": "6a9401e4-bc97-4c67-dff4-6fda73c2dfa5"
      },
      "execution_count": 22,
      "outputs": [
        {
          "output_type": "execute_result",
          "data": {
            "text/plain": [
              "{'scored_labels': [{'label': 'joy', 'score': 0.5240580439567566},\n",
              "  {'label': 'sadness', 'score': 0.45451822876930237},\n",
              "  {'label': 'anger', 'score': 0.009790852665901184},\n",
              "  {'label': 'love', 'score': 0.008359949104487896},\n",
              "  {'label': 'surprise', 'score': 0.001644591335207224},\n",
              "  {'label': 'fear', 'score': 0.001628349651582539}]}"
            ]
          },
          "metadata": {},
          "execution_count": 22
        }
      ]
    },
    {
      "cell_type": "code",
      "source": [
        "l = []\n",
        "for i in d['scored_labels']:\n",
        "  l.append(i['score'])\n",
        "\n",
        "index = sorted(list(enumerate(l)),key = lambda x:x[1],reverse=True)[0][0]\n",
        "\n",
        "d['scored_labels'][index]['label']"
      ],
      "metadata": {
        "colab": {
          "base_uri": "https://localhost:8080/",
          "height": 36
        },
        "id": "qMrLcgisuVTb",
        "outputId": "032a332b-b299-4a8f-ab16-69961277ddb0"
      },
      "execution_count": 35,
      "outputs": [
        {
          "output_type": "execute_result",
          "data": {
            "text/plain": [
              "'joy'"
            ],
            "application/vnd.google.colaboratory.intrinsic+json": {
              "type": "string"
            }
          },
          "metadata": {},
          "execution_count": 35
        }
      ]
    },
    {
      "cell_type": "code",
      "source": [
        "d"
      ],
      "metadata": {
        "colab": {
          "base_uri": "https://localhost:8080/"
        },
        "id": "GIRyi5cZurX8",
        "outputId": "8dc8b742-a1e2-4c55-82ce-c07328e121aa"
      },
      "execution_count": 15,
      "outputs": [
        {
          "output_type": "execute_result",
          "data": {
            "text/plain": [
              "{'scored_labels': [{'label': 'joy', 'score': 0.5240580439567566},\n",
              "  {'label': 'sadness', 'score': 0.45451822876930237},\n",
              "  {'label': 'anger', 'score': 0.009790852665901184},\n",
              "  {'label': 'love', 'score': 0.008359949104487896},\n",
              "  {'label': 'surprise', 'score': 0.001644591335207224},\n",
              "  {'label': 'fear', 'score': 0.001628349651582539}]}"
            ]
          },
          "metadata": {},
          "execution_count": 15
        }
      ]
    },
    {
      "cell_type": "code",
      "source": [
        "for i in d['scored_labels']:\n",
        "  print(i['score'])"
      ],
      "metadata": {
        "colab": {
          "base_uri": "https://localhost:8080/"
        },
        "id": "Sl-xFuXeuraU",
        "outputId": "f6e3ba2b-1f6a-449b-d7dd-ec6195363760"
      },
      "execution_count": 19,
      "outputs": [
        {
          "output_type": "stream",
          "name": "stdout",
          "text": [
            "0.5240580439567566\n",
            "0.45451822876930237\n",
            "0.009790852665901184\n",
            "0.008359949104487896\n",
            "0.001644591335207224\n",
            "0.001628349651582539\n"
          ]
        }
      ]
    },
    {
      "cell_type": "code",
      "source": [],
      "metadata": {
        "id": "RoFYZQn5urfz"
      },
      "execution_count": null,
      "outputs": []
    }
  ]
}
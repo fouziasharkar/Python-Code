{
  "nbformat": 4,
  "nbformat_minor": 0,
  "metadata": {
    "colab": {
      "provenance": [],
      "authorship_tag": "ABX9TyM47iQqcdpXOHJgrtCtH+cz",
      "include_colab_link": true
    },
    "kernelspec": {
      "name": "python3",
      "display_name": "Python 3"
    },
    "language_info": {
      "name": "python"
    }
  },
  "cells": [
    {
      "cell_type": "markdown",
      "metadata": {
        "id": "view-in-github",
        "colab_type": "text"
      },
      "source": [
        "<a href=\"https://colab.research.google.com/github/fouziasharkar/Python-Code/blob/main/Perform_Login_and_Registration_(function%2Bdict).ipynb\" target=\"_parent\"><img src=\"https://colab.research.google.com/assets/colab-badge.svg\" alt=\"Open In Colab\"/></a>"
      ]
    },
    {
      "cell_type": "code",
      "execution_count": 7,
      "metadata": {
        "colab": {
          "base_uri": "https://localhost:8080/"
        },
        "id": "oYCyFvwwvltS",
        "outputId": "9fcbcad5-1ef5-4bbe-b6dc-3357a8e14c87"
      },
      "outputs": [
        {
          "output_type": "stream",
          "name": "stdout",
          "text": [
            "1. Enter 1 if you want to register\n",
            "2. Enter 2 if you want to log-in \n",
            "3. Enter 3 if you want to exit\n",
            "Select an option: 5\n",
            "Invalid input\n"
          ]
        }
      ],
      "source": [
        "database = {}\n",
        "\n",
        "def menu():\n",
        "  print('''1. Enter 1 if you want to register\n",
        "2. Enter 2 if you want to log-in\n",
        "3. Enter 3 if you want to exit''')\n",
        "  #input\n",
        "  user_input= int(input('Select an option: '))\n",
        "  #condition\n",
        "  if user_input == 1:\n",
        "    register()\n",
        "  elif user_input == 2:\n",
        "    log_in()\n",
        "  elif user_input ==3:\n",
        "    exit()\n",
        "  else:\n",
        "    print('Invalid input')\n",
        "\n",
        "\n",
        "def register():\n",
        "  name = input('Enter your name: ')\n",
        "  email = input('Enter your email: ')\n",
        "  password = input('Enter your password: ')\n",
        "  database.update({'name':name,'email':email,'password':password})\n",
        "\n",
        "  print(database)\n",
        "  print('Registration successful')\n",
        "  menu()\n",
        "\n",
        "def log_in():\n",
        "  email = input('Enter your email: ')\n",
        "  password = input('Enter your password: ')\n",
        "  flag1 = False\n",
        "  flag2 = False\n",
        "  for i in database:\n",
        "    if i == 'email' and database[i]==email:\n",
        "      flag1 = True\n",
        "    if i == 'password' and database[i]==password:\n",
        "      flag2 = True\n",
        "\n",
        "  if flag1 and flag2:\n",
        "    print('Login successful')\n",
        "  else:\n",
        "    print('Try again')\n",
        "    print('Your email or password is incorrect')\n",
        "    menu()\n",
        "\n",
        "\n",
        "\n",
        "menu()"
      ]
    }
  ]
}
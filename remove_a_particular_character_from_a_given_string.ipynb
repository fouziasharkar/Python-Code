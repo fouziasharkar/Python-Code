{
  "nbformat": 4,
  "nbformat_minor": 0,
  "metadata": {
    "colab": {
      "provenance": [],
      "authorship_tag": "ABX9TyMvSNxlg5ABsHCvlDbTIe+z",
      "include_colab_link": true
    },
    "kernelspec": {
      "name": "python3",
      "display_name": "Python 3"
    },
    "language_info": {
      "name": "python"
    }
  },
  "cells": [
    {
      "cell_type": "markdown",
      "metadata": {
        "id": "view-in-github",
        "colab_type": "text"
      },
      "source": [
        "<a href=\"https://colab.research.google.com/github/fouziasharkar/Python-Code/blob/main/remove_a_particular_character_from_a_given_string.ipynb\" target=\"_parent\"><img src=\"https://colab.research.google.com/assets/colab-badge.svg\" alt=\"Open In Colab\"/></a>"
      ]
    },
    {
      "cell_type": "code",
      "execution_count": 1,
      "metadata": {
        "colab": {
          "base_uri": "https://localhost:8080/"
        },
        "id": "SBw6GzrH0-PW",
        "outputId": "7a00cf91-e362-4b9c-b4f0-f5964f15aeb5"
      },
      "outputs": [
        {
          "output_type": "stream",
          "name": "stdout",
          "text": [
            "enter a string: ami j tomar\n",
            "enter a character: a\n",
            "mi j tomr\n"
          ]
        }
      ],
      "source": [
        "string=input('enter a string: ')\n",
        "char = input('enter a character: ')\n",
        "\n",
        "new_str = ''\n",
        "\n",
        "for i in string:\n",
        "  if i != char:\n",
        "    new_str+=i\n",
        "print(new_str)"
      ]
    }
  ]
}
{
  "nbformat": 4,
  "nbformat_minor": 0,
  "metadata": {
    "colab": {
      "provenance": [],
      "authorship_tag": "ABX9TyP+RlIWGvHeDdrwtIiT6yR/",
      "include_colab_link": true
    },
    "kernelspec": {
      "name": "python3",
      "display_name": "Python 3"
    },
    "language_info": {
      "name": "python"
    }
  },
  "cells": [
    {
      "cell_type": "markdown",
      "metadata": {
        "id": "view-in-github",
        "colab_type": "text"
      },
      "source": [
        "<a href=\"https://colab.research.google.com/github/fouziasharkar/Python-Code/blob/main/if_a_number_is_even_or_oddipynb.ipynb\" target=\"_parent\"><img src=\"https://colab.research.google.com/assets/colab-badge.svg\" alt=\"Open In Colab\"/></a>"
      ]
    },
    {
      "cell_type": "code",
      "execution_count": 2,
      "metadata": {
        "colab": {
          "base_uri": "https://localhost:8080/"
        },
        "id": "Celf04dlj3vX",
        "outputId": "91d622c1-fba3-4c54-f4fa-cd487affae91"
      },
      "outputs": [
        {
          "output_type": "stream",
          "name": "stdout",
          "text": [
            "enter a num: 4\n",
            "Even\n"
          ]
        }
      ],
      "source": [
        "#if a number is even or odd\n",
        "\n",
        "num = int(input('enter a num: '))\n",
        "\n",
        "if num%2==0:\n",
        "  print('Even')\n",
        "else:\n",
        "  print('Odd')"
      ]
    }
  ]
}
{
  "nbformat": 4,
  "nbformat_minor": 0,
  "metadata": {
    "colab": {
      "provenance": [],
      "authorship_tag": "ABX9TyOs/B3MI8c+8dBM5UUh6dzd",
      "include_colab_link": true
    },
    "kernelspec": {
      "name": "python3",
      "display_name": "Python 3"
    },
    "language_info": {
      "name": "python"
    }
  },
  "cells": [
    {
      "cell_type": "markdown",
      "metadata": {
        "id": "view-in-github",
        "colab_type": "text"
      },
      "source": [
        "<a href=\"https://colab.research.google.com/github/fouziasharkar/Python-Code/blob/main/Calculate_Population.ipynb\" target=\"_parent\"><img src=\"https://colab.research.google.com/assets/colab-badge.svg\" alt=\"Open In Colab\"/></a>"
      ]
    },
    {
      "cell_type": "code",
      "execution_count": 1,
      "metadata": {
        "colab": {
          "base_uri": "https://localhost:8080/"
        },
        "id": "V0xdVVgLmB9x",
        "outputId": "39d0094c-482c-46ab-d414-7284fc0c74c0"
      },
      "outputs": [
        {
          "output_type": "stream",
          "name": "stdout",
          "text": [
            "10 no year population 10000\n",
            "9 no year population 9090.0\n",
            "8 no year population 8263.0\n",
            "7 no year population 7511.0\n",
            "6 no year population 6828.0\n",
            "5 no year population 6207.0\n",
            "4 no year population 5642.0\n",
            "3 no year population 5129.0\n",
            "2 no year population 4662.0\n",
            "1 no year population 4238.0\n"
          ]
        }
      ],
      "source": [
        "# The current population of a town is 10000.The population of the town is increasing at the rate of 10% per year.\n",
        "#You have to write a program to find out the population at the end of each of the last 10 years.\n",
        "\n",
        "\n",
        "curr_pop = 10000\n",
        "\n",
        "for i in range (10, 0, -1):\n",
        "  print( i,'no year population', curr_pop)\n",
        "  curr_pop = curr_pop// 1.1  # lets 9th year pop = x ,  x + 10% of x = 10000, so x = (10,000/1.1)"
      ]
    }
  ]
}
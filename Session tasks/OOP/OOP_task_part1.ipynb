{
  "nbformat": 4,
  "nbformat_minor": 0,
  "metadata": {
    "colab": {
      "provenance": []
    },
    "kernelspec": {
      "name": "python3",
      "display_name": "Python 3"
    },
    "language_info": {
      "name": "python"
    }
  },
  "cells": [
    {
      "cell_type": "markdown",
      "source": [
        "##`Q-1:` Rectangle Class\n",
        "1. Write a Rectangle class in Python language, allowing you to build a rectangle with length and width attributes.\n",
        "\n",
        "2. Create a Perimeter() method to calculate the perimeter of the rectangle and a Area() method to calculate the area of ​​the rectangle.\n",
        "\n",
        "3. Create a method display() that display the length, width, perimeter and area of an object created using an instantiation on rectangle class."
      ],
      "metadata": {
        "id": "FyUJ3PRAsPr4"
      }
    },
    {
      "cell_type": "markdown",
      "source": [
        "Eg.\n",
        "After making above classes and methods, on executing below code:-\n",
        "```\n",
        "my_rectangle = Rectangle(3 , 4)\n",
        "my_rectangle.display()\n",
        "```\n",
        "\n",
        "`Output:`\n",
        "```\n",
        "The length of rectangle is:  3\n",
        "The width of rectangle is:  4\n",
        "The perimeter of rectangle is:  14\n",
        "The area of rectangle is:  12\n",
        "```\n"
      ],
      "metadata": {
        "id": "GxUtOqJfssFK"
      }
    },
    {
      "cell_type": "code",
      "source": [
        "class Rectangle:\n",
        "\n",
        "  def __init__(self,l,w):\n",
        "    self.l = l\n",
        "    self.w = w\n",
        "\n",
        "  def perimeter(self):\n",
        "    return 2*(self.l+self.w)\n",
        "\n",
        "  def area(self):\n",
        "    return self.w*self.l\n",
        "\n",
        "  def display(self):\n",
        "    print('The length of rectangle is', self.l)\n",
        "    print('The width of rectangle is:', self.w)\n",
        "    print('The perimeter of rectangle is:', self.perimeter() )\n",
        "    print('The area of rectangle is:', self.area())\n",
        "\n",
        "r1 = Rectangle(3,4)\n",
        "r1.display()"
      ],
      "metadata": {
        "id": "92_QT-Uj6NBg",
        "colab": {
          "base_uri": "https://localhost:8080/"
        },
        "outputId": "7c629170-ff1b-4477-f272-3bdcdac63205"
      },
      "execution_count": null,
      "outputs": [
        {
          "output_type": "stream",
          "name": "stdout",
          "text": [
            "The length of rectangle is 3\n",
            "The width of rectangle is: 4\n",
            "The perimeter of rectangle is: 14\n",
            "The area of rectangle is: 12\n"
          ]
        }
      ]
    },
    {
      "cell_type": "markdown",
      "source": [
        "##`Q-2: Bank Class`\n",
        "\n",
        "1. Create a Python class called `BankAccount` which represents a bank account, having as attributes: `accountNumber` (numeric type), `name` (name of the account owner as string type), `balance`.\n",
        "2. Create a constructor with parameters: `accountNumber, name, balance`.\n",
        "3. Create a `Deposit()` method which manages the deposit actions.\n",
        "4. Create a `Withdrawal()` method  which manages withdrawals actions.\n",
        "5. Create an `bankFees()` method to apply the bank fees with a percentage of 5% of the balance account.\n",
        "6. Create a `display()` method to display account details.\n",
        "Give the complete code for the  BankAccount class."
      ],
      "metadata": {
        "id": "r_GxrS0Vrdom"
      }
    },
    {
      "cell_type": "markdown",
      "source": [
        "Eg.\n",
        "After making above classes and methods, on executing below code:-\n",
        "```\n",
        "newAccount = BankAccount(2178514584, \"Mandy\" , 2800)\n",
        "\n",
        "newAccount.Withdrawal(700)\n",
        "\n",
        "newAccount.Deposit(1000)\n",
        "\n",
        "newAccount.display()\n",
        "```\n",
        "\n",
        "`Output:`\n",
        "```\n",
        "Account Number :  2178514584\n",
        "Account Name :  Mandy\n",
        "Account Balance :  3100 ₹\n",
        "```"
      ],
      "metadata": {
        "id": "qvVkOUJgvTV_"
      }
    },
    {
      "cell_type": "code",
      "source": [
        "class BankAccount:\n",
        "\n",
        "  def __init__(self, accountnumber, name, balance):\n",
        "    self.accountnumber = accountnumber\n",
        "    self.name = name\n",
        "    self.balance= balance\n",
        "\n",
        "  def display(self):\n",
        "    print('Account Number: ',self.accountnumber)\n",
        "    print('Account Name: ',self.name)\n",
        "    print('Account balance: ',self.balance)\n",
        "\n",
        "\n",
        "  def Deposite(self,a):\n",
        "    self.balance = self.balance+a\n",
        "\n",
        "  def withdrawal(self,a):\n",
        "    if a<=self.balance:\n",
        "      self.balance = self.balance-a\n",
        "    else:\n",
        "      print('ghatiya orat')\n",
        "\n",
        "  def bankFees(self):\n",
        "    self.balance=self.balance - self.balance*(5/100)\n",
        "\n",
        "\n",
        "b1 = BankAccount(123456,'Fouzia',2800)\n",
        "b1.withdrawal(700)\n",
        "b1.Deposite(1000)\n",
        "b1.display()\n",
        "#b1.bankFees()\n",
        "#b1.balance\n"
      ],
      "metadata": {
        "id": "fUQOmQyA6YDR",
        "colab": {
          "base_uri": "https://localhost:8080/"
        },
        "outputId": "a85ae4b8-8872-449b-ae44-e162ce43becf"
      },
      "execution_count": null,
      "outputs": [
        {
          "output_type": "stream",
          "name": "stdout",
          "text": [
            "Account Number:  123456\n",
            "Account Name:  Fouzia\n",
            "Account balance:  3100\n"
          ]
        }
      ]
    },
    {
      "cell_type": "markdown",
      "source": [
        "##`Q-3:Computation class`\n",
        "\n",
        "1. Create a `Computation` class with a default constructor (without parameters) allowing to perform various calculations on integers numbers.\n",
        "2. Create a method called `Factorial()` which allows to calculate the factorial of an integer n. Integer n as parameter for this method\n",
        "\n",
        "3. Create a method called `naturalSum()` allowing to calculate the sum of the first n integers 1 + 2 + 3 + .. + n. Integer n as parameter for this method.\n",
        "\n",
        "4. Create a method called `testPrime()` in  the Calculation class to test the primality of a given integer n, n is Prime or Not? Integer n as parameter for this method.\n",
        "\n",
        "5. Create  a method called `testPrims()` allowing to test if two numbers are prime between them. Two integers are prime to one another if they have only `1` as their common divisor. Eg. 4 and 9 are prime to each other.\n",
        "\n",
        "5. Create a `tableMult()` method which creates and displays the multiplication table of a given integer. Then create an `allTablesMult()` method to display all the integer multiplication tables 1, 2, 3, ..., 9.\n",
        "\n",
        "6. Create a static `listDiv()` method that gets all the divisors of a given integer on new list called  Ldiv. Create another `listDivPrim()` method that gets all the prime divisors of a given integer."
      ],
      "metadata": {
        "id": "QovcQAZTrgGU"
      }
    },
    {
      "cell_type": "code",
      "source": [
        "class Computation:\n",
        "\n",
        "  def __init__(self):\n",
        "    pass\n",
        "\n",
        "#factorial of a number. e.g:3! = 1*2*3\n",
        "  def factorial(self,n):\n",
        "    f = 1\n",
        "    for i in range(1,n+1):\n",
        "      f = f*i\n",
        "    return f\n",
        "\n",
        "#sum of numbers\n",
        "  def naturalsum(self,n):\n",
        "    sum = 0\n",
        "    for i in range(1,n+1):\n",
        "      sum+=i\n",
        "    return sum\n",
        "\n",
        "#is a number prime or not?\n",
        "  def testPrime(self,n):\n",
        "    if n>=1:\n",
        "      count = 0\n",
        "      for i in range(1,n+1):\n",
        "        if n%i==0:\n",
        "          count+=1\n",
        "      if count==2:\n",
        "        return True\n",
        "      else:\n",
        "        return False\n",
        "    else:\n",
        "      print('Invalid Number')\n",
        "\n",
        "#is two number prime to each other\n",
        "  def testPrims(self,m,n):\n",
        "    l1 = []\n",
        "    for i in range(1,m+1):\n",
        "      if m%i==0:\n",
        "        l1.append(i)\n",
        "\n",
        "    count =0\n",
        "    for i in l1:\n",
        "      if n%i==0:\n",
        "        count+=1\n",
        "\n",
        "    if count==1:\n",
        "      return 'They are prime to each other'\n",
        "    else:\n",
        "      return 'They are not prime to each other'\n",
        "    #print(l1)\n",
        "\n",
        "\n",
        "  def tableMult(self,n):\n",
        "    for i in range(1,10):\n",
        "      temp = i*n\n",
        "      print(i,'x',n,'=',temp)\n",
        "\n",
        "  def allTablesMult(self):\n",
        "    for i in range(1,10):\n",
        "      print('Multiplication table of',i)\n",
        "      for j in range (1,10):\n",
        "        temp = j*i\n",
        "        print(j,'x',i,'=',temp)\n",
        "\n",
        "  def listDiv(self,n):\n",
        "    l =[]\n",
        "    for i in range(1,n+1):\n",
        "      if n%i==0:\n",
        "        l.append(i)\n",
        "    return l\n",
        "\n",
        "  def listDivPrim(self,n):\n",
        "    l1 = self.listDiv(n)\n",
        "    l2=[]\n",
        "    for i in l1:\n",
        "      temp = self.testPrime(i)\n",
        "      if temp==True:\n",
        "        l2.append(i)\n",
        "    return l2\n",
        "\n",
        "\n",
        "comp = Computation()\n",
        "#comp.factorial(3)\n",
        "#comp.naturalsum(4)\n",
        "#comp.testPrime(5)\n",
        "#comp.testPrims(8,12)\n",
        "#comp.tableMult(10)\n",
        "#comp.allTablesMult()\n",
        "#comp.listDiv(10)\n",
        "comp.listDivPrim(12)"
      ],
      "metadata": {
        "id": "YEkPH70l6Z-o",
        "colab": {
          "base_uri": "https://localhost:8080/"
        },
        "outputId": "a32caf61-34b1-4a80-a968-8fe78161eb64"
      },
      "execution_count": null,
      "outputs": [
        {
          "output_type": "execute_result",
          "data": {
            "text/plain": [
              "[2, 3]"
            ]
          },
          "metadata": {},
          "execution_count": 83
        }
      ]
    },
    {
      "cell_type": "markdown",
      "source": [
        "##`Q-4`: Build flashcard using class in Python.\n",
        "\n",
        "Build a flashcard using class in python. A flashcard is a card having information on both sides, which can be used as an aid in memoization. Flashcards usually have a question on one side and an answer on the other.\n",
        "\n",
        "**Example 1:**\n",
        "\n",
        "Approach:\n",
        "\n",
        "- Create a class named FlashCard.\n",
        "- Initialize dictionary fruits using __init__() method. Here you have to define fruit name as key and it's color as value. E.g., {\"Banana\": \"yellow\", \"Strawberries\": \"pink\"}\n",
        "- Now randomly choose a pair from fruits by using _random_ module and store the key in variable _fruit_ and _value_ in variable color.\n",
        "- Now prompt the user to answer the color of the randomly chosen fruit.\n",
        "- If correct print correct else print wrong.\n",
        "\n",
        "Output:\n",
        "```bash\n",
        "welcome to fruit quiz\n",
        "What is the color of Strawberries\n",
        "pink\n",
        "Correct answer\n",
        "Enter 0, if you want to play again: 0\n",
        "What is the color of watermelon\n",
        "green\n",
        "Correct answer\n",
        "Enter 0, if you want to play again: 1\n",
        "```"
      ],
      "metadata": {
        "id": "0yn23_oEriXa"
      }
    },
    {
      "cell_type": "code",
      "source": [
        "import random\n",
        "class FlashCard:\n",
        "\n",
        "  def __init__(self):\n",
        "    self.__fruits={\n",
        "        'apple':'red',\n",
        "        'strawberries':'pink',\n",
        "        'mango':'yellow',\n",
        "        'watermelon':'green',\n",
        "        'grapes':'black'\n",
        "    }\n",
        "\n",
        "  def quiz(self):\n",
        "    while True:\n",
        "      n = int(input('Enter 0 to play and 1 to exit:'))\n",
        "      if n ==0:\n",
        "        t = random.choice(tuple(self.__fruits.items()))\n",
        "        fruits = t[0]\n",
        "        color = t[1]\n",
        "        #print(color)\n",
        "        print('What is the color of',fruits,'?')\n",
        "        new_t = input('enter your value:' )\n",
        "        if new_t.lower()==color:\n",
        "          print('Correct answer')\n",
        "        else:\n",
        "          print('wrong answer')\n",
        "      else:\n",
        "        break\n",
        "\n",
        "f1 = FlashCard()\n",
        "f1.quiz()"
      ],
      "metadata": {
        "id": "vCrUF6VU6l6w",
        "colab": {
          "base_uri": "https://localhost:8080/"
        },
        "outputId": "ad1c801a-f8f5-45de-de8d-b1a761824936"
      },
      "execution_count": 8,
      "outputs": [
        {
          "name": "stdout",
          "output_type": "stream",
          "text": [
            "Enter 0 to play and 1 to exit:0\n",
            "black\n",
            "What is the color of grapes ?\n",
            "enter your value:Blue\n",
            "wrong answer\n",
            "Enter 0 to play and 1 to exit:1\n"
          ]
        }
      ]
    },
    {
      "cell_type": "markdown",
      "source": [
        "## `Q-5:` Problem 5 based on OOP Python.\n",
        "\n",
        "TechWorld, a technology training center, wants to allocate courses for instructors. An instructor is identified by name, technology skills, experience and average feedback. An instructor is allocated a course, if he/she satisfies the below two conditions:\n",
        "- eligibility criteria:\n",
        "    - if experience is more than 3 years, average feedback should be 4.5 or more\n",
        "    - if experience is 3 years or less, average feedback should be 4 or more\n",
        "- he/she should posses the technology skill for the course\n",
        "\n",
        "Identify the class name and attributes to represent instructors. Write a Python program to implement the class chosen with its attributes and methods.\n",
        "\n",
        "**Note:**\n",
        "- Consider all instance variables to be private and methods to be public.\n",
        "- An instructor may have multiple technology skills, so consider instance variable, technology_skill to be a list.\n",
        "- *check_eligibility()*: Return true if eligibility criteria is satisfied by the instructor. Else, return false\n",
        "- *allocate_course(technology)*: Return true if the course which requires the given technology can be allocated to the instructor. Else, return false.\n",
        "\n",
        "Represent a few objects of the class, initialize instance variables using setter methods, invoke\n",
        "appropriate methods and test your program."
      ],
      "metadata": {
        "id": "GN2r0jbRewYr"
      }
    },
    {
      "cell_type": "code",
      "source": [
        "class Instructor:\n",
        "\n",
        "  def __init__(self,name,skill,experience,feedback):\n",
        "    self.__name = name\n",
        "    self.__tech_skill = skill\n",
        "    self.__experience = experience\n",
        "    self.__feedback = feedback\n",
        "\n",
        "  def check_condition(self):\n",
        "    if self.__experience>3 and self.__feedback>=4.5:\n",
        "      return 'can teach'\n",
        "    elif self.__experience<=3 and self.__feedback>=4:\n",
        "      return True\n",
        "    else:\n",
        "      return False\n",
        "\n",
        "  def allocate_course(self,technology):\n",
        "    is_elligible = self.check_condition()\n",
        "    if is_elligible:\n",
        "      if technology in self.__tech_skill:\n",
        "        return True\n",
        "      else:\n",
        "        return False\n",
        "\n",
        "    else:\n",
        "      return False\n",
        "\n",
        "\n",
        "\n",
        "ins1 = Instructor('Fouzia',['python','javascript'],3,4.5)\n",
        "#ins1.check_condition()\n",
        "ins1.allocate_course(input('enter your skill: '))\n",
        "\n"
      ],
      "metadata": {
        "id": "pdMFuVFnlvKL",
        "colab": {
          "base_uri": "https://localhost:8080/"
        },
        "outputId": "3a348171-74bc-423b-e3ee-ff7b7bda976c"
      },
      "execution_count": 21,
      "outputs": [
        {
          "name": "stdout",
          "output_type": "stream",
          "text": [
            "enter your skill: java\n"
          ]
        },
        {
          "output_type": "execute_result",
          "data": {
            "text/plain": [
              "False"
            ]
          },
          "metadata": {},
          "execution_count": 21
        }
      ]
    }
  ]
}
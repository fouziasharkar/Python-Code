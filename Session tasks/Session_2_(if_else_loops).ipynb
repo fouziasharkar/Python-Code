{
  "cells": [
    {
      "cell_type": "markdown",
      "metadata": {
        "id": "y1HMD4oI7FL7"
      },
      "source": [
        "# Operators in Python\n",
        "\n",
        "- Arithmetic Operators\n",
        "- Relational Operators\n",
        "- Logical Operators\n",
        "- Bitwise Operators\n",
        "- Assignment Operators\n",
        "- Membership Operators"
      ]
    },
    {
      "cell_type": "code",
      "execution_count": null,
      "metadata": {
        "colab": {
          "base_uri": "https://localhost:8080/"
        },
        "id": "a7cegk-f7U4-",
        "outputId": "77490d0d-316e-4611-9cd7-8c99e64fca2a"
      },
      "outputs": [
        {
          "name": "stdout",
          "output_type": "stream",
          "text": [
            "11\n",
            "-1\n",
            "30\n",
            "2.5\n",
            "2\n",
            "1\n",
            "25\n"
          ]
        }
      ],
      "source": [
        "# Arithmetric Operators\n",
        "print(5+6)\n",
        "\n",
        "print(5-6)\n",
        "\n",
        "print(5*6)\n",
        "\n",
        "print(5/2)\n",
        "\n",
        "#gives integer\n",
        "print(5//2)\n",
        "# gives remainder*\n",
        "print(5%2)\n",
        "#power\n",
        "print(5**2)"
      ]
    },
    {
      "cell_type": "code",
      "execution_count": null,
      "metadata": {
        "colab": {
          "base_uri": "https://localhost:8080/"
        },
        "id": "TMIQKhFd7Y5A",
        "outputId": "573867e9-962a-45a6-a313-dcaa8b9a6406"
      },
      "outputs": [
        {
          "name": "stdout",
          "output_type": "stream",
          "text": [
            "False\n",
            "True\n",
            "True\n",
            "True\n",
            "True\n",
            "False\n"
          ]
        }
      ],
      "source": [
        "# Relational Operators\n",
        "print(4>5)\n",
        "\n",
        "print(4<5)\n",
        "\n",
        "print(4>=4)\n",
        "\n",
        "print(4<=4)\n",
        "\n",
        "print(4==4)\n",
        "\n",
        "print(4!=4)"
      ]
    },
    {
      "cell_type": "code",
      "execution_count": null,
      "metadata": {
        "colab": {
          "base_uri": "https://localhost:8080/"
        },
        "id": "H4KzpSke7d9l",
        "outputId": "5832a648-6430-425c-8fa7-8dbad5d8d4b3"
      },
      "outputs": [
        {
          "name": "stdout",
          "output_type": "stream",
          "text": [
            "2\n",
            "3\n",
            "1\n",
            "-4\n",
            "1\n",
            "20\n"
          ]
        }
      ],
      "source": [
        "# Bitwise Operators\n",
        "\n",
        "# bitwise and\n",
        "print(2 & 3)\n",
        "\n",
        "# bitwise or\n",
        "print(2 | 3)\n",
        "\n",
        "# bitwise xor\n",
        "print(2 ^ 3)\n",
        "\n",
        "print(~3)\n",
        "\n",
        "print(4 >> 2)\n",
        "\n",
        "print(5 << 2)"
      ]
    },
    {
      "cell_type": "code",
      "execution_count": null,
      "metadata": {
        "colab": {
          "base_uri": "https://localhost:8080/"
        },
        "id": "LzrIz7I87h-W",
        "outputId": "d362a8a0-bbae-406f-bd33-fc6fe789e889"
      },
      "outputs": [
        {
          "name": "stdout",
          "output_type": "stream",
          "text": [
            "False\n",
            "False\n"
          ]
        }
      ],
      "source": [
        "# Membership Operators\n",
        "\n",
        "# in/not in\n",
        "\n",
        "print('D' not in 'Delhi')\n",
        "\n",
        "print(1 in [2,3,4,5,6])"
      ]
    },
    {
      "cell_type": "code",
      "execution_count": null,
      "metadata": {
        "colab": {
          "base_uri": "https://localhost:8080/"
        },
        "id": "C-LoVrYGDEuB",
        "outputId": "bf29264b-1d9e-43f9-c2d7-be84a9b381e4"
      },
      "outputs": [
        {
          "name": "stdout",
          "output_type": "stream",
          "text": [
            "enter a 3 digit number: 345\n",
            "12\n"
          ]
        }
      ],
      "source": [
        "# Program - Find the sum of a 3 digit number entered by the user\n",
        "\n",
        "num = int(input('enter a 3 digit number: '))\n",
        "\n",
        "#remainder 345/10=34.5\n",
        "a = 345%10 #a=5\n",
        "\n",
        "number = 345//10 # number = 34 now\n",
        "\n",
        "b = number%10 # b=4\n",
        "\n",
        "c = number//10 # c=3\n",
        "#print(c)\n",
        "\n",
        "sum = a+b+c\n",
        "print(sum)\n"
      ]
    },
    {
      "cell_type": "markdown",
      "metadata": {
        "id": "xAYwTFOa9TSl"
      },
      "source": [
        "#If-Else in Python"
      ]
    },
    {
      "cell_type": "code",
      "execution_count": null,
      "metadata": {
        "colab": {
          "base_uri": "https://localhost:8080/"
        },
        "id": "p2ZEP-wz9Xx4",
        "outputId": "aa3b1085-a9b9-4231-f06a-b63864f9da5f"
      },
      "outputs": [
        {
          "name": "stdout",
          "output_type": "stream",
          "text": [
            "enter your email: fouziasharkar@gmail.com\n",
            "enter your password123456\n",
            "Welcome!\n"
          ]
        }
      ],
      "source": [
        "#email login problem\n",
        "\n",
        "email = input('enter your email: ')\n",
        "password = input('enter your password')\n",
        "\n",
        "if email == 'fouziasharkar@gmail.com' and password == '123456':\n",
        "  print('Welcome!')\n",
        "elif email == 'fouziasharkar@gmail.com' and password!='123456':\n",
        "  print('Incorrect password')\n",
        "  password = input('enter password again')\n",
        "  if password == '123456':\n",
        "    print('Congratulations')\n",
        "  else:\n",
        "    print('try again')\n",
        "\n",
        "else:\n",
        "  print('Check again')"
      ]
    },
    {
      "cell_type": "code",
      "execution_count": null,
      "metadata": {
        "colab": {
          "base_uri": "https://localhost:8080/"
        },
        "id": "yTApoQi8KH30",
        "outputId": "a89157cc-2ad3-4c6b-9b50-4f9cad507e2a"
      },
      "outputs": [
        {
          "name": "stdout",
          "output_type": "stream",
          "text": [
            "enter a number: 5\n",
            "enter a number: 3\n",
            "enter a number: 7\n",
            "3 is the smallest number \n"
          ]
        }
      ],
      "source": [
        "# find min from 3 numbers\n",
        "\n",
        "a = int(input('enter a number: '))\n",
        "b = int(input('enter a number: '))\n",
        "c = int(input('enter a number: '))\n",
        "\n",
        "if a<b and b<c:\n",
        "  print(a, 'is the smallest number')\n",
        "elif c<b :\n",
        "  print(c, 'is the smallest number')\n",
        "else:\n",
        "  print(b, 'is the smallest number ')\n"
      ]
    },
    {
      "cell_type": "markdown",
      "metadata": {
        "id": "532_6mva8A6C"
      },
      "source": [
        "# Modules in Python\n",
        "\n",
        "- math\n",
        "- keywords\n",
        "- random\n",
        "- datetime"
      ]
    },
    {
      "cell_type": "code",
      "execution_count": null,
      "metadata": {
        "colab": {
          "base_uri": "https://localhost:8080/"
        },
        "id": "x5VXt7wv8G4o",
        "outputId": "0f191ca5-e4c3-4c79-ecf2-dcbd23cbd770"
      },
      "outputs": [
        {
          "data": {
            "text/plain": [
              "14.0"
            ]
          },
          "execution_count": 61,
          "metadata": {},
          "output_type": "execute_result"
        }
      ],
      "source": [
        "# math\n",
        "import math\n",
        "\n",
        "math.sqrt(196)"
      ]
    },
    {
      "cell_type": "code",
      "execution_count": null,
      "metadata": {
        "colab": {
          "base_uri": "https://localhost:8080/"
        },
        "id": "FLgAX9pz8HBT",
        "outputId": "63de6b39-b796-475b-9b7d-fa22f2019c90"
      },
      "outputs": [
        {
          "name": "stdout",
          "output_type": "stream",
          "text": [
            "['False', 'None', 'True', 'and', 'as', 'assert', 'async', 'await', 'break', 'class', 'continue', 'def', 'del', 'elif', 'else', 'except', 'finally', 'for', 'from', 'global', 'if', 'import', 'in', 'is', 'lambda', 'nonlocal', 'not', 'or', 'pass', 'raise', 'return', 'try', 'while', 'with', 'yield']\n"
          ]
        }
      ],
      "source": [
        "# keyword\n",
        "import keyword\n",
        "print(keyword.kwlist)"
      ]
    },
    {
      "cell_type": "code",
      "execution_count": null,
      "metadata": {
        "colab": {
          "base_uri": "https://localhost:8080/"
        },
        "id": "R0dWpe-w8HSZ",
        "outputId": "3aa87b74-0699-47d7-8316-73de80dbfeb1"
      },
      "outputs": [
        {
          "name": "stdout",
          "output_type": "stream",
          "text": [
            "88\n"
          ]
        }
      ],
      "source": [
        "# random\n",
        "import random\n",
        "print(random.randint(1,100))"
      ]
    },
    {
      "cell_type": "code",
      "execution_count": null,
      "metadata": {
        "colab": {
          "base_uri": "https://localhost:8080/"
        },
        "id": "XNHWXsM0iFn3",
        "outputId": "7d219248-ba98-4b2e-a382-57630acea35c"
      },
      "outputs": [
        {
          "name": "stdout",
          "output_type": "stream",
          "text": [
            "2022-11-08 15:50:21.228643\n"
          ]
        }
      ],
      "source": [
        "# datetime\n",
        "import datetime\n",
        "print(datetime.datetime.now())"
      ]
    },
    {
      "cell_type": "markdown",
      "metadata": {
        "id": "3Gsn4JtIRARD"
      },
      "source": [
        "#Loops in Python"
      ]
    },
    {
      "cell_type": "markdown",
      "metadata": {
        "id": "hRHLX6a-hnRH"
      },
      "source": [
        "**While loop**"
      ]
    },
    {
      "cell_type": "code",
      "execution_count": null,
      "metadata": {
        "colab": {
          "base_uri": "https://localhost:8080/"
        },
        "id": "5HmCXOXBWsD-",
        "outputId": "3d6be764-50f7-4a90-a923-e7b14c3a5a6a"
      },
      "outputs": [
        {
          "name": "stdout",
          "output_type": "stream",
          "text": [
            "Guess a number: 60\n",
            "Incorrect! Guess higher.\n",
            "Guess a number: 80\n",
            "Incorrect!Guess lower.\n",
            "Guess a number: 70\n",
            "Incorrect! Guess higher.\n",
            "Guess a number: 75\n",
            "Incorrect! Guess higher.\n",
            "Guess a number: 76\n",
            "Correct guess\n",
            "count 5\n"
          ]
        }
      ],
      "source": [
        "#guessing game\n",
        "\n",
        "import random\n",
        "\n",
        "jackpot = random.randint(1,100)\n",
        "guess = int(input('Guess a number: '))\n",
        "\n",
        "count = 1\n",
        "while guess != jackpot:\n",
        "  if guess<jackpot:\n",
        "    print('Incorrect! Guess higher.')\n",
        "  else:\n",
        "    print('Incorrect!Guess lower.')\n",
        "\n",
        "  guess = int(input('Guess a number: '))\n",
        "\n",
        "  count+=1\n",
        "\n",
        "else:\n",
        "  print('Correct guess')\n",
        "\n",
        "print('count', count)\n"
      ]
    },
    {
      "cell_type": "markdown",
      "metadata": {
        "id": "lXKA0SrTiGB_"
      },
      "source": [
        "**For Loop**"
      ]
    },
    {
      "cell_type": "markdown",
      "metadata": {
        "id": "ZeVji7xDTup6"
      },
      "source": [
        "Q1. The current population of a town is 10000.The population of the town is increasing at the rate of 10% per year.You have to write a program to find out the population at the end of each of the last 10 years.\n",
        "\n"
      ]
    },
    {
      "cell_type": "code",
      "execution_count": null,
      "metadata": {
        "colab": {
          "base_uri": "https://localhost:8080/"
        },
        "id": "-DwPH1-dgkwO",
        "outputId": "30c28e1f-82f3-4883-da61-38f4f69d65f8"
      },
      "outputs": [
        {
          "name": "stdout",
          "output_type": "stream",
          "text": [
            "10 no year population 10000\n",
            "9 no year population 9090.0\n",
            "8 no year population 8263.0\n",
            "7 no year population 7511.0\n",
            "6 no year population 6828.0\n",
            "5 no year population 6207.0\n",
            "4 no year population 5642.0\n",
            "3 no year population 5129.0\n",
            "2 no year population 4662.0\n",
            "1 no year population 4238.0\n"
          ]
        }
      ],
      "source": [
        "curr_pop = 10000\n",
        "\n",
        "for i in range (10, 0, -1):\n",
        "  print( i,'no year population', curr_pop)\n",
        "  curr_pop = curr_pop// 1.1  # lets 9th year pop = x ,  x + 10% of x = 10000, so x = (10,000/1.1)\n"
      ]
    },
    {
      "cell_type": "markdown",
      "metadata": {
        "id": "jmeilrsx_Dz_"
      },
      "source": [
        "### Sequence sum\n",
        "\n",
        "1/1! + 2/2! + 3/3! + ..."
      ]
    },
    {
      "cell_type": "code",
      "execution_count": null,
      "metadata": {
        "colab": {
          "base_uri": "https://localhost:8080/"
        },
        "id": "I4FjhPQzT4eP",
        "outputId": "1991d1ea-7059-4cfa-99d8-704b9da0da6a"
      },
      "outputs": [
        {
          "name": "stdout",
          "output_type": "stream",
          "text": [
            "enter n: 6\n",
            "2.7166666666666663\n"
          ]
        }
      ],
      "source": [
        "n = int(input('enter n: '))\n",
        "\n",
        "fact = 1\n",
        "result = 0\n",
        "for i in range (1,n+1):\n",
        "  fact = fact * i\n",
        "  result += i/fact\n",
        "\n",
        "print(result)\n",
        "\n",
        "\n"
      ]
    },
    {
      "cell_type": "code",
      "execution_count": null,
      "metadata": {
        "colab": {
          "base_uri": "https://localhost:8080/"
        },
        "id": "atvJJk8OWvOL",
        "outputId": "b5e93b15-a211-4411-bd17-ec3e288045fb"
      },
      "outputs": [
        {
          "name": "stdout",
          "output_type": "stream",
          "text": [
            "1 1\n",
            "1 2\n",
            "1 3\n",
            "1 4\n",
            "2 1\n",
            "2 2\n",
            "2 3\n",
            "2 4\n",
            "3 1\n",
            "3 2\n",
            "3 3\n",
            "3 4\n",
            "4 1\n",
            "4 2\n",
            "4 3\n",
            "4 4\n"
          ]
        }
      ],
      "source": [
        "# uniq pairs\n",
        "\n",
        "for i in range(1, 5): # i=1\n",
        "  for j in range (1, 5): # j = 1,2,3,4 || ekhon second loop sesh hoye upore gelo and i=2 hoye abar loop start hobe\n",
        "    print(i,j)"
      ]
    },
    {
      "cell_type": "markdown",
      "metadata": {
        "id": "iUnoz6z1_aaI"
      },
      "source": [
        "### Pattern 1\n",
        "\n",
        "\n",
        "*** <br>\n",
        "**** <br>\n",
        "***<br>\n"
      ]
    },
    {
      "cell_type": "code",
      "execution_count": null,
      "metadata": {
        "colab": {
          "base_uri": "https://localhost:8080/"
        },
        "id": "FmEzGb3PZPjH",
        "outputId": "8855208a-8b69-4637-c40e-4b2d891abfa0"
      },
      "outputs": [
        {
          "name": "stdout",
          "output_type": "stream",
          "text": [
            "enter row number: 3\n",
            "*\n",
            "**\n",
            "***\n"
          ]
        }
      ],
      "source": [
        "rows = int(input('enter row number: '))\n",
        "\n",
        "for i in range(1, rows+1): # i=1\n",
        "  for j in range (1, i+1): # j=1\n",
        "    print('*', end='')\n",
        "  print()\n",
        "\n"
      ]
    },
    {
      "cell_type": "markdown",
      "metadata": {
        "id": "X-wPW-LAdtSm"
      },
      "source": []
    },
    {
      "cell_type": "markdown",
      "metadata": {
        "id": "OxXDih5R_0uB"
      },
      "source": [
        "### Pattern 2\n",
        "1<br>\n",
        "121<br>\n",
        "12321<br>\n",
        "1234321<br>"
      ]
    },
    {
      "cell_type": "code",
      "execution_count": null,
      "metadata": {
        "colab": {
          "base_uri": "https://localhost:8080/"
        },
        "id": "MLa2kr02dpEX",
        "outputId": "1a934aad-312e-4baa-ff60-19403d2b2cbe"
      },
      "outputs": [
        {
          "name": "stdout",
          "output_type": "stream",
          "text": [
            "enter row number: 5\n",
            "1\n",
            "121\n",
            "12321\n",
            "1234321\n",
            "123454321\n"
          ]
        }
      ],
      "source": [
        "rows = int(input('enter row number: '))\n",
        "\n",
        "for i in range (1, rows+1):\n",
        "  for j in range (1,i+1):\n",
        "    print(j, end='')\n",
        "  for k in range (i-1,0,-1):\n",
        "    print(k, end='')\n",
        "  print()"
      ]
    },
    {
      "cell_type": "markdown",
      "metadata": {
        "id": "U-Tc6pRnp90L"
      },
      "source": [
        "Break condition in loop"
      ]
    },
    {
      "cell_type": "code",
      "execution_count": null,
      "metadata": {
        "colab": {
          "base_uri": "https://localhost:8080/"
        },
        "id": "H2ZwC3A-p7J5",
        "outputId": "1d74baae-a8ee-47e4-8869-58f6c27eef8d"
      },
      "outputs": [
        {
          "name": "stdout",
          "output_type": "stream",
          "text": [
            "enter the lower number: 10\n",
            "enter the upper number: 50\n",
            "11\n",
            "13\n",
            "17\n",
            "19\n",
            "23\n",
            "29\n",
            "31\n",
            "37\n",
            "41\n",
            "43\n",
            "47\n"
          ]
        }
      ],
      "source": [
        "# finding prime numbers in a range\n",
        "\n",
        "l = int(input('enter the lower number: '))\n",
        "u = int(input('enter the upper number: '))\n",
        "\n",
        "for i in range(l,u+1): #range\n",
        "  for j in range(2,i): # condition for prime number #1 and i exclude kore dise. so ei duita chara konota vag gelei oita prime na\n",
        "   if i%j == 0:\n",
        "    break\n",
        "\n",
        "  else:\n",
        "    print(i)\n"
      ]
    },
    {
      "cell_type": "code",
      "execution_count": null,
      "metadata": {
        "colab": {
          "base_uri": "https://localhost:8080/"
        },
        "id": "QPwyXdT09b2K",
        "outputId": "a47ae53d-d85e-4059-899b-53d86d7a6594"
      },
      "outputs": [
        {
          "name": "stdout",
          "output_type": "stream",
          "text": [
            "1\n",
            "2\n",
            "3\n",
            "4\n",
            "6\n",
            "7\n",
            "8\n",
            "9\n"
          ]
        }
      ],
      "source": [
        "# continue skips the current iteration and move forward to the next iteration\n",
        "# Continue\n",
        "for i in range(1,10):\n",
        "  if i == 5: #like here except 5 everything will be printed\n",
        "    continue\n",
        "  print(i)"
      ]
    },
    {
      "cell_type": "markdown",
      "metadata": {
        "id": "Kws_HhFKUkXa"
      },
      "source": [
        "<h1>Tasks"
      ]
    },
    {
      "cell_type": "markdown",
      "metadata": {
        "id": "w6RlOAXV2PWh"
      },
      "source": [
        "### `Problem 1`: Write a program that will give you in hand monthly salary after deduction on CTC - HRA(10%), DA(5%), PF(3%) and taxes deduction as below:\n",
        "\n",
        "> Salary(Lakhs) : Tax(%)\n",
        "\n",
        "*   Below 5 : 0%\n",
        "*   5-10 : 10%\n",
        "*   10-20 : 20%\n",
        "*   aboove 20 : 30%"
      ]
    },
    {
      "cell_type": "code",
      "execution_count": null,
      "metadata": {
        "colab": {
          "base_uri": "https://localhost:8080/"
        },
        "id": "7tMHvKYO2etI",
        "outputId": "9e4555a5-226f-4aca-c4de-1dda94df7742"
      },
      "outputs": [
        {
          "name": "stdout",
          "output_type": "stream",
          "text": [
            "enter your salary: 500000\n",
            "360000.0\n"
          ]
        }
      ],
      "source": [
        "salary = int(input('enter your salary: '))\n",
        "\n",
        "deduction = 18 #ctc+DA+PF\n",
        "new_salary = None\n",
        "if salary < 500000:\n",
        "  tax_percentage = 0\n",
        "elif salary >= 500000 and salary <1000000:\n",
        "  tax_percentage = 10\n",
        "elif salary >= 1000000 and salary<2000000:\n",
        "  tax_percentage = 20\n",
        "else:\n",
        "  tax_percentage = 30\n",
        "\n",
        "deduction = deduction + tax_percentage\n",
        "new_salary = salary - ((salary*deduction)/100)\n",
        "print(new_salary)\n",
        "\n",
        "\n",
        "\n"
      ]
    },
    {
      "cell_type": "markdown",
      "metadata": {
        "id": "tYzCGqwl2hfN"
      },
      "source": [
        "### `Problem 2`: Write a program that take a user input of three angles and will find out whether it can form a triangle or not."
      ]
    },
    {
      "cell_type": "code",
      "execution_count": null,
      "metadata": {
        "colab": {
          "base_uri": "https://localhost:8080/"
        },
        "id": "FYEqln-I2kxV",
        "outputId": "c843a5d6-2400-423d-ac09-c5b8fb164093"
      },
      "outputs": [
        {
          "name": "stdout",
          "output_type": "stream",
          "text": [
            "enter a number: 0\n",
            "enter a number: 100\n",
            "enter a number: 80\n",
            "Invalid input\n"
          ]
        }
      ],
      "source": [
        "# To make a triangle there are three conditions:\n",
        "# 1. All angles are greater than zero\n",
        "# 2. sum of three angles should be 180\n",
        "# 3. Sum of any two angles should be greater than the third angle\n",
        "\n",
        "a = float(input('enter a number: '))\n",
        "b = float(input('enter a number: '))\n",
        "c = float(input('enter a number: '))\n",
        "\n",
        "sum = a+b+c\n",
        "\n",
        "if  a>0 and b>0 and c>0:\n",
        "  if sum == 180 and a+b>c and b+c>a and a+c>b:\n",
        "    print('It is a triangle')\n",
        "  else:\n",
        "    print('It is not a triangle')\n",
        "else:\n",
        "  print('Invalid input')"
      ]
    },
    {
      "cell_type": "markdown",
      "metadata": {
        "id": "5vEpPh8C2pE4"
      },
      "source": [
        "### `Problem 3`: Write a program that will take user input of cost price and selling price and determines whether its a loss or a profit."
      ]
    },
    {
      "cell_type": "code",
      "execution_count": null,
      "metadata": {
        "colab": {
          "base_uri": "https://localhost:8080/"
        },
        "id": "jDwBXlkO2sfl",
        "outputId": "bdaa2e86-f523-442a-9aa8-aeda4479eda3"
      },
      "outputs": [
        {
          "name": "stdout",
          "output_type": "stream",
          "text": [
            "enter a number: 50\n",
            "enter a number: 100\n",
            "It is a profit\n",
            "Enter the cost price: 50\n",
            "Enter the selling price: 100\n",
            "Profit of 50.0\n"
          ]
        }
      ],
      "source": [
        "cost = float(input('enter a number: '))\n",
        "sell = float(input('enter a number: '))\n",
        "\n",
        "if cost>sell:\n",
        "  print ('It is a loss')\n",
        "elif cost == sell:\n",
        "  print('Tie')\n",
        "else:\n",
        "  print('It is a profit')\n",
        "\n",
        "\n",
        "#Another solution\n",
        "cost_price = float(input('Enter the cost price: '))\n",
        "selling_price = float(input('Enter the selling price: '))\n",
        "\n",
        "# Calculate profit or loss\n",
        "profit_or_loss = selling_price - cost_price\n",
        "\n",
        "if profit_or_loss > 0:\n",
        "    print('Profit of', profit_or_loss)\n",
        "elif profit_or_loss < 0:\n",
        "    print('Loss of', -profit_or_loss)\n",
        "else:\n",
        "    print('No profit, no loss.')"
      ]
    },
    {
      "cell_type": "markdown",
      "metadata": {
        "id": "J_FG_cJW2ugT"
      },
      "source": [
        "### `Problem 4`: Write a menu-driven program -\n",
        "1. cm to ft\n",
        "2. km to miles\n",
        "3. USD to INR\n",
        "4. exit"
      ]
    },
    {
      "cell_type": "code",
      "execution_count": null,
      "metadata": {
        "colab": {
          "base_uri": "https://localhost:8080/"
        },
        "id": "WqJcf21Uvpo0",
        "outputId": "62bca2a9-a318-44c5-c246-9329f000b8e6"
      },
      "outputs": [
        {
          "name": "stdout",
          "output_type": "stream",
          "text": [
            "\n",
            "Menu:\n",
            "1. Convert centimeters to feet\n",
            "2. Convert kilometers to miles\n",
            "3. Convert USD to INR\n",
            "4. Exit\n",
            "\n",
            "enter a number: 5\n",
            "Invalid Input. Please enter a valid option 1/2/3/4\n",
            "enter a number: 4\n",
            "please click exit button\n"
          ]
        }
      ],
      "source": [
        "print(\"\\nMenu:\")\n",
        "print(\"1. Convert centimeters to feet\")\n",
        "print(\"2. Convert kilometers to miles\")\n",
        "print(\"3. Convert USD to INR\")\n",
        "print(\"4. Exit\")\n",
        "print()\n",
        "while True:\n",
        "    n = int(input('enter a number: '))\n",
        "\n",
        "    if n == 1:\n",
        "      cm = float(input('enter a number: '))\n",
        "      ft = cm / 30.48 #cm-ft\n",
        "      print(ft)\n",
        "      #break\n",
        "    elif n==2:\n",
        "      k = float(input('enter a number: '))\n",
        "      m = k * (0.621371) #km-mile\n",
        "      print(m)\n",
        "      #break\n",
        "    elif n==3:\n",
        "      usd = float(input('enter a number: '))\n",
        "      inr = usd * (83.49) #usd to inr\n",
        "      print(inr)\n",
        "      #break\n",
        "    elif n==4:\n",
        "      print('please click exit button')\n",
        "      break\n",
        "    else:\n",
        "      print('Invalid Input. Please enter a valid option 1/2/3/4')\n"
      ]
    },
    {
      "cell_type": "markdown",
      "metadata": {
        "id": "LJJ30_Yw27ZU"
      },
      "source": [
        "### `Problem 5` - Exercise 12: Display Fibonacci series up to 10 terms.\n",
        "\n",
        "*Note: The Fibonacci Sequence is a series of numbers. The next number is found by adding up the two numbers before it. The first two numbers are 0 and 1. For example, 0, 1, 1, 2, 3, 5, 8, 13, 21. The next number in this series above is 13+21 = 34*"
      ]
    },
    {
      "cell_type": "code",
      "execution_count": null,
      "metadata": {
        "colab": {
          "base_uri": "https://localhost:8080/"
        },
        "id": "ae_1rpe52-5R",
        "outputId": "b36b99af-466d-4c22-ab52-53b457f79cc6"
      },
      "outputs": [
        {
          "name": "stdout",
          "output_type": "stream",
          "text": [
            "0,1,1,2,3,5,8,13,21,34\n"
          ]
        }
      ],
      "source": [
        "f1 =0\n",
        "f2 = 1\n",
        "print(f1, end=',')\n",
        "print(f2, end=',')\n",
        "for i in range (8): # range 8 means 0-7 thats why it printed 8 terms\n",
        "  next = f1+f2 # next term\n",
        "  #this if else condition is given to avoid , at the end of the last number\n",
        "  if i<7:\n",
        "    print (next, end=',')\n",
        "  else:\n",
        "    print(next)\n",
        "  f1 = f2 #f1 update\n",
        "  f2 = next #f2 update\n",
        "\n",
        "\n",
        "\n",
        "\n",
        "\n"
      ]
    },
    {
      "cell_type": "markdown",
      "metadata": {
        "id": "pk_I_S4m3PT5"
      },
      "source": [
        "### `Problem 6` - Find the factorial of a given number.\n",
        "\n",
        "Write a program to use the loop to find the factorial of a given number.\n",
        "\n",
        "The factorial (symbol: `!`) means to multiply all whole numbers from the chosen number down to 1.\n",
        "\n",
        "For example: calculate the factorial of 5\n",
        "\n",
        "```bash\n",
        "5! = 5 × 4 × 3 × 2 × 1 = 120\n",
        "```\n",
        "\n",
        "Output:\n",
        "\n",
        "```bash\n",
        "120\n",
        "```"
      ]
    },
    {
      "cell_type": "code",
      "execution_count": null,
      "metadata": {
        "colab": {
          "base_uri": "https://localhost:8080/"
        },
        "id": "lzXxHegx3Rkc",
        "outputId": "b973c5f1-047c-403f-9a2a-415bd1acca12"
      },
      "outputs": [
        {
          "name": "stdout",
          "output_type": "stream",
          "text": [
            "enter a number: 1\n",
            "1\n"
          ]
        }
      ],
      "source": [
        "n = int(input('enter a number: '))\n",
        "\n",
        "factorial = 1\n",
        "for i in range (1,n+1):\n",
        "  factorial*=i\n",
        "print(factorial)\n"
      ]
    },
    {
      "cell_type": "markdown",
      "metadata": {
        "id": "-17IOi-g3UpU"
      },
      "source": [
        "### `Problem 7` - Reverse a given integer number.\n",
        "\n",
        "Example:\n",
        "\n",
        "`Input:`\n",
        "\n",
        "```bash\n",
        "76542\n",
        "```\n",
        "\n",
        "`Output:`\n",
        "\n",
        "```bash\n",
        "24567\n",
        "```"
      ]
    },
    {
      "cell_type": "code",
      "execution_count": null,
      "metadata": {
        "colab": {
          "base_uri": "https://localhost:8080/"
        },
        "id": "wJwLpKCr3aVA",
        "outputId": "9882d202-7801-4c72-f582-3e7223d4e082"
      },
      "outputs": [
        {
          "output_type": "stream",
          "name": "stdout",
          "text": [
            "enter a number: 123456\n",
            "654321"
          ]
        }
      ],
      "source": [
        "n = input('enter a number: ')\n",
        "number = int(n)\n",
        "\n",
        "count = 0\n",
        "for i in n:\n",
        "  count+=1\n",
        "#print(count)\n",
        "\n",
        "for _ in range (count):\n",
        "  r = number%10 #remove the last digit\n",
        "\n",
        "  c = number//10 #extract the last digit\n",
        "\n",
        "  number = c\n",
        "\n",
        "  print(r, end='')\n",
        "\n",
        "\n",
        "\n",
        "\n",
        "\n"
      ]
    },
    {
      "cell_type": "markdown",
      "metadata": {
        "id": "-t8PJQaY3sHf"
      },
      "source": [
        "### `Problem 8`: Take a user input as integer N. Find out the sum from 1 to N. If any number if divisible by 5, then skip that number. And if the sum is greater than 300, don't need to calculate the sum further more. Print the final result. And don't use for loop to solve this problem.\n",
        "\n",
        "**Example 1:**\n",
        "\n",
        "`Input:`\n",
        "\n",
        "```bash\n",
        "30\n",
        "```\n",
        "\n",
        "`Output:`\n",
        "\n",
        "```bash\n",
        "276\n",
        "```"
      ]
    },
    {
      "cell_type": "code",
      "source": [
        "def calculate_sum(N):\n",
        "    if N < 1:\n",
        "        return 0\n",
        "\n",
        "    total_sum = 0\n",
        "    current_number = 1\n",
        "\n",
        "    while current_number <= N:\n",
        "        if current_number % 5 != 0:\n",
        "            total_sum += current_number\n",
        "\n",
        "        if total_sum > 300:\n",
        "            break\n",
        "\n",
        "        current_number += 1\n",
        "\n",
        "    return total_sum\n",
        "\n",
        "# Taking user input\n",
        "N = int(input(\"Enter a number: \"))\n",
        "\n",
        "# Calculating and printing the result\n",
        "result = calculate_sum(N)\n",
        "print(\"The sum from 1 to\", N, \"skipping multiples of 5 and stopping when sum exceeds 300 is:\", result)"
      ],
      "metadata": {
        "colab": {
          "base_uri": "https://localhost:8080/"
        },
        "id": "-z-GeSaxczCc",
        "outputId": "780c2aee-9051-4124-9953-6209a5b03669"
      },
      "execution_count": null,
      "outputs": [
        {
          "output_type": "stream",
          "name": "stdout",
          "text": [
            "Enter a number: 30\n",
            "The sum from 1 to 30 skipping multiples of 5 and stopping when sum exceeds 300 is: 303\n"
          ]
        }
      ]
    },
    {
      "cell_type": "markdown",
      "metadata": {
        "id": "Q7ggImeA3xm4"
      },
      "source": [
        "### `Problem 9`: Write a program that keeps on accepting a number from the user until the user enters Zero. Display the sum and average of all the numbers."
      ]
    },
    {
      "cell_type": "code",
      "execution_count": null,
      "metadata": {
        "id": "t_YDSZDe4Kdo",
        "colab": {
          "base_uri": "https://localhost:8080/"
        },
        "outputId": "4d3cadc3-6d0e-4fbb-f803-e8ea680b5f81"
      },
      "outputs": [
        {
          "output_type": "stream",
          "name": "stdout",
          "text": [
            "enter a number20\n",
            "enter a number30\n",
            "enter a number40\n",
            "enter a number0\n",
            "90\n",
            "30.0\n"
          ]
        }
      ],
      "source": [
        "sum = 0\n",
        "count = 0\n",
        "avg = 0\n",
        "while True:\n",
        "  n = int(input('enter a number'))\n",
        "  if n==0:\n",
        "    break\n",
        "  sum += n\n",
        "  count+=1\n",
        "  avg = sum/count\n",
        "\n",
        "\n",
        "  i+=1\n",
        "print(sum)\n",
        "print(avg)"
      ]
    },
    {
      "cell_type": "markdown",
      "metadata": {
        "id": "6EhvEMvm4R7s"
      },
      "source": [
        "###`Problem 10`: Write a program which will find all such numbers which are divisible by 7 but are not a multiple of 5, between 2000 and 3200 (both included). The numbers obtained should be printed in a comma-separated sequence on a single line."
      ]
    },
    {
      "cell_type": "code",
      "execution_count": null,
      "metadata": {
        "id": "d6RgP1B34T6c",
        "colab": {
          "base_uri": "https://localhost:8080/"
        },
        "outputId": "d3facf42-fca3-4167-f82c-b0576ca13409"
      },
      "outputs": [
        {
          "output_type": "stream",
          "name": "stdout",
          "text": [
            "2002,2009,2016,2023,2037,2044,2051,2058,2072,2079,2086,2093,2107,2114,2121,2128,2142,2149,2156,2163,2177,2184,2191,2198,2212,2219,2226,2233,2247,2254,2261,2268,2282,2289,2296,2303,2317,2324,2331,2338,2352,2359,2366,2373,2387,2394,2401,2408,2422,2429,2436,2443,2457,2464,2471,2478,2492,2499,2506,2513,2527,2534,2541,2548,2562,2569,2576,2583,2597,2604,2611,2618,2632,2639,2646,2653,2667,2674,2681,2688,2702,2709,2716,2723,2737,2744,2751,2758,2772,2779,2786,2793,2807,2814,2821,2828,2842,2849,2856,2863,2877,2884,2891,2898,2912,2919,2926,2933,2947,2954,2961,2968,2982,2989,2996,3003,3017,3024,3031,3038,3052,3059,3066,3073,3087,3094,3101,3108,3122,3129,3136,3143,3157,3164,3171,3178,3192,3199,"
          ]
        }
      ],
      "source": [
        "for i in range(2000,3201):\n",
        "  if i%7==0 and i%5!=0:\n",
        "      print(i, end=',')\n",
        "# to avoid comma at the end of the last number\n",
        "#     if i != 3199:\n",
        "#       print(',', end='')\n",
        "\n",
        "\n"
      ]
    },
    {
      "cell_type": "markdown",
      "metadata": {
        "id": "tYvmRR-G4Vp4"
      },
      "source": [
        "###`Problem 11`: Write a program, which will find all such numbers between 1000 and 3000 (both included) such that each digit of the number is an even number. The numbers obtained should be printed in a space-separated sequence on a single line.\n",
        "\n"
      ]
    },
    {
      "cell_type": "code",
      "execution_count": null,
      "metadata": {
        "id": "k6Gs1kIf4k19",
        "colab": {
          "base_uri": "https://localhost:8080/"
        },
        "outputId": "44979edf-f1ee-4e79-e4fe-fc73b1aa6bf2"
      },
      "outputs": [
        {
          "output_type": "stream",
          "name": "stdout",
          "text": [
            "2000 2002 2004 2006 2008 2020 2022 2024 2026 2028 2040 2042 2044 2046 2048 2060 2062 2064 2066 2068 2080 2082 2084 2086 2088 2200 2202 2204 2206 2208 2220 2222 2224 2226 2228 2240 2242 2244 2246 2248 2260 2262 2264 2266 2268 2280 2282 2284 2286 2288 2400 2402 2404 2406 2408 2420 2422 2424 2426 2428 2440 2442 2444 2446 2448 2460 2462 2464 2466 2468 2480 2482 2484 2486 2488 2600 2602 2604 2606 2608 2620 2622 2624 2626 2628 2640 2642 2644 2646 2648 2660 2662 2664 2666 2668 2680 2682 2684 2686 2688 2800 2802 2804 2806 2808 2820 2822 2824 2826 2828 2840 2842 2844 2846 2848 2860 2862 2864 2866 2868 2880 2882 2884 2886 2888 "
          ]
        }
      ],
      "source": [
        "for num in range(1000, 3001):\n",
        "    if all(int(i) % 2 == 0 for i in str(num)):\n",
        "        print(num, end=' ')\n"
      ]
    },
    {
      "cell_type": "markdown",
      "metadata": {
        "id": "GV18IINT4mf5"
      },
      "source": [
        "###`Problem 12`: A robot moves in a plane starting from the original point (0,0). The robot can move toward UP, DOWN, LEFT and RIGHT with a given steps.\n",
        "The trace of robot movement is shown as the following:\n",
        "```\n",
        "UP 5\n",
        "DOWN 3\n",
        "LEFT 3\n",
        "RIGHT 2\n",
        "!\n",
        "```\n",
        "> The numbers after the direction are steps.\n",
        "\n",
        "> `!` means robot stop there.\n",
        "\n",
        "**Please write a program to compute the distance from current position after a sequence of movement and original point.**\n",
        "\n",
        "*If the distance is a float, then just print the nearest integer.*\n",
        "\n",
        "Example:\n",
        "\n",
        "`Input`:\n",
        "```\n",
        "UP 5\n",
        "DOWN 3\n",
        "LEFT 3\n",
        "RIGHT 2\n",
        "!\n",
        "```\n",
        "`Output`:\n",
        "```\n",
        "2\n",
        "```"
      ]
    },
    {
      "cell_type": "code",
      "execution_count": null,
      "metadata": {
        "id": "6UNMC2aR4w5x"
      },
      "outputs": [],
      "source": [
        "import math\n",
        "# input taking\n",
        "x = int(input('enter x cordinate: '))\n",
        "y = int(input('enter y cordinate: '))\n",
        "\n",
        "# current position\n",
        "c1 =0\n",
        "c2 = 0\n",
        "\n",
        "#formula\n",
        "distance = math.sqrt((x-c)*2+ (y-c)*2)"
      ]
    },
    {
      "cell_type": "markdown",
      "metadata": {
        "id": "3fsAIAhK5GYY"
      },
      "source": [
        "###`Problem 13`:Write a program to print whether a given number is a prime number or not"
      ]
    },
    {
      "cell_type": "code",
      "execution_count": null,
      "metadata": {
        "id": "j6y91lxy5LZs"
      },
      "outputs": [],
      "source": [
        "# Write code here"
      ]
    },
    {
      "cell_type": "markdown",
      "metadata": {
        "id": "asAbmbK-5NHv"
      },
      "source": [
        "###`Problem 14`:Print all the Armstrong numbers in a given range.\n",
        "Range will be provided by the user<br>\n",
        "Armstrong number is a number that is equal to the sum of cubes of its digits. For example 0, 1, 153, 370, 371 and 407 are the Armstrong numbers."
      ]
    },
    {
      "cell_type": "code",
      "execution_count": null,
      "metadata": {
        "id": "PZuI67pm5jCT"
      },
      "outputs": [],
      "source": [
        "# Write code here"
      ]
    },
    {
      "cell_type": "markdown",
      "metadata": {
        "id": "ClCQZMqT7gK0"
      },
      "source": [
        "###`Problem 14`:Calculate the angle between the hour hand and minute hand.\n",
        "\n",
        "Note: There can be two angles between hands; we need to print a minimum of two. Also, we need to print the floor of the final result angle. For example, if the final angle is 10.61, we need to print 10.\n",
        "\n",
        "Input:<br>\n",
        "H = 9 , M = 0<br>\n",
        "Output:<br>\n",
        "90<br>\n",
        "Explanation:<br>\n",
        "The minimum angle between hour and minute\n",
        "hand when the time is 9 is 90 degress."
      ]
    },
    {
      "cell_type": "code",
      "execution_count": null,
      "metadata": {
        "id": "tNBTCZML7jy_"
      },
      "outputs": [],
      "source": [
        "# Write code here"
      ]
    },
    {
      "cell_type": "markdown",
      "metadata": {
        "id": "GwacF9Co72Qc"
      },
      "source": [
        "###`Problem 15`:Given two rectangles, find if the given two rectangles overlap or not. A rectangle is denoted by providing the x and y coordinates of two points: the left top corner and the right bottom corner of the rectangle. Two rectangles sharing a side are considered overlapping. (L1 and R1 are the extreme points of the first rectangle and L2 and R2 are the extreme points of the second rectangle).\n",
        "\n",
        "Note: It may be assumed that the rectangles are parallel to the coordinate axis.\n",
        "\n",
        "<img src='https://www.geeksforgeeks.org/wp-content/uploads/rectanglesOverlap.png' width='300' height='200'>"
      ]
    },
    {
      "cell_type": "code",
      "execution_count": null,
      "metadata": {
        "id": "6rrw_lpH78Rs"
      },
      "outputs": [],
      "source": [
        "# Write code here"
      ]
    }
  ],
  "metadata": {
    "colab": {
      "provenance": []
    },
    "kernelspec": {
      "display_name": "Python 3",
      "name": "python3"
    },
    "language_info": {
      "name": "python"
    }
  },
  "nbformat": 4,
  "nbformat_minor": 0
}
{
  "nbformat": 4,
  "nbformat_minor": 0,
  "metadata": {
    "colab": {
      "provenance": [],
      "authorship_tag": "ABX9TyOztcm26tz65Z48cpLuopin",
      "include_colab_link": true
    },
    "kernelspec": {
      "name": "python3",
      "display_name": "Python 3"
    },
    "language_info": {
      "name": "python"
    }
  },
  "cells": [
    {
      "cell_type": "markdown",
      "metadata": {
        "id": "view-in-github",
        "colab_type": "text"
      },
      "source": [
        "<a href=\"https://colab.research.google.com/github/fouziasharkar/Python-Code/blob/main/create_dictionary_of_Upper_Case_and_Lower_Case_characters.ipynb\" target=\"_parent\"><img src=\"https://colab.research.google.com/assets/colab-badge.svg\" alt=\"Open In Colab\"/></a>"
      ]
    },
    {
      "cell_type": "code",
      "execution_count": 2,
      "metadata": {
        "colab": {
          "base_uri": "https://localhost:8080/"
        },
        "id": "CLnqpikLoUNw",
        "outputId": "2aacf7e7-3007-4a09-f3f4-89835355ec3d"
      },
      "outputs": [
        {
          "output_type": "stream",
          "name": "stdout",
          "text": [
            "Enter your string: Hi Universe I am here to submit\n",
            "{'Upper_count': 3, 'lower_count': 28}\n"
          ]
        }
      ],
      "source": [
        "string = input('Enter your string: ')\n",
        "upper = 0\n",
        "lower = 0\n",
        "for i in string:\n",
        "  if i.isupper():\n",
        "    upper+=1\n",
        "  else:\n",
        "    lower+=1\n",
        "\n",
        "dic = {'Upper_count':upper,\n",
        "       'lower_count':lower\n",
        "       }\n",
        "\n",
        "print(dic)"
      ]
    }
  ]
}
{
  "nbformat": 4,
  "nbformat_minor": 0,
  "metadata": {
    "colab": {
      "provenance": [],
      "authorship_tag": "ABX9TyN/cv9XLZmSdyeMQ5JwewwE",
      "include_colab_link": true
    },
    "kernelspec": {
      "name": "python3",
      "display_name": "Python 3"
    },
    "language_info": {
      "name": "python"
    }
  },
  "cells": [
    {
      "cell_type": "markdown",
      "metadata": {
        "id": "view-in-github",
        "colab_type": "text"
      },
      "source": [
        "<a href=\"https://colab.research.google.com/github/fouziasharkar/Python-Code/blob/main/menu_driven_program_in_Python.ipynb\" target=\"_parent\"><img src=\"https://colab.research.google.com/assets/colab-badge.svg\" alt=\"Open In Colab\"/></a>"
      ]
    },
    {
      "cell_type": "markdown",
      "source": [
        "Write a menu-driven program -\n",
        "\n",
        "1.cm to ft\n",
        "\n",
        "2.km to miles\n",
        "\n",
        "3.USD to INR\n",
        "\n",
        "4.exit"
      ],
      "metadata": {
        "id": "F2mWVNn5YkDT"
      }
    },
    {
      "cell_type": "code",
      "execution_count": 1,
      "metadata": {
        "colab": {
          "base_uri": "https://localhost:8080/"
        },
        "id": "f8FrOnzjXtfv",
        "outputId": "d400d123-da43-422b-ac18-af072a4350a8"
      },
      "outputs": [
        {
          "output_type": "stream",
          "name": "stdout",
          "text": [
            "\n",
            "Menu:\n",
            "1. Convert centimeters to feet\n",
            "2. Convert kilometers to miles\n",
            "3. Convert USD to INR\n",
            "4. Exit\n",
            "\n",
            "enter a number: 5\n",
            "Invalid Input. Please enter a valid option 1/2/3/4\n",
            "enter a number: 4\n",
            "please click exit button\n"
          ]
        }
      ],
      "source": [
        "print(\"\\nMenu:\")\n",
        "print(\"1. Convert centimeters to feet\")\n",
        "print(\"2. Convert kilometers to miles\")\n",
        "print(\"3. Convert USD to INR\")\n",
        "print(\"4. Exit\")\n",
        "print()\n",
        "while True:\n",
        "    n = int(input('enter a number: '))\n",
        "\n",
        "    if n == 1:\n",
        "      cm = float(input('enter a number: '))\n",
        "      ft = cm / 30.48 #cm-ft\n",
        "      print(ft)\n",
        "      #break\n",
        "    elif n==2:\n",
        "      k = float(input('enter a number: '))\n",
        "      m = k * (0.621371) #km-mile\n",
        "      print(m)\n",
        "      #break\n",
        "    elif n==3:\n",
        "      usd = float(input('enter a number: '))\n",
        "      inr = usd * (83.49) #usd to inr\n",
        "      print(inr)\n",
        "      #break\n",
        "    elif n==4:\n",
        "      print('please click exit button')\n",
        "      break\n",
        "    else:\n",
        "      print('Invalid Input. Please enter a valid option 1/2/3/4')"
      ]
    }
  ]
}
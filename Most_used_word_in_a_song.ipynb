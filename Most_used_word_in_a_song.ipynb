{
  "nbformat": 4,
  "nbformat_minor": 0,
  "metadata": {
    "colab": {
      "provenance": [],
      "authorship_tag": "ABX9TyMsHCzPKSR2k7SKB0KJI92+",
      "include_colab_link": true
    },
    "kernelspec": {
      "name": "python3",
      "display_name": "Python 3"
    },
    "language_info": {
      "name": "python"
    }
  },
  "cells": [
    {
      "cell_type": "markdown",
      "metadata": {
        "id": "view-in-github",
        "colab_type": "text"
      },
      "source": [
        "<a href=\"https://colab.research.google.com/github/fouziasharkar/Python-Code/blob/main/Most_used_word_in_a_song.ipynb\" target=\"_parent\"><img src=\"https://colab.research.google.com/assets/colab-badge.svg\" alt=\"Open In Colab\"/></a>"
      ]
    },
    {
      "cell_type": "code",
      "execution_count": 1,
      "metadata": {
        "id": "NIYuvUAeI-oN"
      },
      "outputs": [],
      "source": [
        "song = '''Kal Rat Aya Mere Ghar Ek Chor\n",
        "\n",
        "Aake Bola Dede Mujhe Jo Bhi Tera Hai\n",
        "\n",
        "Maine Bola, Mera Nam Bhi Le Ja Mera Kam Bhi Le Ja,\n",
        "\n",
        "Mera Ram Bhi Le Ja Mera Shyam Bhi Le Ja,\n",
        "\n",
        "Kal Rat Aya Mere Ghar Ek Chor\n",
        "\n",
        "Aake Bola Dede Mujhe Jo Bhi Tera Hai\n",
        "\n",
        "Maine Bola Meri Jeet Bhi Le Ja Meri Har Bhi Le Ja,\n",
        "\n",
        "Mera Dar Bhi Le Ja Mera Ghar Bhi Le Ja,\n",
        "\n",
        "Mere Khwab Bhi Le Ja Mere Raz Bhi Le Ja,\n",
        "\n",
        "Mera Gham Bhi Le Ja Har Zakham Bhi Le Ja,\n",
        "\n",
        "Meri Zat Bhi Le Ja Auqat Bhi Le Ja,\n",
        "\n",
        "Meri Bat Bhi Le Ja Halat Bhi Le Ja,\n",
        "\n",
        "Le Ja Mera Jo Bhi Dikhe, Jo Na Dikhe Woh Bhi Le Ja,\n",
        "\n",
        "Kal Rat Aya Mere Ghar Ek Chor\n",
        "\n",
        "Aake Bola Dede Mujhe Jo Bhi Tera Hai\n",
        "\n",
        "Maine Bola, Mera Nam Bhi Le Ja Mera Kam Bhi Le Ja,\n",
        "\n",
        "Mera Ram Bhi Le Ja Mera Shyam Bhi Le Ja,\n",
        "\n",
        "Meri Jeet Bhi Le Ja Meri Har Bhi Le Ja,\n",
        "\n",
        "Mera Dar Bhi Le Ja Mera Ghar Bhi Le Ja,\n",
        "\n",
        "Meri Zat Bhi Le Ja Auqat Bhi Le Ja,\n",
        "\n",
        "Meri Bat Bhi Le Ja Halat Bhi Le Ja,\n",
        "\n",
        "Mera Nam Bhi Le Ja Mera Kam Bhi Le Ja,\n",
        "\n",
        "Mera Ram Bhi Le Ja Mera Shyam Bhi Le Ja,\n",
        "\n",
        "Kar De Mujhe Azad, Kar De Mujhe Azad, Aazad Azad,\n",
        "\n",
        "Kal Rat Aya Mere Ghar Ek Chor '''"
      ]
    },
    {
      "cell_type": "code",
      "source": [
        "s = song.split()\n",
        "dic = {}\n",
        "for i in s:\n",
        "    if i not in dic:\n",
        "        count = s.count(i)\n",
        "        dic[i] = count\n",
        "\n",
        "# Find the maximum count in the dictionary\n",
        "max_value = max(dic.values())\n",
        "\n",
        "for i in dic:\n",
        "  if dic[i]==max_value:\n",
        "    print(i,max_value)\n",
        "\n",
        "#print(max_value)"
      ],
      "metadata": {
        "colab": {
          "base_uri": "https://localhost:8080/"
        },
        "id": "OuAepl0RJHyY",
        "outputId": "2f833fde-c608-4591-e698-b6781d8d0e95"
      },
      "execution_count": 3,
      "outputs": [
        {
          "output_type": "stream",
          "name": "stdout",
          "text": [
            "Bhi 37\n"
          ]
        }
      ]
    }
  ]
}
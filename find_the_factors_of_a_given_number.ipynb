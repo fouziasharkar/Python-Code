{
  "nbformat": 4,
  "nbformat_minor": 0,
  "metadata": {
    "colab": {
      "provenance": [],
      "authorship_tag": "ABX9TyOiZ1WC/y1Ra25zgYMfu/L/",
      "include_colab_link": true
    },
    "kernelspec": {
      "name": "python3",
      "display_name": "Python 3"
    },
    "language_info": {
      "name": "python"
    }
  },
  "cells": [
    {
      "cell_type": "markdown",
      "metadata": {
        "id": "view-in-github",
        "colab_type": "text"
      },
      "source": [
        "<a href=\"https://colab.research.google.com/github/fouziasharkar/Python-Code/blob/main/find_the_factors_of_a_given_number.ipynb\" target=\"_parent\"><img src=\"https://colab.research.google.com/assets/colab-badge.svg\" alt=\"Open In Colab\"/></a>"
      ]
    },
    {
      "cell_type": "code",
      "execution_count": 2,
      "metadata": {
        "colab": {
          "base_uri": "https://localhost:8080/"
        },
        "id": "bCIrovCBn78N",
        "outputId": "2175c77d-a2a7-4e16-8973-7b82f68f7ab4"
      },
      "outputs": [
        {
          "output_type": "stream",
          "name": "stdout",
          "text": [
            "Enter a number: 56\n",
            "Your factors are: 1\n",
            "Your factors are: 2\n",
            "Your factors are: 4\n",
            "Your factors are: 7\n",
            "Your factors are: 8\n",
            "Your factors are: 14\n",
            "Your factors are: 28\n",
            "Your factors are: 56\n"
          ]
        }
      ],
      "source": [
        "num = int(input('Enter a number: '))\n",
        "\n",
        "for i in range(1,num+1):\n",
        "  if num%i==0:\n",
        "    print('Your factors are:',i)"
      ]
    }
  ]
}
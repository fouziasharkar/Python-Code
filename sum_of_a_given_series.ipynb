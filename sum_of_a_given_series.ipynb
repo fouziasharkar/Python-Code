{
  "nbformat": 4,
  "nbformat_minor": 0,
  "metadata": {
    "colab": {
      "provenance": [],
      "authorship_tag": "ABX9TyOR9p0YeUrQEhw1DOSGFPIb",
      "include_colab_link": true
    },
    "kernelspec": {
      "name": "python3",
      "display_name": "Python 3"
    },
    "language_info": {
      "name": "python"
    }
  },
  "cells": [
    {
      "cell_type": "markdown",
      "metadata": {
        "id": "view-in-github",
        "colab_type": "text"
      },
      "source": [
        "<a href=\"https://colab.research.google.com/github/fouziasharkar/Python-Code/blob/main/sum_of_a_given_series.ipynb\" target=\"_parent\"><img src=\"https://colab.research.google.com/assets/colab-badge.svg\" alt=\"Open In Colab\"/></a>"
      ]
    },
    {
      "cell_type": "code",
      "execution_count": 1,
      "metadata": {
        "colab": {
          "base_uri": "https://localhost:8080/"
        },
        "id": "Z8NMUl5yrZ49",
        "outputId": "a5c21cc5-b0b1-4a04-d562-73129d0ca1fe"
      },
      "outputs": [
        {
          "output_type": "stream",
          "name": "stdout",
          "text": [
            "Enter a number: 5\n",
            "2.708333333333333\n"
          ]
        }
      ],
      "source": [
        "#1/1!+2/2!+...n\n",
        "num = int(input('Enter a number: '))\n",
        "sum = 0\n",
        "fact = 1\n",
        "\n",
        "for i in range(1,num+1):\n",
        "  fact = fact*i\n",
        "  sum = sum+ (i/fact)\n",
        "\n",
        "print(sum)"
      ]
    },
    {
      "cell_type": "code",
      "source": [
        "#(x-1/x)+1/2((x-1)/x)**2+1/2((x-1)/x)**3+...\n",
        "x = int(input('enter a number: '))\n",
        "sum = (x-1)/x\n",
        "for i in range(2,8):\n",
        "  sum+= 0.5*((x-1)/x)**i\n",
        "print(sum)"
      ],
      "metadata": {
        "colab": {
          "base_uri": "https://localhost:8080/"
        },
        "id": "0wiWTPlBu3A4",
        "outputId": "0854e5d3-cba3-4cdd-9fd3-10f9c8783435"
      },
      "execution_count": 3,
      "outputs": [
        {
          "output_type": "stream",
          "name": "stdout",
          "text": [
            "enter a number: 4\n",
            "1.674774169921875\n"
          ]
        }
      ]
    }
  ]
}
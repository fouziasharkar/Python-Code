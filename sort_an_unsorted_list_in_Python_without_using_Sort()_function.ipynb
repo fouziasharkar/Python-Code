{
  "nbformat": 4,
  "nbformat_minor": 0,
  "metadata": {
    "colab": {
      "provenance": [],
      "authorship_tag": "ABX9TyPsOJ7W01+TdVwz9pdLKsqd",
      "include_colab_link": true
    },
    "kernelspec": {
      "name": "python3",
      "display_name": "Python 3"
    },
    "language_info": {
      "name": "python"
    }
  },
  "cells": [
    {
      "cell_type": "markdown",
      "metadata": {
        "id": "view-in-github",
        "colab_type": "text"
      },
      "source": [
        "<a href=\"https://colab.research.google.com/github/fouziasharkar/Python-Code/blob/main/sort_an_unsorted_list_in_Python_without_using_Sort()_function.ipynb\" target=\"_parent\"><img src=\"https://colab.research.google.com/assets/colab-badge.svg\" alt=\"Open In Colab\"/></a>"
      ]
    },
    {
      "cell_type": "code",
      "execution_count": 7,
      "metadata": {
        "colab": {
          "base_uri": "https://localhost:8080/"
        },
        "id": "5lCuEMg_wMQo",
        "outputId": "28e3a89f-0fe9-4918-ddb0-1c4ea6caff15"
      },
      "outputs": [
        {
          "output_type": "stream",
          "name": "stdout",
          "text": [
            "[2, 3, 4, 5, 6, 7]\n"
          ]
        }
      ],
      "source": [
        "l =[5,2,3,6,4,7]\n",
        "\n",
        "for i in range(len(l)):\n",
        "  #print(i)\n",
        "  for j in range(0,len(l)-1):\n",
        "    if l[j]>l[j+1]:\n",
        "      temp = l[j]\n",
        "      l[j]=l[j+1]\n",
        "      l[j+1]=temp\n",
        "\n",
        "print(l)"
      ]
    }
  ]
}